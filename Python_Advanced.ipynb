{
  "nbformat": 4,
  "nbformat_minor": 0,
  "metadata": {
    "colab": {
      "provenance": [],
      "authorship_tag": "ABX9TyMD1Ql6sQJ7gmAk+ZdM73o4",
      "include_colab_link": true
    },
    "kernelspec": {
      "name": "python3",
      "display_name": "Python 3"
    },
    "language_info": {
      "name": "python"
    }
  },
  "cells": [
    {
      "cell_type": "markdown",
      "metadata": {
        "id": "view-in-github",
        "colab_type": "text"
      },
      "source": [
        "<a href=\"https://colab.research.google.com/github/heloisafr/python/blob/main/Python_Advanced.ipynb\" target=\"_parent\"><img src=\"https://colab.research.google.com/assets/colab-badge.svg\" alt=\"Open In Colab\"/></a>"
      ]
    },
    {
      "cell_type": "markdown",
      "source": [
        "# Advanced Pyhton\n",
        "\n",
        "Some topic here are superficial, such as: Datetime, Json"
      ],
      "metadata": {
        "id": "w-P0PS4wMAQM"
      }
    },
    {
      "cell_type": "markdown",
      "source": [
        "# Iterators\n",
        "\n",
        "An iterator is an object that contains a countable number of values.\n",
        "\n",
        "An iterator is an object that can be iterated upon, meaning that you can traverse through all the values.\n",
        "\n",
        "Technically, in Python, an iterator is an object which implements the iterator protocol, which consist of the methods `__iter__()` and `__next__()`.\n",
        "\n",
        "Fonte:\n",
        " * https://python.land/deep-dives/python-iterator\n",
        " * https://www.w3schools.com/python/python_iterators.asp\n"
      ],
      "metadata": {
        "id": "kbCyuTZNkj1f"
      }
    },
    {
      "cell_type": "markdown",
      "source": [
        "Lists, tuples, dictionaries, Sets, Range and  Strings are all iterable objects.\n",
        "\n",
        "All these objects have a `iter()` method which is used to get an iterator"
      ],
      "metadata": {
        "id": "v16yUVYqlACJ"
      }
    },
    {
      "cell_type": "code",
      "source": [
        "mytuple = (\"apple\", \"banana\", \"cherry\")\n",
        "myit = iter(mytuple)\n",
        "\n",
        "print(next(myit))\n",
        "print(next(myit))\n",
        "print(next(myit))\n",
        "\n",
        "mystr = \"uva\"\n",
        "myit = iter(mystr)\n",
        "\n",
        "print(next(myit))\n",
        "print(next(myit))\n",
        "print(next(myit))"
      ],
      "metadata": {
        "colab": {
          "base_uri": "https://localhost:8080/"
        },
        "id": "rBUSVnTsky3l",
        "outputId": "a5e1d014-e101-4216-83c5-206d6c3e6626"
      },
      "execution_count": null,
      "outputs": [
        {
          "output_type": "stream",
          "name": "stdout",
          "text": [
            "apple\n",
            "banana\n",
            "cherry\n",
            "u\n",
            "v\n",
            "a\n"
          ]
        }
      ]
    },
    {
      "cell_type": "markdown",
      "source": [
        "## Create a Iterator\n",
        "\n",
        "The `__iter__()` method acts similar, you can do operations (initializing etc.), but must always return the iterator object itself.\n",
        "\n",
        "The `__next__()` method also allows you to do operations, and must return the next item in the sequence"
      ],
      "metadata": {
        "id": "Qsx9pUaflfFG"
      }
    },
    {
      "cell_type": "code",
      "source": [
        "class MyCounter:\n",
        "  def __iter__(self):\n",
        "    self.a = 1\n",
        "    return self\n",
        "\n",
        "  def __next__(self):\n",
        "    x = self.a\n",
        "    self.a += 1\n",
        "    return x\n",
        "\n",
        "myclass = MyCounter()\n",
        "myiter = iter(myclass)\n",
        "\n",
        "print(next(myiter))\n",
        "print(next(myiter))\n",
        "print(next(myiter))\n",
        "print(next(myiter))\n",
        "print(next(myiter))"
      ],
      "metadata": {
        "colab": {
          "base_uri": "https://localhost:8080/"
        },
        "id": "swAV9fIHlkGV",
        "outputId": "83f81ed4-1e5b-4d4e-a033-b8c90f98a7e2"
      },
      "execution_count": null,
      "outputs": [
        {
          "output_type": "stream",
          "name": "stdout",
          "text": [
            "1\n",
            "2\n",
            "3\n",
            "4\n",
            "5\n"
          ]
        }
      ]
    },
    {
      "cell_type": "markdown",
      "source": [
        "To prevent the iteration from going on forever, we can use the **StopIteration** statement."
      ],
      "metadata": {
        "id": "YUCJYN0VmiRm"
      }
    },
    {
      "cell_type": "code",
      "source": [
        "class MyNumbers:\n",
        "  def __iter__(self):\n",
        "    self.a = 1\n",
        "    return self\n",
        "\n",
        "  def __next__(self):\n",
        "    if self.a <= 10:\n",
        "      x = self.a\n",
        "      self.a += 1\n",
        "      return x\n",
        "    else:\n",
        "      raise StopIteration\n",
        "\n",
        "myclass = MyNumbers()\n",
        "myiter = iter(myclass)\n",
        "\n",
        "for x in myiter:\n",
        "  print(x)"
      ],
      "metadata": {
        "colab": {
          "base_uri": "https://localhost:8080/"
        },
        "id": "CRL0xENvliDL",
        "outputId": "1d8b1039-9dbd-499e-991b-bd11d0664408"
      },
      "execution_count": null,
      "outputs": [
        {
          "output_type": "stream",
          "name": "stdout",
          "text": [
            "1\n",
            "2\n",
            "3\n",
            "4\n",
            "5\n",
            "6\n",
            "7\n",
            "8\n",
            "9\n",
            "10\n"
          ]
        }
      ]
    },
    {
      "cell_type": "markdown",
      "source": [
        "# Modules"
      ],
      "metadata": {
        "id": "PJULhgltEM1U"
      }
    },
    {
      "cell_type": "code",
      "source": [
        "# Importando um modulo do pyhton como exemplo\n",
        "# platform:  Access to platform’s identifying data\n",
        "import platform\n",
        "\n",
        "x = platform.system()\n",
        "print(x)"
      ],
      "metadata": {
        "colab": {
          "base_uri": "https://localhost:8080/"
        },
        "id": "H_nnFBxbEOtE",
        "outputId": "1999f416-a259-4f7d-bbaf-afab0a026801"
      },
      "execution_count": null,
      "outputs": [
        {
          "output_type": "stream",
          "name": "stdout",
          "text": [
            "Linux\n"
          ]
        }
      ]
    },
    {
      "cell_type": "code",
      "source": [
        "# list all the function names (or variable names) in a module\n",
        "dir(platform)[0:10]"
      ],
      "metadata": {
        "colab": {
          "base_uri": "https://localhost:8080/"
        },
        "id": "KHyp3B0-Fhxy",
        "outputId": "4b78e862-fda0-4e65-d754-9254a3758a96"
      },
      "execution_count": null,
      "outputs": [
        {
          "output_type": "execute_result",
          "data": {
            "text/plain": [
              "['_Processor',\n",
              " '_WIN32_CLIENT_RELEASES',\n",
              " '_WIN32_SERVER_RELEASES',\n",
              " '__builtins__',\n",
              " '__cached__',\n",
              " '__copyright__',\n",
              " '__doc__',\n",
              " '__file__',\n",
              " '__loader__',\n",
              " '__name__']"
            ]
          },
          "metadata": {},
          "execution_count": 5
        }
      ]
    },
    {
      "cell_type": "markdown",
      "source": [
        "# Datetime\n",
        "\n",
        "https://docs.python.org/3/library/datetime.html\n",
        "\n",
        "https://www.w3schools.com/python/python_datetime.asp"
      ],
      "metadata": {
        "id": "GnGUHB8cGU3H"
      }
    },
    {
      "cell_type": "code",
      "source": [
        "import datetime\n",
        "\n",
        "x = datetime.datetime.now()\n",
        "print(x)\n",
        "print(x.year, type(x.year))\n",
        "print(x.strftime(\"%Y\"), type(x.strftime(\"%Y\")))"
      ],
      "metadata": {
        "colab": {
          "base_uri": "https://localhost:8080/"
        },
        "id": "hHrl-eJKGUN5",
        "outputId": "37109034-19b1-4b81-cc01-93c171686e25"
      },
      "execution_count": null,
      "outputs": [
        {
          "output_type": "stream",
          "name": "stdout",
          "text": [
            "2024-05-17 01:12:24.530997\n",
            "2024 <class 'int'>\n",
            "2024 <class 'str'>\n"
          ]
        }
      ]
    },
    {
      "cell_type": "markdown",
      "source": [
        "## Create Date Objects"
      ],
      "metadata": {
        "id": "NxIOSgOmG8JV"
      }
    },
    {
      "cell_type": "code",
      "source": [
        "x = datetime.datetime(2020, 5, 17)\n",
        "print(x)\n",
        "\n",
        "x = datetime.datetime(2020, 5, 17, 1, 15, 30)\n",
        "print(x)"
      ],
      "metadata": {
        "colab": {
          "base_uri": "https://localhost:8080/"
        },
        "id": "jO-YURDpHAb5",
        "outputId": "4d11bd7a-c7bd-4ffc-b84f-3291d37d4a87"
      },
      "execution_count": null,
      "outputs": [
        {
          "output_type": "stream",
          "name": "stdout",
          "text": [
            "2020-05-17 00:00:00\n",
            "2020-05-17 01:15:30\n"
          ]
        }
      ]
    },
    {
      "cell_type": "markdown",
      "source": [
        "## Formating Date"
      ],
      "metadata": {
        "id": "OZJnE-xQHVxs"
      }
    },
    {
      "cell_type": "code",
      "source": [
        "x = datetime.datetime.fromisoformat('2011-11-04T00:05:23+04:00')\n",
        "print(\"Weekday, short version\", x.strftime(\"%a\"))\n",
        "print(\"Weekday, full version\", x.strftime(\"%A\"))\n",
        "print(\"Weekday as a number 0-6, 0 is Sunday\", x.strftime(\"%w\"))\n",
        "print(\"ISO 8601 weekday (1-7)\", x.strftime(\"%u\"))\n",
        "print(\"Day of month 01-31\", x.strftime(\"%d\"))\n",
        "print(\"Month name, short version\", x.strftime(\"%b\"))\n",
        "print(\"Month name, full version\", x.strftime(\"%B\"))\n",
        "print(\"Month as a number 01-12\", x.strftime(\"%m\"))\n",
        "print(\"Year, short version, without century\", x.strftime(\"%y\"))\n",
        "print(\"Year, full version\", x.strftime(\"%Y\"))\n",
        "print(\"ISO 8601 year\", x.strftime(\"%G\"))\n",
        "print(\"Hour 00-23\", x.strftime(\"%H\"))\n",
        "print(\"Hour 00-12\", x.strftime(\"%I\"))\n",
        "print(\"AM/PM\", x.strftime(\"%p\"))\n",
        "print(\"Minute 00-59\", x.strftime(\"%M\"))\n",
        "print(\"Second 00-59\", x.strftime(\"%S\"))\n",
        "print(\"Microsecond 000000-999999\", x.strftime(\"%f\"))"
      ],
      "metadata": {
        "colab": {
          "base_uri": "https://localhost:8080/"
        },
        "id": "SuZDtzhDHYAK",
        "outputId": "bc033860-8e7a-4623-e6c2-ab1b06f4c7be"
      },
      "execution_count": null,
      "outputs": [
        {
          "output_type": "stream",
          "name": "stdout",
          "text": [
            "Weekday, short version Fri\n",
            "Weekday, full version Friday\n",
            "Weekday as a number 0-6, 0 is Sunday 5\n",
            "ISO 8601 weekday (1-7) 5\n",
            "Day of month 01-31 04\n",
            "Month name, short version Nov\n",
            "Month name, full version November\n",
            "Month as a number 01-12 11\n",
            "Year, short version, without century 11\n",
            "Year, full version 2011\n",
            "ISO 8601 year 2011\n",
            "Hour 00-23 00\n",
            "Hour 00-12 12\n",
            "AM/PM AM\n",
            "Minute 00-59 05\n",
            "Second 00-59 23\n",
            "Microsecond 000000-999999 000000\n"
          ]
        }
      ]
    },
    {
      "cell_type": "code",
      "source": [
        "print(\"Century\", x.strftime(\"%C\"))\n",
        "print(\"Day number of year 001-366\", x.strftime(\"%j\"))\n",
        "print(\"Week number of year, Sunday as the first day of week, 00-53\", x.strftime(\"%U\"))\n",
        "print(\"Week number of year, Monday as the first day of week, 00-53\", x.strftime(\"%W\"))\n",
        "print(\"ISO 8601 weeknumber (01-53)\", x.strftime(\"%V\"))\n",
        "print(\"UTC offset\", x.strftime(\"%z\"))\n",
        "print(\"Timezone\", x.strftime(\"%Z\"))\n",
        "print(\"Local version of date and time\", x.strftime(\"%c\"))\n",
        "print(\"Local version of date\", x.strftime(\"%x\"))\n",
        "print(\"Local version of time\", x.strftime(\"%X\"))\n",
        "print(\"The caracter %\", x.strftime(\"%%\"))"
      ],
      "metadata": {
        "colab": {
          "base_uri": "https://localhost:8080/"
        },
        "id": "7WEAtuk2Iyju",
        "outputId": "2c3b5332-f0c4-44a5-9658-d60ec35b5d2d"
      },
      "execution_count": null,
      "outputs": [
        {
          "output_type": "stream",
          "name": "stdout",
          "text": [
            "Century 20\n",
            "Day number of year 001-366 308\n",
            "Week number of year, Sunday as the first day of week, 00-53 44\n",
            "Week number of year, Monday as the first day of week, 00-53 44\n",
            "ISO 8601 weeknumber (01-53) 44\n",
            "UTC offset +0400\n",
            "Timezone UTC+04:00\n",
            "Local version of date and time Fri Nov  4 00:05:23 2011\n",
            "Local version of date 11/04/11\n",
            "Local version of time 00:05:23\n",
            "The caracter % %\n"
          ]
        }
      ]
    },
    {
      "cell_type": "markdown",
      "source": [
        "# Python Math\n",
        "\n",
        "Since are 63 buil-in functions, here we have some examples\n",
        "\n",
        "https://www.w3schools.com/python/module_math.asp"
      ],
      "metadata": {
        "id": "20wIUkFaMXuW"
      }
    },
    {
      "cell_type": "code",
      "source": [
        "import math\n",
        "\n",
        "len(dir(math))"
      ],
      "metadata": {
        "colab": {
          "base_uri": "https://localhost:8080/"
        },
        "id": "DRtIt_utMgq-",
        "outputId": "03c2ab83-1707-4b08-d15f-d841cca302c0"
      },
      "execution_count": null,
      "outputs": [
        {
          "output_type": "execute_result",
          "data": {
            "text/plain": [
              "63"
            ]
          },
          "metadata": {},
          "execution_count": 2
        }
      ]
    },
    {
      "cell_type": "markdown",
      "source": [
        "### Rounding Numbers"
      ],
      "metadata": {
        "id": "_7BuWJBlMzCM"
      }
    },
    {
      "cell_type": "code",
      "source": [
        "x = math.ceil(1.4)\n",
        "y = math.floor(1.4)\n",
        "z = round(1.4)\n",
        "\n",
        "print('1.4')\n",
        "print('ceil', x)\n",
        "print('floor', y)\n",
        "print('round', z)\n",
        "\n",
        "x = math.ceil(1.5)\n",
        "y = math.floor(1.5)\n",
        "z = round(1.5)\n",
        "\n",
        "print('\\n1.5')\n",
        "print('ceil', x)\n",
        "print('floor', y)\n",
        "print('round', z)\n",
        "\n",
        "x = math.ceil(1.6)\n",
        "y = math.floor(1.6)\n",
        "z = round(1.6)\n",
        "\n",
        "print('\\n1.6')\n",
        "print('ceil', x)\n",
        "print('floor', y)\n",
        "print('round', z)"
      ],
      "metadata": {
        "colab": {
          "base_uri": "https://localhost:8080/"
        },
        "id": "9l5HJ0rrNA1K",
        "outputId": "602f2ba5-3b67-4d77-adb9-09036e4e29c1"
      },
      "execution_count": null,
      "outputs": [
        {
          "output_type": "stream",
          "name": "stdout",
          "text": [
            "1.4\n",
            "ceil 2\n",
            "floor 1\n",
            "round 1\n",
            "\n",
            "1.5\n",
            "ceil 2\n",
            "floor 1\n",
            "round 2\n",
            "\n",
            "1.6\n",
            "ceil 2\n",
            "floor 1\n",
            "round 2\n"
          ]
        }
      ]
    },
    {
      "cell_type": "markdown",
      "source": [
        "### Math.fsum\n",
        "\n",
        "Returns the sum of all items in any iterable (tuples, arrays, lists, etc.)"
      ],
      "metadata": {
        "id": "n9B7e9TWZKzx"
      }
    },
    {
      "cell_type": "code",
      "source": [
        "# Returns the sum of all items in any iterable (tuples, arrays, lists, etc.)\n",
        "x = [1,2,3,4]\n",
        "math.fsum(x)"
      ],
      "metadata": {
        "colab": {
          "base_uri": "https://localhost:8080/"
        },
        "id": "vK5OkQF0WGzl",
        "outputId": "035a9f48-c1e3-4613-c076-6848c31cb0fa"
      },
      "execution_count": null,
      "outputs": [
        {
          "output_type": "execute_result",
          "data": {
            "text/plain": [
              "10.0"
            ]
          },
          "metadata": {},
          "execution_count": 6
        }
      ]
    },
    {
      "cell_type": "markdown",
      "source": [
        "### Math.floor x Modulo x Divmod\n",
        "\n",
        "The official Python docs suggest using math.fmod() over the Python modulo operator when working with float values because of the way math.fmod() calculates the result of the modulo operation.\n",
        "\n",
        "https://realpython.com/python-modulo-operator/#python-modulo-operator-basics"
      ],
      "metadata": {
        "id": "Vch1vBxBX_cJ"
      }
    },
    {
      "cell_type": "code",
      "source": [
        "print(math.fmod(7, 2))\n",
        "print(7 % 2)\n",
        "print(divmod(7, 2)) # Returns the result of division and the modulo"
      ],
      "metadata": {
        "colab": {
          "base_uri": "https://localhost:8080/"
        },
        "id": "1PyO16NrWkF_",
        "outputId": "967b73e4-2dd5-428a-ca88-23732a212f26"
      },
      "execution_count": null,
      "outputs": [
        {
          "output_type": "stream",
          "name": "stdout",
          "text": [
            "1.0\n",
            "1\n",
            "(3, 1)\n"
          ]
        }
      ]
    },
    {
      "cell_type": "markdown",
      "source": [],
      "metadata": {
        "id": "xGoSM9v_ZD-J"
      }
    },
    {
      "cell_type": "code",
      "source": [],
      "metadata": {
        "id": "lVjLdkZ3YCWX"
      },
      "execution_count": null,
      "outputs": []
    },
    {
      "cell_type": "markdown",
      "source": [
        "# Json\n",
        "\n",
        "https://www.w3schools.com/python/python_json.asp"
      ],
      "metadata": {
        "id": "Ohy_MQCdZr_5"
      }
    },
    {
      "cell_type": "code",
      "source": [
        "import json"
      ],
      "metadata": {
        "id": "ZgGIzgaSZtnW"
      },
      "execution_count": null,
      "outputs": []
    },
    {
      "cell_type": "markdown",
      "source": [
        "## Parse JSON"
      ],
      "metadata": {
        "id": "K1mAWlqiZ2Qc"
      }
    },
    {
      "cell_type": "code",
      "source": [
        "# String to Json\n",
        "x =  '{\"name\":\"John\", \"age\":30, \"city\":\"New York\"}'\n",
        "y = json.loads(x)\n",
        "print(y)\n",
        "print(type(y))"
      ],
      "metadata": {
        "colab": {
          "base_uri": "https://localhost:8080/"
        },
        "id": "mbtVHD03Z4Oy",
        "outputId": "c789c7bb-cee0-4a46-b2fe-e4e60a122014"
      },
      "execution_count": null,
      "outputs": [
        {
          "output_type": "stream",
          "name": "stdout",
          "text": [
            "{'name': 'John', 'age': 30, 'city': 'New York'}\n",
            "<class 'dict'>\n"
          ]
        }
      ]
    },
    {
      "cell_type": "code",
      "source": [
        "# JSON to String\n",
        "# Use the indent parameter to define the numbers of indents\n",
        "# Use the sort_keys parameter to specify if the result should be sorted or not\n",
        "# Use the separators parameter to change the default separators\n",
        "x = {\n",
        "  \"name\": \"John\",\n",
        "  \"age\": 30,\n",
        "  \"city\": \"New York\"\n",
        "}\n",
        "y = json.dumps(x, indent=4,, sort_keys=True separators=(\", \", \" : \"))\n",
        "print(y)\n",
        "print(type(y))"
      ],
      "metadata": {
        "colab": {
          "base_uri": "https://localhost:8080/"
        },
        "id": "B6a8f4gaZ_63",
        "outputId": "dd7c54cf-e7c8-4cfe-a4a8-8c5e2ddf08fc"
      },
      "execution_count": null,
      "outputs": [
        {
          "output_type": "stream",
          "name": "stdout",
          "text": [
            "{\n",
            "    \"age\" : 30, \n",
            "    \"city\" : \"New York\", \n",
            "    \"name\" : \"John\"\n",
            "}\n",
            "<class 'str'>\n"
          ]
        }
      ]
    },
    {
      "cell_type": "markdown",
      "source": [
        "You can convert Python objects of the following types, into JSON strings:\n",
        "\n",
        "  dict,     list,  tuple,\n",
        "    string,\n",
        "    int,\n",
        "    float,\n",
        "    True,\n",
        "    False,\n",
        "    None"
      ],
      "metadata": {
        "id": "sEkIRyFacOKh"
      }
    },
    {
      "cell_type": "code",
      "source": [
        "print(json.dumps({\"name\": \"John\", \"age\": 30}))\n",
        "print(json.dumps([\"apple\", \"bananas\"]))\n",
        "print(json.dumps((\"apple\", \"bananas\")))\n",
        "print(json.dumps(\"hello\"))\n",
        "print(json.dumps(42))\n",
        "print(json.dumps(31.76))\n",
        "print(json.dumps(True))\n",
        "print(json.dumps(False))\n",
        "print(json.dumps(None))"
      ],
      "metadata": {
        "colab": {
          "base_uri": "https://localhost:8080/"
        },
        "id": "wPtgCgL-a6Wg",
        "outputId": "d9f72add-2484-453f-e367-fe5d336c37d8"
      },
      "execution_count": null,
      "outputs": [
        {
          "output_type": "stream",
          "name": "stdout",
          "text": [
            "{\"name\": \"John\", \"age\": 30}\n",
            "[\"apple\", \"bananas\"]\n",
            "[\"apple\", \"bananas\"]\n",
            "\"hello\"\n",
            "42\n",
            "31.76\n",
            "true\n",
            "false\n",
            "null\n"
          ]
        }
      ]
    }
  ]
}