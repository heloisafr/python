{
  "nbformat": 4,
  "nbformat_minor": 0,
  "metadata": {
    "colab": {
      "provenance": [],
      "toc_visible": true,
      "authorship_tag": "ABX9TyNOf5HRibl45JQhnCFrvEmP",
      "include_colab_link": true
    },
    "kernelspec": {
      "name": "python3",
      "display_name": "Python 3"
    },
    "language_info": {
      "name": "python"
    }
  },
  "cells": [
    {
      "cell_type": "markdown",
      "metadata": {
        "id": "view-in-github",
        "colab_type": "text"
      },
      "source": [
        "<a href=\"https://colab.research.google.com/github/heloisafr/python/blob/main/Python_Fundamentals.ipynb\" target=\"_parent\"><img src=\"https://colab.research.google.com/assets/colab-badge.svg\" alt=\"Open In Colab\"/></a>"
      ]
    },
    {
      "cell_type": "markdown",
      "source": [
        "# Inicio\n",
        "\n",
        "* na formatação ficaram alguns tipos que não achei exemplo no w3school\n",
        "* O que é esse len function que retorna False - exemplo em Boolean\n",
        "\n",
        "Ver como proximo\n",
        "* https://docs.python.org/3/tutorial/index.html\n",
        "* no kindle tem um livro de python do basico ao avançado"
      ],
      "metadata": {
        "id": "rQFfcqcb0MV-"
      }
    },
    {
      "cell_type": "markdown",
      "source": [
        "# Variables\n",
        "\n",
        "Fonte: https://www.w3schools.com/python/python_variables.asp"
      ],
      "metadata": {
        "id": "iDfY_AyqbU4o"
      }
    },
    {
      "cell_type": "code",
      "source": [
        "# Assing the same value for many variables\n",
        "x = y = z = \"Banana\"\n",
        "print(x,y,z)\n",
        "del x, y\n",
        "try:\n",
        "  print(z)\n",
        "  print(x,y)\n",
        "except Exception as e:\n",
        "  print(str(e))"
      ],
      "metadata": {
        "colab": {
          "base_uri": "https://localhost:8080/"
        },
        "id": "dgW9ayyndMtx",
        "outputId": "d473209d-3654-410f-a1fb-74adceda2dbc"
      },
      "execution_count": null,
      "outputs": [
        {
          "output_type": "stream",
          "name": "stdout",
          "text": [
            "Banana Banana Banana\n",
            "Banana\n",
            "name 'x' is not defined\n"
          ]
        }
      ]
    },
    {
      "cell_type": "code",
      "source": [
        "a = \"Banana\"\n",
        "b = a\n",
        "print(a,b)\n",
        "del a\n",
        "print(b)"
      ],
      "metadata": {
        "colab": {
          "base_uri": "https://localhost:8080/"
        },
        "id": "iJsrZjOedvIP",
        "outputId": "53f33f7e-d4b1-4b03-ff98-e0f6edffe1b2"
      },
      "execution_count": null,
      "outputs": [
        {
          "output_type": "stream",
          "name": "stdout",
          "text": [
            "Banana Banana\n",
            "Banana\n"
          ]
        }
      ]
    },
    {
      "cell_type": "markdown",
      "source": [
        "### Global Variable\n",
        "\n",
        "All variables that are created outside of a function are known as global variables"
      ],
      "metadata": {
        "id": "7SJlgcQOdGCg"
      }
    },
    {
      "cell_type": "code",
      "source": [
        "x = \"awesome\" # global\n",
        "\n",
        "def myfunc1():\n",
        "  x = \"crazy\" # local\n",
        "  print(\"1 Python is \" + x)\n",
        "\n",
        "myfunc1()\n",
        "\n",
        "print(\"2 Python is \" + x)\n",
        "\n",
        "# You can modify or create a global variable inside a function\n",
        "def myfunc2():\n",
        "  global x # modifiing\n",
        "  global y # creating\n",
        "  x = \"fantastic\"\n",
        "  y = \"Im new global\"\n",
        "\n",
        "myfunc2()\n",
        "\n",
        "print(\"3 Python is \" + x, y)"
      ],
      "metadata": {
        "colab": {
          "base_uri": "https://localhost:8080/"
        },
        "id": "JLaVKFiAbYDv",
        "outputId": "bcef4ec5-ff32-49d5-d073-7bb3f2f0ae5f"
      },
      "execution_count": null,
      "outputs": [
        {
          "output_type": "stream",
          "name": "stdout",
          "text": [
            "1 Python is crazy\n",
            "2 Python is awesome\n",
            "3 Python is fantastic Im global\n"
          ]
        }
      ]
    },
    {
      "cell_type": "markdown",
      "source": [
        "### Nonlocal Keyword\n",
        "\n",
        "The nonlocal keyword is used to work with variables inside nested functions."
      ],
      "metadata": {
        "id": "rbvKAsnfDyVM"
      }
    },
    {
      "cell_type": "code",
      "source": [
        "def myfunc1():\n",
        "  x = \"Jane\"\n",
        "  def myfunc2():\n",
        "    nonlocal x\n",
        "    print(x)\n",
        "    x = \"hello\"\n",
        "  myfunc2()\n",
        "  return x\n",
        "\n",
        "print(myfunc1())"
      ],
      "metadata": {
        "colab": {
          "base_uri": "https://localhost:8080/"
        },
        "id": "j4JnEY1nDTXB",
        "outputId": "1eab6fca-cfe9-41ba-d957-fb4e405ddcd1"
      },
      "execution_count": null,
      "outputs": [
        {
          "output_type": "stream",
          "name": "stdout",
          "text": [
            "Jane\n",
            "hello\n"
          ]
        }
      ]
    },
    {
      "cell_type": "markdown",
      "source": [
        "# Data Types\n",
        "\n",
        "Fonte: https://www.w3schools.com/python/python_datatypes.asp"
      ],
      "metadata": {
        "id": "VsWpqn91egMU"
      }
    },
    {
      "cell_type": "code",
      "source": [
        "x = \"Helo\"\n",
        "print(x, type(x))\n",
        "x = 29\n",
        "print(x, type(x))\n",
        "x = 20.9\n",
        "print(x, type(x))\n",
        "x = 35e2\n",
        "print(x, type(x))\n",
        "x = 1j\n",
        "print(x, type(x))\n",
        "x = ['a','b','c']\n",
        "print(x, type(x))\n",
        "x = ('a','b','c')\n",
        "print(x, type(x))\n",
        "x = range(6)\n",
        "print(x, type(x))\n",
        "x = {'name':'Jalal', 'age': 40}\n",
        "print(x, type(x))\n",
        "x = {'a','b','c'}\n",
        "print(x, type(x))\n",
        "x = frozenset({'a','b','c'})\n",
        "print(x, type(x))\n",
        "x = True\n",
        "print(x, type(x))\n",
        "x = b\"Helo\"\n",
        "print(x, type(x))\n",
        "x = bytearray(5)\n",
        "print(x, type(x))\n",
        "x = memoryview(bytes(5))\n",
        "print(x, type(x))\n",
        "x = None\n",
        "print(x, type(x))"
      ],
      "metadata": {
        "colab": {
          "base_uri": "https://localhost:8080/"
        },
        "id": "rU2lnNrCehr9",
        "outputId": "008626cb-f441-449b-ccac-7b34b0f00c18"
      },
      "execution_count": null,
      "outputs": [
        {
          "output_type": "stream",
          "name": "stdout",
          "text": [
            "Helo <class 'str'>\n",
            "29 <class 'int'>\n",
            "20.9 <class 'float'>\n",
            "1j <class 'complex'>\n",
            "['a', 'b', 'c'] <class 'list'>\n",
            "('a', 'b', 'c') <class 'tuple'>\n",
            "range(0, 6) <class 'range'>\n",
            "{'name': 'Jalal', 'age': 40} <class 'dict'>\n",
            "{'a', 'b', 'c'} <class 'set'>\n",
            "frozenset({'a', 'b', 'c'}) <class 'frozenset'>\n",
            "True <class 'bool'>\n",
            "b'Helo' <class 'bytes'>\n",
            "bytearray(b'\\x00\\x00\\x00\\x00\\x00') <class 'bytearray'>\n",
            "<memory at 0x7a06ddc90400> <class 'memoryview'>\n",
            "None <class 'NoneType'>\n"
          ]
        }
      ]
    },
    {
      "cell_type": "code",
      "source": [
        "x = str(\"Helo\")\n",
        "print(x, type(x))\n",
        "x = int(29)\n",
        "print(x, type(x))\n",
        "x = float(20.9)\n",
        "print(x, type(x))\n",
        "x = complex(1j)\n",
        "print(x, type(x))\n",
        "x = list(['a','b','c'])\n",
        "print(x, type(x))\n",
        "x = tuple(('a','b','c'))\n",
        "print(x, type(x))\n",
        "x = dict({'name':'Jalal', 'age': 40})\n",
        "print(x, type(x))\n",
        "x = set({'a','b','c'})\n",
        "print(x, type(x))\n",
        "x = frozenset({'a','b','c'})\n",
        "print(x, type(x))\n",
        "x = bool(5)\n",
        "print(x, type(x))\n",
        "x = bytes(b\"Helo\")\n",
        "print(x, type(x))\n",
        "x = bytearray(5)\n",
        "print(x, type(x))\n",
        "x = memoryview(bytes(5))\n",
        "print(x, type(x))"
      ],
      "metadata": {
        "colab": {
          "base_uri": "https://localhost:8080/"
        },
        "id": "nBAfzK20gp_N",
        "outputId": "64272a57-d8f3-4d78-b88e-374dbabeac78"
      },
      "execution_count": null,
      "outputs": [
        {
          "output_type": "stream",
          "name": "stdout",
          "text": [
            "Helo <class 'str'>\n",
            "29 <class 'int'>\n",
            "20.9 <class 'float'>\n",
            "1j <class 'complex'>\n",
            "['a', 'b', 'c'] <class 'list'>\n",
            "('a', 'b', 'c') <class 'tuple'>\n",
            "{'name': 'Jalal', 'age': 40} <class 'dict'>\n",
            "{'a', 'b', 'c'} <class 'set'>\n",
            "frozenset({'a', 'b', 'c'}) <class 'frozenset'>\n",
            "True <class 'bool'>\n",
            "b'Helo' <class 'bytes'>\n",
            "bytearray(b'\\x00\\x00\\x00\\x00\\x00') <class 'bytearray'>\n",
            "<memory at 0x7a06ddc90640> <class 'memoryview'>\n"
          ]
        }
      ]
    },
    {
      "cell_type": "markdown",
      "source": [
        "# Strings"
      ],
      "metadata": {
        "id": "LrKl5RLQmI8M"
      }
    },
    {
      "cell_type": "markdown",
      "source": [
        "Metodos\n",
        "\n",
        "https://www.w3schools.com/python/python_strings_methods.asp"
      ],
      "metadata": {
        "id": "XHDEfXZ1n60M"
      }
    },
    {
      "cell_type": "code",
      "source": [
        "name = \"heloisA Fernanda ROCHA\"\n",
        "print(name)"
      ],
      "metadata": {
        "colab": {
          "base_uri": "https://localhost:8080/"
        },
        "id": "OPU7e0RtnaX7",
        "outputId": "c497f26b-7583-4448-c8f2-91b1b320c97b"
      },
      "execution_count": null,
      "outputs": [
        {
          "output_type": "stream",
          "name": "stdout",
          "text": [
            "heloisA Fernanda ROCHA\n"
          ]
        }
      ]
    },
    {
      "cell_type": "markdown",
      "source": [
        "### Capitalize\n",
        "\n",
        "Converts the first character to upper case"
      ],
      "metadata": {
        "id": "fLKX-LNBprvq"
      }
    },
    {
      "cell_type": "code",
      "source": [
        "print(name.capitalize())"
      ],
      "metadata": {
        "colab": {
          "base_uri": "https://localhost:8080/"
        },
        "id": "8YaAhGtopwdo",
        "outputId": "91f94bc0-9611-4f61-e6d0-93df189ed022"
      },
      "execution_count": null,
      "outputs": [
        {
          "output_type": "stream",
          "name": "stdout",
          "text": [
            "Heloisa fernanda rocha\n"
          ]
        }
      ]
    },
    {
      "cell_type": "markdown",
      "source": [
        "### Lower | Casefold | IsLower\n",
        "Casefold is similar to the lower() method, but the casefold() method is stronger, more aggressive, meaning that it will convert more characters into lower case, and will find more matches when comparing two strings and both are converted using the casefold() method"
      ],
      "metadata": {
        "id": "i-xVPpxQpatV"
      }
    },
    {
      "cell_type": "code",
      "source": [
        "print(name.casefold())\n",
        "print(name.lower())"
      ],
      "metadata": {
        "colab": {
          "base_uri": "https://localhost:8080/"
        },
        "id": "QZtUnMGnpUek",
        "outputId": "18af39f2-a402-4279-c3fe-5c62dc8c865d"
      },
      "execution_count": null,
      "outputs": [
        {
          "output_type": "stream",
          "name": "stdout",
          "text": [
            "heloisa fernanda rocha\n",
            "heloisa fernanda rocha\n"
          ]
        }
      ]
    },
    {
      "cell_type": "code",
      "source": [
        "# The islower() method returns True if all the characters are in lower case, otherwise False.\n",
        "# Numbers, symbols and spaces are not checked, only alphabet characters.\n",
        "a = \"Hello world!\"\n",
        "b = \"hello 123\"\n",
        "c = \"mynameisPeter\"\n",
        "\n",
        "print(a.islower())\n",
        "print(b.islower())\n",
        "print(c.islower())"
      ],
      "metadata": {
        "id": "_lAO82sKzb3P"
      },
      "execution_count": null,
      "outputs": []
    },
    {
      "cell_type": "markdown",
      "source": [
        "### Count"
      ],
      "metadata": {
        "id": "JXtOS5YhplYi"
      }
    },
    {
      "cell_type": "code",
      "source": [
        "# returns the number of times a specified value appears in the string\n",
        "print(x.count('a'))\n",
        "print(x.count('a',0,7))"
      ],
      "metadata": {
        "colab": {
          "base_uri": "https://localhost:8080/"
        },
        "id": "nMCmHi1totOb",
        "outputId": "1a26f765-d29d-4063-84f9-dafa65313a6b"
      },
      "execution_count": null,
      "outputs": [
        {
          "output_type": "stream",
          "name": "stdout",
          "text": [
            "3\n",
            "1\n"
          ]
        }
      ]
    },
    {
      "cell_type": "markdown",
      "source": [
        "### Encode\n",
        "\n",
        " method encodes the string, using the specified encoding. If no encoding is specified, UTF-8 will be used"
      ],
      "metadata": {
        "id": "TqxZmYHFqRMT"
      }
    },
    {
      "cell_type": "code",
      "source": [
        "txt = \"My name is Ståle\"\n",
        "\n",
        "print(txt.encode(encoding=\"ascii\",errors=\"backslashreplace\"))\n",
        "print(txt.encode(encoding=\"ascii\",errors=\"ignore\"))\n",
        "print(txt.encode(encoding=\"ascii\",errors=\"namereplace\"))\n",
        "print(txt.encode(encoding=\"ascii\",errors=\"replace\"))\n",
        "print(txt.encode(encoding=\"ascii\",errors=\"xmlcharrefreplace\"))"
      ],
      "metadata": {
        "colab": {
          "base_uri": "https://localhost:8080/"
        },
        "id": "_NW5dVNWqXeq",
        "outputId": "f0846787-58c0-4028-cfdc-00614148cbb5"
      },
      "execution_count": null,
      "outputs": [
        {
          "output_type": "stream",
          "name": "stdout",
          "text": [
            "b'My name is St\\\\xe5le'\n",
            "b'My name is Stle'\n",
            "b'My name is St\\\\N{LATIN SMALL LETTER A WITH RING ABOVE}le'\n",
            "b'My name is St?le'\n",
            "b'My name is St&#229;le'\n"
          ]
        }
      ]
    },
    {
      "cell_type": "markdown",
      "source": [
        "### End With | Start With\n",
        "\n"
      ],
      "metadata": {
        "id": "FAriEQy2qqx6"
      }
    },
    {
      "cell_type": "code",
      "source": [
        "# Returns true if the string ends with the specified value\n",
        "print(name)\n",
        "print(name.endswith('a'))\n",
        "print(name.endswith('A'))\n",
        "print(name.endswith('A',0,7))"
      ],
      "metadata": {
        "colab": {
          "base_uri": "https://localhost:8080/"
        },
        "id": "aOpIZ1bUquT2",
        "outputId": "5003f131-e177-4159-b59a-2dd0e9a53b13"
      },
      "execution_count": null,
      "outputs": [
        {
          "output_type": "stream",
          "name": "stdout",
          "text": [
            "heloisA Fernanda ROCHA\n",
            "False\n",
            "True\n",
            "True\n"
          ]
        }
      ]
    },
    {
      "cell_type": "code",
      "source": [
        "# method returns True if the string starts with the specified value, otherwise False.\n",
        "print(name.startswith('h'))\n",
        "print(name.startswith('H'))\n",
        "print(name.startswith('F',8))"
      ],
      "metadata": {
        "colab": {
          "base_uri": "https://localhost:8080/"
        },
        "id": "GaxPRkUq_EDO",
        "outputId": "042601da-3b9b-4e48-e3f1-bde84a10ea15"
      },
      "execution_count": null,
      "outputs": [
        {
          "output_type": "stream",
          "name": "stdout",
          "text": [
            "True\n",
            "False\n",
            "True\n"
          ]
        }
      ]
    },
    {
      "cell_type": "markdown",
      "source": [
        "### Expandtabs\n",
        "\n",
        "method sets the tab size to the specified number of whitespaces."
      ],
      "metadata": {
        "id": "b3_kT4USrrMG"
      }
    },
    {
      "cell_type": "code",
      "source": [
        "# Default tabsize is 8\n",
        "txt = \"H\\te\\tl\\tl\\to\"\n",
        "\n",
        "print(txt)\n",
        "print(txt.expandtabs())\n",
        "print(txt.expandtabs(2))\n",
        "print(txt.expandtabs(4))\n",
        "print(txt.expandtabs(10))"
      ],
      "metadata": {
        "colab": {
          "base_uri": "https://localhost:8080/"
        },
        "id": "joFW4oCtrTx-",
        "outputId": "3c46461d-ff08-408a-8c51-24646b5f2553"
      },
      "execution_count": null,
      "outputs": [
        {
          "output_type": "stream",
          "name": "stdout",
          "text": [
            "H\te\tl\tl\to\n",
            "H       e       l       l       o\n",
            "H e l l o\n",
            "H   e   l   l   o\n",
            "H         e         l         l         o\n"
          ]
        }
      ]
    },
    {
      "cell_type": "markdown",
      "source": [
        "## Find | Index | Right Find | Right Index\n",
        "\n",
        "* The method finds the first occurrence of the specified value.\n",
        "\n",
        "* returns -1 if the value is not found.\n",
        "\n",
        "* The find() method is almost the same as the **index()** method, the only difference is that the index() method raises an exception if the value is not found."
      ],
      "metadata": {
        "id": "Xr-JoqjQr9Tl"
      }
    },
    {
      "cell_type": "code",
      "source": [
        "print(name)\n",
        "print(name.find('s'))\n",
        "print(name.index('s'))\n",
        "print(name.find('a',8))\n",
        "print(name.index('a',8))\n",
        "print(name.find('r',9,10))\n",
        "try:\n",
        "  print(name.index('r',9,10))\n",
        "except Exception as e:\n",
        "  print(str(e))"
      ],
      "metadata": {
        "colab": {
          "base_uri": "https://localhost:8080/"
        },
        "id": "vmfYSnICsSUe",
        "outputId": "d950e7b3-70c5-4d7b-d1d5-c05399d3bed1"
      },
      "execution_count": null,
      "outputs": [
        {
          "output_type": "stream",
          "name": "stdout",
          "text": [
            "heloisA Fernanda ROCHA\n",
            "5\n",
            "5\n",
            "12\n",
            "12\n",
            "-1\n",
            "substring not found\n"
          ]
        }
      ]
    },
    {
      "cell_type": "code",
      "source": [
        "# method finds the last occurrence of the specified value\n",
        "print(name)\n",
        "print(name.rfind('s'))\n",
        "print(name.rindex('s'))\n",
        "print(name.rfind('a',8))\n",
        "print(name.rindex('a',8))\n",
        "print(name.rfind('r',9,10))\n",
        "try:\n",
        "  print(name.rindex('r',9,10))\n",
        "except Exception as e:\n",
        "  print(str(e))"
      ],
      "metadata": {
        "colab": {
          "base_uri": "https://localhost:8080/"
        },
        "id": "lJmVB2eV8mP0",
        "outputId": "987970a7-43eb-409e-fdc4-3a2e3847cd38"
      },
      "execution_count": null,
      "outputs": [
        {
          "output_type": "stream",
          "name": "stdout",
          "text": [
            "heloisA Fernanda ROCHA\n",
            "5\n",
            "5\n",
            "15\n",
            "15\n",
            "-1\n",
            "substring not found\n"
          ]
        }
      ]
    },
    {
      "cell_type": "markdown",
      "source": [
        "## Formating\n",
        "\n",
        "Fonte: https://www.w3schools.com/python/python_string_formatting.asp"
      ],
      "metadata": {
        "id": "X7pkZPsF3nJV"
      }
    },
    {
      "cell_type": "markdown",
      "source": [
        "\n",
        "\n",
        "\n",
        "https://www.w3schools.com/python/ref_string_format.asp"
      ],
      "metadata": {
        "id": "3TxvpLr8tfRu"
      }
    },
    {
      "cell_type": "markdown",
      "source": [
        "### F-Strings\n",
        "\n",
        "F-strings are faster than format()\n",
        "\n",
        "faltou :c :g :n que não tinha no w3scools"
      ],
      "metadata": {
        "id": "wqiD68nsmPoL"
      }
    },
    {
      "cell_type": "code",
      "source": [
        "# Add a placeholder for the price variable\n",
        "age = 36\n",
        "txt = f\"My name is John, I am {age}\"\n",
        "print(txt)\n",
        "\n",
        "price = 59\n",
        "txt = f\"The price is {price} dollars\"\n",
        "print(txt)"
      ],
      "metadata": {
        "colab": {
          "base_uri": "https://localhost:8080/"
        },
        "id": "f1U1kbmH5wvD",
        "outputId": "97dfa601-cc5b-4d19-8f93-6260d40e0ed1"
      },
      "execution_count": null,
      "outputs": [
        {
          "output_type": "stream",
          "name": "stdout",
          "text": [
            "My name is John, I am 36\n",
            "The price is 59 dollars\n"
          ]
        }
      ]
    },
    {
      "cell_type": "markdown",
      "source": [
        "**Using Modifiers**\n",
        "\n",
        "A placeholder can include a modifier to format the value.\n",
        "\n",
        "A modifier is included by adding a colon **:** followed by a legal **formatting type**"
      ],
      "metadata": {
        "id": "wFZuj2N46g2E"
      }
    },
    {
      "cell_type": "code",
      "source": [
        "# Fix point number format:\n",
        "price = 59\n",
        "txt = f\"The price is {price:.2f} dollars\"\n",
        "print(txt)\n",
        "\n",
        "txt = f\"The price is {price:.3f} dollars\"\n",
        "print(txt)\n",
        "\n",
        "txt = f\"The price is {95:.2f} dollars\"\n",
        "print(txt)\n",
        "\n",
        "#without the \".2\" inside the placeholder, this number will be displayed like this:\n",
        "txt = f\"The price is {45:f} dollars.\"\n",
        "print(txt)"
      ],
      "metadata": {
        "colab": {
          "base_uri": "https://localhost:8080/"
        },
        "id": "28y84iGPmYGu",
        "outputId": "3251eedb-44c2-40ae-c34d-d14e73290e82"
      },
      "execution_count": null,
      "outputs": [
        {
          "output_type": "stream",
          "name": "stdout",
          "text": [
            "The price is 59.00 dollars\n",
            "The price is 59.000 dollars\n",
            "The price is 95.00 dollars\n",
            "The price is 45.000000 dollars.\n"
          ]
        }
      ]
    },
    {
      "cell_type": "code",
      "source": [
        "# Fix point number format, in uppercase format (show inf and nan as INF and NAN)\n",
        "#Use \"F\" to convert a number into a fixed point number, but display inf and nan as INF and NAN:\n",
        "x = float('inf')\n",
        "txt = f\"The price is {x:F} dollars.\"\n",
        "print(txt)\n",
        "\n",
        "#same example, but with a lower case f:\n",
        "txt = f\"The price is {x:f} dollars.\"\n",
        "print(txt)\n"
      ],
      "metadata": {
        "colab": {
          "base_uri": "https://localhost:8080/"
        },
        "id": "FGNd4eAL_UO4",
        "outputId": "6c57357a-c42a-4d07-b05a-a1be34da95c4"
      },
      "execution_count": null,
      "outputs": [
        {
          "output_type": "stream",
          "name": "stdout",
          "text": [
            "The price is INF dollars.\n",
            "The price is inf dollars.\n"
          ]
        }
      ]
    },
    {
      "cell_type": "code",
      "source": [
        "# Use a comma or underscore as a thousand separator\n",
        "price = 59000\n",
        "txt = f\"The price is {price:,} dollars\"\n",
        "print(txt)\n",
        "\n",
        "txt = f\"The price is {price:_} dollars\"\n",
        "print(txt)"
      ],
      "metadata": {
        "colab": {
          "base_uri": "https://localhost:8080/"
        },
        "id": "cxcsQxFW7YDa",
        "outputId": "39b14d2a-27f5-4011-fdcc-e112d598d007"
      },
      "execution_count": null,
      "outputs": [
        {
          "output_type": "stream",
          "name": "stdout",
          "text": [
            "The price is 59,000 dollars\n",
            "The price is 59_000 dollars\n"
          ]
        }
      ]
    },
    {
      "cell_type": "code",
      "source": [
        "# Percentage format\n",
        "\n",
        "txt = f\"You scored {0.255:%}\"\n",
        "print(txt)\n",
        "\n",
        "txt = f\"You scored {0.255:.0%}\"\n",
        "print(txt)\n",
        "\n",
        "txt = f\"You scored {0.255:.2%}\"\n",
        "print(txt)"
      ],
      "metadata": {
        "colab": {
          "base_uri": "https://localhost:8080/"
        },
        "id": "Gj1fturF_67Q",
        "outputId": "631b9232-2c82-4202-b0ed-5fd6aeb227cd"
      },
      "execution_count": null,
      "outputs": [
        {
          "output_type": "stream",
          "name": "stdout",
          "text": [
            "You scored 25.500000%\n",
            "You scored 26%\n",
            "You scored 25.50%\n"
          ]
        }
      ]
    },
    {
      "cell_type": "code",
      "source": [
        "txt = f\"{45:n}\"\n",
        "print(txt)"
      ],
      "metadata": {
        "colab": {
          "base_uri": "https://localhost:8080/"
        },
        "id": "WBFH5GUnAWKh",
        "outputId": "b5d4579f-d2a2-4a9a-9a6e-65997a4a8434"
      },
      "execution_count": null,
      "outputs": [
        {
          "output_type": "stream",
          "name": "stdout",
          "text": [
            "45\n"
          ]
        }
      ]
    },
    {
      "cell_type": "code",
      "source": [
        "# set the available space for the value to 8 characters and aling de the value\n",
        "txt = f\"We have \\\"{49:>8}\\\" chickens.\"\n",
        "print(txt)\n",
        "\n",
        "txt = f\"We have \\\"{49:<8}\\\" chickens.\"\n",
        "print(txt)\n",
        "\n",
        "txt = f\"We have \\\"{49:^8}\\\" chickens.\"\n",
        "print(txt)"
      ],
      "metadata": {
        "colab": {
          "base_uri": "https://localhost:8080/"
        },
        "id": "57i6YFee8HID",
        "outputId": "4858bbcb-4ba3-4919-a6c7-cfdff6a80721"
      },
      "execution_count": null,
      "outputs": [
        {
          "output_type": "stream",
          "name": "stdout",
          "text": [
            "We have \"      49\" chickens.\n",
            "We have \"49      \" chickens.\n",
            "We have \"   49   \" chickens.\n",
            "The temperature is -      5 degrees celsius.\n"
          ]
        }
      ]
    },
    {
      "cell_type": "code",
      "source": [
        "# Use \"=\" to place the plus/minus sign at the left most position\n",
        "txt = f\"The temperature is {-5:=8} degrees celsius.\"\n",
        "print(txt)\n",
        "\n",
        "txt = f\"The temperature is {+5:=8} degrees celsius.\"\n",
        "print(txt)"
      ],
      "metadata": {
        "colab": {
          "base_uri": "https://localhost:8080/"
        },
        "id": "XxXO0rTK9VUx",
        "outputId": "062deb6e-7bd2-4203-e322-5155823e7da3"
      },
      "execution_count": null,
      "outputs": [
        {
          "output_type": "stream",
          "name": "stdout",
          "text": [
            "The temperature is -      5 degrees celsius.\n",
            "The temperature is        5 degrees celsius.\n"
          ]
        }
      ]
    },
    {
      "cell_type": "code",
      "source": [
        "#Use \"+\" to always indicate if the number is positive or negative:\n",
        "txt = f\"The temperature is between {-3:+} and {7:+} degrees celsius.\"\n",
        "print(txt)\n",
        "\n",
        "#Use \"-\" to always indicate if the number is negative (positive numbers are displayed without any sign):\n",
        "txt = f\"The temperature is between {-3:-} and {7:-} degrees celsius.\"\n",
        "print(txt)\n",
        "\n",
        "#Use \" \" (a space) to insert a space before positive numbers and a minus sign before negative numbers:\n",
        "txt = f\"The temperature is between {-3: } and {7: } degrees celsius.\"\n",
        "print(txt)"
      ],
      "metadata": {
        "colab": {
          "base_uri": "https://localhost:8080/"
        },
        "id": "PBGtSHB49q3Z",
        "outputId": "2ae098a3-1b6f-42a2-8207-ab5d50dd13a0"
      },
      "execution_count": null,
      "outputs": [
        {
          "output_type": "stream",
          "name": "stdout",
          "text": [
            "The temperature is between -3 and +7 degrees celsius.\n",
            "The temperature is between -3 and 7 degrees celsius.\n",
            "The temperature is between -3 and  7 degrees celsius.\n"
          ]
        }
      ]
    },
    {
      "cell_type": "code",
      "source": [
        "#Use \"b\" to convert the number into binary format:\n",
        "txt = f\"The binary version of 5 is {5:b}\"\n",
        "print(txt)\n",
        "\n",
        "#Use \"d\" to convert a number, in this case a binary number,\n",
        "# into decimal number format:\n",
        "txt = f\"We have {0b101:d} chickens.\"\n",
        "print(txt)"
      ],
      "metadata": {
        "colab": {
          "base_uri": "https://localhost:8080/"
        },
        "id": "Pydv_NI39wqd",
        "outputId": "4904a769-27a2-42a3-e745-abed7d248170"
      },
      "execution_count": null,
      "outputs": [
        {
          "output_type": "stream",
          "name": "stdout",
          "text": [
            "The binary version of 5 is 101\n",
            "We have 5 chickens.\n"
          ]
        }
      ]
    },
    {
      "cell_type": "code",
      "source": [
        "#Use \"e\" to convert a number into scientific number format:\n",
        "txt = f\"We have {5:e} chickens.\"\n",
        "print(txt)\n",
        "\n",
        "txt = f\"We have {5:E} chickens.\"\n",
        "print(txt)"
      ],
      "metadata": {
        "colab": {
          "base_uri": "https://localhost:8080/"
        },
        "id": "JFY3S7k4-x4d",
        "outputId": "12937471-f13f-4193-f8bf-bd8513aa3d6a"
      },
      "execution_count": null,
      "outputs": [
        {
          "output_type": "stream",
          "name": "stdout",
          "text": [
            "We have 5.000000e+00 chickens.\n",
            "We have 5.000000E+00 chickens.\n"
          ]
        }
      ]
    },
    {
      "cell_type": "code",
      "source": [
        "#Use \"o\" to convert the number into octal format:\n",
        "txt = f\"The octal version of 10 is {10:o}\"\n",
        "print(txt)"
      ],
      "metadata": {
        "colab": {
          "base_uri": "https://localhost:8080/"
        },
        "id": "Uhf9DRPw_o1Z",
        "outputId": "648009f3-2c22-47f5-e26d-69e5f762b4c6"
      },
      "execution_count": null,
      "outputs": [
        {
          "output_type": "stream",
          "name": "stdout",
          "text": [
            "The octal version of 10 is 12\n"
          ]
        }
      ]
    },
    {
      "cell_type": "code",
      "source": [
        "# Hex format\n",
        "#Use \"x\" to convert the number into Hex format:\n",
        "txt = f\"The Hexadecimal version of 255 is {255:x}\"\n",
        "print(txt)\n",
        "\n",
        "txt = f\"The Hexadecimal version of 255 is {255:X}\"\n",
        "print(txt)"
      ],
      "metadata": {
        "colab": {
          "base_uri": "https://localhost:8080/"
        },
        "id": "wk44LIYJ_vtp",
        "outputId": "cdaae0d2-64cf-4908-be9b-7255fb802fdb"
      },
      "execution_count": null,
      "outputs": [
        {
          "output_type": "stream",
          "name": "stdout",
          "text": [
            "The Hexadecimal version of 255 is ff\n",
            "The Hexadecimal version of 255 is FF\n"
          ]
        }
      ]
    },
    {
      "cell_type": "markdown",
      "source": [
        "**Math Operations**"
      ],
      "metadata": {
        "id": "jVq-wY2u6sUc"
      }
    },
    {
      "cell_type": "code",
      "source": [
        "# Perform a math operation in the placeholder, and return the result\n",
        "txt = f\"The price is {6 * 10} dollars\"\n",
        "print(txt)\n",
        "\n",
        "price = 59\n",
        "tax = 0.25\n",
        "txt = f\"The price is {price + (price * tax)} dollars\"\n",
        "print(txt)"
      ],
      "metadata": {
        "colab": {
          "base_uri": "https://localhost:8080/"
        },
        "id": "Y5Z1ulgB50T4",
        "outputId": "3b9007f8-ffdb-48c5-f611-e0f2c30624b5"
      },
      "execution_count": null,
      "outputs": [
        {
          "output_type": "stream",
          "name": "stdout",
          "text": [
            "The price is 60 dollars\n",
            "The price is 73.75 dollars\n"
          ]
        }
      ]
    },
    {
      "cell_type": "code",
      "source": [
        "# You can perform if...else statements inside the placeholders\n",
        "price = 49\n",
        "txt = f\"It is very {'Expensive' if price>50 else 'Cheap'}\"\n",
        "print(txt)"
      ],
      "metadata": {
        "colab": {
          "base_uri": "https://localhost:8080/"
        },
        "id": "McM3y1bj6EBv",
        "outputId": "13f3455d-886b-420d-ed81-3cb27c59730e"
      },
      "execution_count": null,
      "outputs": [
        {
          "output_type": "stream",
          "name": "stdout",
          "text": [
            "It is very Cheap\n"
          ]
        }
      ]
    },
    {
      "cell_type": "markdown",
      "source": [
        "**Using Functions**"
      ],
      "metadata": {
        "id": "rOY_57jH6yAZ"
      }
    },
    {
      "cell_type": "code",
      "source": [
        "# You can execute functions inside the placeholder\n",
        "fruit = \"apples\"\n",
        "txt = f\"I love {fruit.upper()}\"\n",
        "print(txt)"
      ],
      "metadata": {
        "colab": {
          "base_uri": "https://localhost:8080/"
        },
        "id": "O6YHI90l6LZK",
        "outputId": "7d031075-be67-4cfc-e375-8651655034e9"
      },
      "execution_count": null,
      "outputs": [
        {
          "output_type": "stream",
          "name": "stdout",
          "text": [
            "I love APPLES\n"
          ]
        }
      ]
    },
    {
      "cell_type": "code",
      "source": [
        "def myconverter(x):\n",
        "  return x * 0.3048\n",
        "\n",
        "txt = f\"The plane is flying at a {myconverter(30000)} meter altitude\"\n",
        "print(txt)"
      ],
      "metadata": {
        "colab": {
          "base_uri": "https://localhost:8080/"
        },
        "id": "P8GwjGK_6QEw",
        "outputId": "2b156763-a8cc-44ff-b4e4-82e69837dff5"
      },
      "execution_count": null,
      "outputs": [
        {
          "output_type": "stream",
          "name": "stdout",
          "text": [
            "The plane is flying at a 9144.0 meter altitude\n"
          ]
        }
      ]
    },
    {
      "cell_type": "markdown",
      "source": [
        "### Format()\n",
        "\n",
        "The same **Formatting Types** used in modifiers of F-String can be used in Format()"
      ],
      "metadata": {
        "id": "w8ygExVfEd3B"
      }
    },
    {
      "cell_type": "code",
      "source": [
        "price = 49\n",
        "txt = \"The price is {} dollars\"\n",
        "print(txt.format(price))\n",
        "\n",
        "txt = \"The price is {:.2f} dollars\"\n",
        "print(txt.format(price))"
      ],
      "metadata": {
        "colab": {
          "base_uri": "https://localhost:8080/"
        },
        "id": "V9jIaaMrEgnj",
        "outputId": "f374868f-0b0f-4055-b97f-6eba7e0022d0"
      },
      "execution_count": null,
      "outputs": [
        {
          "output_type": "stream",
          "name": "stdout",
          "text": [
            "The price is 49 dollars\n",
            "The price is 49.00 dollars\n"
          ]
        }
      ]
    },
    {
      "cell_type": "code",
      "source": [
        "quantity = 3\n",
        "itemno = 567\n",
        "price = 49\n",
        "txt = \"I want {} pieces of item number {} for {:.2f} dollars.\"\n",
        "print(txt.format(quantity, itemno, price))\n",
        "\n",
        "# Use index numbers to be sure the values are placed in the correct placeholders\n",
        "txt = \"I want {0} pieces of item number {1} for {2:.2f} dollars.\"\n",
        "print(txt.format(quantity, itemno, price))\n",
        "\n",
        "# Use named indexes by entering a name inside the curly brackets\n",
        "txt = \"I want {quantity} pieces of item number {itemno} for {price:.2f} dollars.\"\n",
        "print(txt.format(quantity = 3, itemno = 567, price = 49))"
      ],
      "metadata": {
        "colab": {
          "base_uri": "https://localhost:8080/"
        },
        "id": "FpWXvozcFOxs",
        "outputId": "6746a04a-68e1-440b-eb36-2175d7cee437"
      },
      "execution_count": null,
      "outputs": [
        {
          "output_type": "stream",
          "name": "stdout",
          "text": [
            "I want 3 pieces of item number 567 for 49.00 dollars.\n",
            "I want 3 pieces of item number 567 for 49.00 dollars.\n",
            "I want 3 pieces of item number 567 for 49.00 dollars.\n"
          ]
        }
      ]
    },
    {
      "cell_type": "code",
      "source": [],
      "metadata": {
        "id": "0FpCjr0AFajw"
      },
      "execution_count": null,
      "outputs": []
    },
    {
      "cell_type": "markdown",
      "source": [
        "## Is Alfa | AlfaNumeric | Ascii | Identifier"
      ],
      "metadata": {
        "id": "CngPsOUIt82k"
      }
    },
    {
      "cell_type": "code",
      "source": [
        "# The isalnum() method returns True if all the characters are alphanumeric,\n",
        "# meaning alphabet letter (a-z) and numbers (0-9).\n",
        "print(\"Company\".isalnum())\n",
        "print(\"Company \".isalnum())\n",
        "print(\"Company123\".isalnum())"
      ],
      "metadata": {
        "colab": {
          "base_uri": "https://localhost:8080/"
        },
        "id": "OtmZdCpat_F0",
        "outputId": "7b83b356-9f84-4d2e-a127-b3fa03c7021f"
      },
      "execution_count": null,
      "outputs": [
        {
          "output_type": "stream",
          "name": "stdout",
          "text": [
            "True\n",
            "False\n",
            "True\n"
          ]
        }
      ]
    },
    {
      "cell_type": "code",
      "source": [
        "# method returns True if all the characters are alphabet letters (a-z)\n",
        "print(\"Company\".isalpha())\n",
        "print(\"Company \".isalpha())\n",
        "print(\"Company123\".isalpha())"
      ],
      "metadata": {
        "colab": {
          "base_uri": "https://localhost:8080/"
        },
        "id": "Oxovxzxmu6A0",
        "outputId": "4445e0d4-8db4-44b7-d833-3bb10b89f9c0"
      },
      "execution_count": null,
      "outputs": [
        {
          "output_type": "stream",
          "name": "stdout",
          "text": [
            "True\n",
            "False\n",
            "False\n"
          ]
        }
      ]
    },
    {
      "cell_type": "code",
      "source": [
        "# returns True if all the characters are ascii characters\n",
        "# https://www.w3schools.com/charsets/ref_html_ascii.asp\n",
        "print(\"Company\".isascii())\n",
        "print(\"Company \".isascii())\n",
        "print(\"Company123\".isascii())"
      ],
      "metadata": {
        "colab": {
          "base_uri": "https://localhost:8080/"
        },
        "id": "AN6TNrKEvV6y",
        "outputId": "8f5d662c-9ee3-4d8d-ca28-158f848e74f2"
      },
      "execution_count": null,
      "outputs": [
        {
          "output_type": "stream",
          "name": "stdout",
          "text": [
            "True\n",
            "True\n",
            "True\n"
          ]
        }
      ]
    },
    {
      "cell_type": "code",
      "source": [
        "# method returns True if the string is a valid identifier, otherwise False.\n",
        "# A string is considered a valid identifier if it only contains alphanumeric letters (a-z) and (0-9), or underscores (_). A valid identifier cannot start with a number, or contain any spaces.\n",
        "a = \"MyFolder\"\n",
        "b = \"Demo002\"\n",
        "c = \"2bring\"\n",
        "d = \"my demo\"\n",
        "\n",
        "print(a.isidentifier())\n",
        "print(b.isidentifier())\n",
        "print(c.isidentifier())\n",
        "print(d.isidentifier())"
      ],
      "metadata": {
        "colab": {
          "base_uri": "https://localhost:8080/"
        },
        "id": "aD6pIPBPzCzO",
        "outputId": "e387525d-835b-4740-840e-43686c02f60a"
      },
      "execution_count": null,
      "outputs": [
        {
          "output_type": "stream",
          "name": "stdout",
          "text": [
            "True\n",
            "True\n",
            "False\n",
            "False\n"
          ]
        }
      ]
    },
    {
      "cell_type": "markdown",
      "source": [
        "## Is Decimal | Digit | Numeric"
      ],
      "metadata": {
        "id": "4vw35pIpvtyQ"
      }
    },
    {
      "cell_type": "code",
      "source": [
        "# method returns True if all the characters are decimals (0-9)\n",
        "print(\"123\".isdecimal())\n",
        "print(\"Company123\".isdecimal())\n",
        "print(\"\\u0030\".isdecimal()) #unicode for 0\n",
        "print(\"\\u00B2\".isdecimal()) #unicode for ²\n",
        "print(\"-1\".isdecimal())\n",
        "print(\"1.5\".isdecimal())"
      ],
      "metadata": {
        "colab": {
          "base_uri": "https://localhost:8080/"
        },
        "id": "6P2KFZVYvxur",
        "outputId": "a2f327df-aeda-4550-ef2d-744436d028ea"
      },
      "execution_count": null,
      "outputs": [
        {
          "output_type": "stream",
          "name": "stdout",
          "text": [
            "True\n",
            "False\n",
            "True\n",
            "False\n",
            "False\n",
            "False\n"
          ]
        }
      ]
    },
    {
      "cell_type": "code",
      "source": [
        "# method returns True if all the characters are digits, otherwise False.\n",
        "# Exponents, like ², are also considered to be a digit.\n",
        "print(\"123\".isdigit())\n",
        "print(\"Company123\".isdigit())\n",
        "print(\"\\u0030\".isdigit()) #unicode for 0\n",
        "print(\"\\u00B2\".isdigit()) #unicode for ²\n",
        "print(\"-1\".isdigit())\n",
        "print(\"1.5\".isdigit())"
      ],
      "metadata": {
        "colab": {
          "base_uri": "https://localhost:8080/"
        },
        "id": "0hBmxWIAwSPT",
        "outputId": "34e9db6e-a8af-46a4-a14b-a38a805a5464"
      },
      "execution_count": null,
      "outputs": [
        {
          "output_type": "stream",
          "name": "stdout",
          "text": [
            "True\n",
            "False\n",
            "True\n",
            "True\n",
            "False\n",
            "False\n"
          ]
        }
      ]
    },
    {
      "cell_type": "code",
      "source": [
        "print(\"123\".isnumeric())\n",
        "print(\"Company123\".isnumeric())\n",
        "print(\"\\u0030\".isnumeric()) #unicode for 0\n",
        "print(\"\\u00B2\".isnumeric()) #unicode for ²\n",
        "print(\"-1\".isnumeric())\n",
        "print(\"1.5\".isnumeric())"
      ],
      "metadata": {
        "colab": {
          "base_uri": "https://localhost:8080/"
        },
        "id": "jqPDeHCBw8Lp",
        "outputId": "61af74c7-8baf-4373-813f-50ba8c7ce8f3"
      },
      "execution_count": null,
      "outputs": [
        {
          "output_type": "stream",
          "name": "stdout",
          "text": [
            "True\n",
            "False\n",
            "True\n",
            "True\n",
            "False\n",
            "False\n"
          ]
        }
      ]
    },
    {
      "cell_type": "markdown",
      "source": [
        "## Is Printable\n",
        "\n",
        "method returns True if all the characters are printable, otherwise False."
      ],
      "metadata": {
        "id": "tQSqqwZy0Fbn"
      }
    },
    {
      "cell_type": "code",
      "source": [
        "print(\"Hello! Are you #1?\".isprintable())\n",
        "print(\"Hello!\\nAre you #1?\".isprintable())\n",
        "print(\"\"\"Hello!\n",
        "Are you #1?\"\"\".isprintable())"
      ],
      "metadata": {
        "colab": {
          "base_uri": "https://localhost:8080/"
        },
        "id": "IquMyyKY0HXt",
        "outputId": "97c2639d-41a4-43ae-e06d-963b64dcb4db"
      },
      "execution_count": null,
      "outputs": [
        {
          "output_type": "stream",
          "name": "stdout",
          "text": [
            "True\n",
            "False\n",
            "False\n"
          ]
        }
      ]
    },
    {
      "cell_type": "markdown",
      "source": [
        "## Is Space\n",
        "\n",
        "method returns True if all the characters in a string are whitespaces, otherwise False"
      ],
      "metadata": {
        "id": "fKQVDiLZ0wcB"
      }
    },
    {
      "cell_type": "code",
      "source": [
        "print(\"\".isspace())\n",
        "print(\" \".isspace())\n",
        "print(\"  \".isspace())\n",
        "print(\"  s  \".isspace())"
      ],
      "metadata": {
        "colab": {
          "base_uri": "https://localhost:8080/"
        },
        "id": "FOrQQEIJ00Pk",
        "outputId": "ce98888e-6fa1-495e-8bbc-a61c1636c5b5"
      },
      "execution_count": null,
      "outputs": [
        {
          "output_type": "stream",
          "name": "stdout",
          "text": [
            "False\n",
            "True\n",
            "True\n",
            "False\n"
          ]
        }
      ]
    },
    {
      "cell_type": "markdown",
      "source": [
        "## Join\n",
        "\n",
        "method takes all items in an iterable and joins them into one string."
      ],
      "metadata": {
        "id": "4GbH8An02ET-"
      }
    },
    {
      "cell_type": "code",
      "source": [
        "myTuple = (\"John\", \"Peter\", \"Vicky\")\n",
        "x = \"#\".join(myTuple)\n",
        "print(x)"
      ],
      "metadata": {
        "colab": {
          "base_uri": "https://localhost:8080/"
        },
        "id": "kl_pEGh02Ln1",
        "outputId": "6e3d179a-94af-4610-f543-65e3b4752508"
      },
      "execution_count": null,
      "outputs": [
        {
          "output_type": "stream",
          "name": "stdout",
          "text": [
            "John#Peter#Vicky\n"
          ]
        }
      ]
    },
    {
      "cell_type": "code",
      "source": [
        "x = \"#\".join([\"Jalal\",\"Faraj\"])\n",
        "print(x)"
      ],
      "metadata": {
        "colab": {
          "base_uri": "https://localhost:8080/"
        },
        "id": "B3X7Ybgw2er9",
        "outputId": "c27ef041-01c6-47a2-a459-02e34786e863"
      },
      "execution_count": null,
      "outputs": [
        {
          "output_type": "stream",
          "name": "stdout",
          "text": [
            "Jalal#Faraj\n"
          ]
        }
      ]
    },
    {
      "cell_type": "code",
      "source": [
        "# When using a dictionary as an iterable, the returned values are the keys, not the values.\n",
        "myDict = {\"name\": \"John\", \"country\": \"Norway\", \"age\": 40}\n",
        "mySeparator = \"#\"\n",
        "\n",
        "x = mySeparator.join(myDict)\n",
        "\n",
        "print(x)"
      ],
      "metadata": {
        "colab": {
          "base_uri": "https://localhost:8080/"
        },
        "id": "aDHdcP2o2VqS",
        "outputId": "b768f455-d3df-40a9-d5e7-083210c9496f"
      },
      "execution_count": null,
      "outputs": [
        {
          "output_type": "stream",
          "name": "stdout",
          "text": [
            "name#country#age\n"
          ]
        }
      ]
    },
    {
      "cell_type": "markdown",
      "source": [
        "## Padding: Center | Left | Right\n",
        "\n",
        "These method will align the string, using a specified character (space is default) as the fill character."
      ],
      "metadata": {
        "id": "BmGmsqxWp4rU"
      }
    },
    {
      "cell_type": "code",
      "source": [
        "# method will center align the string,\n",
        "print(name.center(30, \"_\"))"
      ],
      "metadata": {
        "colab": {
          "base_uri": "https://localhost:8080/"
        },
        "id": "L1gLeb44p-ih",
        "outputId": "546e727a-9d75-4622-9cb5-e4f458bd6824"
      },
      "execution_count": null,
      "outputs": [
        {
          "output_type": "stream",
          "name": "stdout",
          "text": [
            "____heloisA Fernanda ROCHA____\n"
          ]
        }
      ]
    },
    {
      "cell_type": "code",
      "source": [
        "# method will left align the string\n",
        "print(name.ljust(30, \"_\"))"
      ],
      "metadata": {
        "colab": {
          "base_uri": "https://localhost:8080/"
        },
        "id": "HEHQhO4I29Gf",
        "outputId": "44c75f20-e2f2-4062-c4f4-41438e6be42b"
      },
      "execution_count": null,
      "outputs": [
        {
          "output_type": "stream",
          "name": "stdout",
          "text": [
            "heloisA Fernanda ROCHA________\n"
          ]
        }
      ]
    },
    {
      "cell_type": "code",
      "source": [
        "# method will right align the string\n",
        "print(name.rjust(30, \"_\"))"
      ],
      "metadata": {
        "colab": {
          "base_uri": "https://localhost:8080/"
        },
        "id": "oJG090mE3o90",
        "outputId": "54d34ac8-a460-4926-c22a-4d50c291118e"
      },
      "execution_count": null,
      "outputs": [
        {
          "output_type": "stream",
          "name": "stdout",
          "text": [
            "________heloisA Fernanda ROCHA\n"
          ]
        }
      ]
    },
    {
      "cell_type": "code",
      "source": [
        "# method adds zeros (0) at the beginning of the string, until it reaches the specified length\n",
        "print(name.zfill(30))\n",
        "print(\"123\".zfill(10))"
      ],
      "metadata": {
        "colab": {
          "base_uri": "https://localhost:8080/"
        },
        "id": "bxC1fqT9C7tf",
        "outputId": "0722a489-cc7f-451d-a367-8357e4581afd"
      },
      "execution_count": null,
      "outputs": [
        {
          "output_type": "stream",
          "name": "stdout",
          "text": [
            "00000000heloisA Fernanda ROCHA\n",
            "0000000123\n"
          ]
        }
      ]
    },
    {
      "cell_type": "markdown",
      "source": [
        "## Partition | Right Partition\n",
        "\n",
        "method searches for a specified string, and splits the string into a tuple containing three elements.\n",
        "\n",
        "The first element contains the part before the specified string.\n",
        "\n",
        "The second element contains the specified string.\n",
        "\n",
        "The third element contains the part after the string."
      ],
      "metadata": {
        "id": "7Q5yOrCY61Hc"
      }
    },
    {
      "cell_type": "code",
      "source": [
        "txt = \"I could eat bananas all day, bananas are my favorite fruit\"\n",
        "print(txt.partition(\"bananas\"))\n",
        "print(txt.rpartition(\"bananas\"))"
      ],
      "metadata": {
        "colab": {
          "base_uri": "https://localhost:8080/"
        },
        "id": "aUlJWTdV6-40",
        "outputId": "a7d64d1a-0429-4152-a236-39341417a961"
      },
      "execution_count": null,
      "outputs": [
        {
          "output_type": "stream",
          "name": "stdout",
          "text": [
            "('I could eat ', 'bananas', ' all day, bananas are my favorite fruit')\n",
            "('I could eat bananas all day, ', 'bananas', ' are my favorite fruit')\n"
          ]
        }
      ]
    },
    {
      "cell_type": "code",
      "source": [
        "# If the specified value is not found, the partition() method returns a tuple containing: 1 - the whole string, 2 - an empty string, 3 - an empty string\n",
        "print(txt.partition(\"apples\"))\n",
        "print(txt.rpartition(\"apples\"))"
      ],
      "metadata": {
        "colab": {
          "base_uri": "https://localhost:8080/"
        },
        "id": "iqJRhZ1-7ZMc",
        "outputId": "3aeb5b6f-b879-4a52-b139-047e425bc531"
      },
      "execution_count": null,
      "outputs": [
        {
          "output_type": "stream",
          "name": "stdout",
          "text": [
            "('I could eat bananas all day, bananas are my favorite fruit', '', '')\n",
            "('', '', 'I could eat bananas all day, bananas are my favorite fruit')\n"
          ]
        }
      ]
    },
    {
      "cell_type": "markdown",
      "source": [
        "## Replace"
      ],
      "metadata": {
        "id": "QjcyNzrF7iUJ"
      }
    },
    {
      "cell_type": "code",
      "source": [
        "txt = \"I like bananas bananas\"\n",
        "print(txt)\n",
        "print(txt.replace(\"bananas\",\"apples\"))\n",
        "print(txt.replace(\"bananas\",\"apples\", 1))"
      ],
      "metadata": {
        "colab": {
          "base_uri": "https://localhost:8080/"
        },
        "id": "9-yZJTSz7kH0",
        "outputId": "3a07631c-775b-4bae-ffe8-78dc59ab0a08"
      },
      "execution_count": null,
      "outputs": [
        {
          "output_type": "stream",
          "name": "stdout",
          "text": [
            "I like bananas bananas\n",
            "I like apples apples\n",
            "I like apples bananas\n"
          ]
        }
      ]
    },
    {
      "cell_type": "markdown",
      "source": [
        "## Split | Right Split | SplitLines"
      ],
      "metadata": {
        "id": "GkYtuvgl9nGr"
      }
    },
    {
      "cell_type": "code",
      "source": [
        "txt = \"I like banana, apple, orange and kiwi\"\n",
        "print(txt.split())\n",
        "print(txt.split(','))\n",
        "print(txt.split(None, 2))"
      ],
      "metadata": {
        "colab": {
          "base_uri": "https://localhost:8080/"
        },
        "id": "FK2v5qJK9pfs",
        "outputId": "f0ff8b3f-e34c-4ce8-f1b8-d626d560dc2f"
      },
      "execution_count": null,
      "outputs": [
        {
          "output_type": "stream",
          "name": "stdout",
          "text": [
            "['I', 'like', 'banana,', 'apple,', 'orange', 'and', 'kiwi']\n",
            "['I like banana', ' apple', ' orange and kiwi']\n",
            "['I', 'like', 'banana, apple, orange and kiwi']\n"
          ]
        }
      ]
    },
    {
      "cell_type": "code",
      "source": [
        "print(txt.rsplit())\n",
        "print(txt.rsplit(','))\n",
        "print(txt.rsplit(None, 2))"
      ],
      "metadata": {
        "colab": {
          "base_uri": "https://localhost:8080/"
        },
        "id": "94_O8vM8-WYd",
        "outputId": "3eb7be97-6feb-4e24-b645-545475230e9a"
      },
      "execution_count": null,
      "outputs": [
        {
          "output_type": "stream",
          "name": "stdout",
          "text": [
            "['I', 'like', 'banana,', 'apple,', 'orange', 'and', 'kiwi']\n",
            "['I like banana', ' apple', ' orange and kiwi']\n",
            "['I like banana, apple, orange', 'and', 'kiwi']\n"
          ]
        }
      ]
    },
    {
      "cell_type": "code",
      "source": [
        "txt = \"Thank you for the music\\nWelcome to the jungle\"\n",
        "print(txt.splitlines())\n",
        "print(txt.splitlines(True)) # Specifies if the line breaks should be included"
      ],
      "metadata": {
        "colab": {
          "base_uri": "https://localhost:8080/"
        },
        "id": "KW1yu2x9-pJ1",
        "outputId": "8c0f03c3-baf2-432e-a47d-37f322fd1193"
      },
      "execution_count": null,
      "outputs": [
        {
          "output_type": "stream",
          "name": "stdout",
          "text": [
            "['Thank you for the music', 'Welcome to the jungle']\n",
            "['Thank you for the music\\n', 'Welcome to the jungle']\n"
          ]
        }
      ]
    },
    {
      "cell_type": "markdown",
      "source": [
        "## Strip | LeftStrip | RightStrip"
      ],
      "metadata": {
        "id": "qwNSSc4G32Yx"
      }
    },
    {
      "cell_type": "code",
      "source": [
        "x = \"   banana   \"\n",
        "print(\"of all fruits\", x, \"is my favorite\")\n",
        "print(\"of all fruits\", x.strip(), \"is my favorite\")\n",
        "print(\"of all fruits\", x.lstrip(), \"is my favorite\")\n",
        "print(\"of all fruits\", x.rstrip(), \"is my favorite\")\n",
        "\n",
        "y = \"  ...,,,uva...,,,  \"\n",
        "print(\"of all fruits\", y, \"is my favorite\")\n",
        "print(\"of all fruits\", y.strip('., '), \"is my favorite\")\n",
        "print(\"of all fruits\", y.lstrip('., '), \"is my favorite\")\n",
        "print(\"of all fruits\", y.rstrip('., '), \"is my favorite\")"
      ],
      "metadata": {
        "colab": {
          "base_uri": "https://localhost:8080/"
        },
        "id": "A1Uog9AR34f5",
        "outputId": "fed95970-a747-41b3-9292-69c988b0b6bd"
      },
      "execution_count": null,
      "outputs": [
        {
          "output_type": "stream",
          "name": "stdout",
          "text": [
            "of all fruits    banana    is my favorite\n",
            "of all fruits banana is my favorite\n",
            "of all fruits banana    is my favorite\n",
            "of all fruits    banana is my favorite\n",
            "of all fruits   ...,,,uva...,,,   is my favorite\n",
            "of all fruits uva is my favorite\n",
            "of all fruits uva...,,,   is my favorite\n",
            "of all fruits   ...,,,uva is my favorite\n"
          ]
        }
      ]
    },
    {
      "cell_type": "markdown",
      "source": [
        "## Title | Is Title\n",
        "\n",
        "\n",
        "\n",
        "Symbols and numbers are ignored"
      ],
      "metadata": {
        "id": "W3dG_qbS1F4w"
      }
    },
    {
      "cell_type": "code",
      "source": [
        "# method returns a string where the first character in every word is upper case.\n",
        "print(name)\n",
        "print(name.title())"
      ],
      "metadata": {
        "colab": {
          "base_uri": "https://localhost:8080/"
        },
        "id": "y-1H4Vt2CJRB",
        "outputId": "85de90f6-d777-4f89-c2ff-3d72ebffd63f"
      },
      "execution_count": null,
      "outputs": [
        {
          "output_type": "stream",
          "name": "stdout",
          "text": [
            "heloisA Fernanda ROCHA\n",
            "Heloisa Fernanda Rocha\n"
          ]
        }
      ]
    },
    {
      "cell_type": "code",
      "source": [
        "# method returns True if all words in a text start with a upper case letter, AND the rest of the word are lower case letters, otherwise False.\n",
        "a = \"HELLO, AND WELCOME TO MY WORLD\"\n",
        "b = \"Hello\"\n",
        "c = \"22 Names\"\n",
        "d = \"This Is %'!?\"\n",
        "e = \"Heloisa Fernanda Rocha\"\n",
        "\n",
        "print(a.istitle())\n",
        "print(b.istitle())\n",
        "print(c.istitle())\n",
        "print(d.istitle())\n",
        "print(e.istitle())"
      ],
      "metadata": {
        "colab": {
          "base_uri": "https://localhost:8080/"
        },
        "id": "aGeP2Fu_1LNe",
        "outputId": "0df76733-a7b6-4d69-ddde-fd4f762b8ebb"
      },
      "execution_count": null,
      "outputs": [
        {
          "output_type": "stream",
          "name": "stdout",
          "text": [
            "False\n",
            "True\n",
            "True\n",
            "True\n",
            "True\n"
          ]
        }
      ]
    },
    {
      "cell_type": "markdown",
      "source": [
        "## Translation\n",
        "\n",
        "The translate() method returns a string where some specified characters are replaced with the character described in a dictionary, or in a mapping table.\n",
        "\n",
        "Use the maketrans() method to create a mapping table.\n",
        "\n",
        "If a character is not specified in the dictionary/table, the character will not be replaced.\n",
        "\n",
        "If you use a dictionary, you must use ascii codes instead of characters.\n",
        "\n",
        "https://www.w3schools.com/python/ref_string_translate.asp"
      ],
      "metadata": {
        "id": "NPNV08zA5al6"
      }
    },
    {
      "cell_type": "code",
      "source": [
        "txt = \"Hello Sam!\"\n",
        "mytable = str.maketrans(\"S\", \"P\")\n",
        "print(txt.translate(mytable))"
      ],
      "metadata": {
        "colab": {
          "base_uri": "https://localhost:8080/"
        },
        "id": "XymZjnks5dF1",
        "outputId": "2ec611f3-43b4-4eab-b17b-8e748d5783e6"
      },
      "execution_count": null,
      "outputs": [
        {
          "output_type": "stream",
          "name": "stdout",
          "text": [
            "Hello Pam!\n"
          ]
        }
      ]
    },
    {
      "cell_type": "code",
      "source": [
        "txt = \"Hi Sam!\"\n",
        "x = \"mSa\"\n",
        "y = \"eJo\"\n",
        "mytable = str.maketrans(x, y)\n",
        "print(txt.translate(mytable))"
      ],
      "metadata": {
        "colab": {
          "base_uri": "https://localhost:8080/"
        },
        "id": "xyPKg85f567F",
        "outputId": "f77425ea-9073-4391-b93a-3a8908b23d90"
      },
      "execution_count": null,
      "outputs": [
        {
          "output_type": "stream",
          "name": "stdout",
          "text": [
            "Hi Joe!\n"
          ]
        }
      ]
    },
    {
      "cell_type": "code",
      "source": [
        "# The third parameter in the mapping table describes characters that you want to remove from the string:\n",
        "txt = \"Good night Sam!\"\n",
        "x = \"mSa\"\n",
        "y = \"eJo\"\n",
        "z = \"God\"\n",
        "mytable = str.maketrans(x, y, z)\n",
        "print(txt.translate(mytable))\n",
        "\n",
        "# The maketrans() method itself returns a dictionary describing each replacement, in unicode\n",
        "print(str.maketrans(x, y, z))"
      ],
      "metadata": {
        "colab": {
          "base_uri": "https://localhost:8080/"
        },
        "id": "ldIaW7rh6BKi",
        "outputId": "09272a40-7cb1-4237-fda0-3e8c15d7da21"
      },
      "execution_count": null,
      "outputs": [
        {
          "output_type": "stream",
          "name": "stdout",
          "text": [
            " night Joe!\n",
            "{109: 101, 83: 74, 97: 111, 71: None, 111: None, 100: None}\n"
          ]
        }
      ]
    },
    {
      "cell_type": "markdown",
      "source": [
        "## Swap Case\n",
        "\n",
        "method returns a string where all the upper case letters are lower case and vice versa."
      ],
      "metadata": {
        "id": "RFy_YNYbBzND"
      }
    },
    {
      "cell_type": "code",
      "source": [
        "print(name)\n",
        "print(name.swapcase())"
      ],
      "metadata": {
        "colab": {
          "base_uri": "https://localhost:8080/"
        },
        "id": "xiotTfYnBx04",
        "outputId": "c5c405db-b24f-4822-f563-a0a8543a23da"
      },
      "execution_count": null,
      "outputs": [
        {
          "output_type": "stream",
          "name": "stdout",
          "text": [
            "heloisA Fernanda ROCHA\n",
            "HELOISa fERNANDA rocha\n"
          ]
        }
      ]
    },
    {
      "cell_type": "markdown",
      "source": [
        "## Upper | Is Upper"
      ],
      "metadata": {
        "id": "GQVyFiTh1bRe"
      }
    },
    {
      "cell_type": "code",
      "source": [
        "print(name.upper())"
      ],
      "metadata": {
        "colab": {
          "base_uri": "https://localhost:8080/"
        },
        "id": "Apjhd9Mt12xv",
        "outputId": "4fc50f50-e92f-4da6-e595-ba825aa6e857"
      },
      "execution_count": null,
      "outputs": [
        {
          "output_type": "stream",
          "name": "stdout",
          "text": [
            "HELOISA FERNANDA ROCHA\n"
          ]
        }
      ]
    },
    {
      "cell_type": "code",
      "source": [
        "print(\"Hello World!\".isupper())\n",
        "print(\"hello 123\".isupper())\n",
        "print(\"MY NAME IS PETER\".isupper())\n",
        "print(\"HELLO 123\".isupper())"
      ],
      "metadata": {
        "colab": {
          "base_uri": "https://localhost:8080/"
        },
        "id": "ODAVVcZc1dgX",
        "outputId": "fe1c076d-a65b-421a-8d75-a1f64769bfec"
      },
      "execution_count": null,
      "outputs": [
        {
          "output_type": "stream",
          "name": "stdout",
          "text": [
            "False\n",
            "False\n",
            "True\n",
            "True\n"
          ]
        }
      ]
    },
    {
      "cell_type": "markdown",
      "source": [
        "# Booleans\n",
        "\n",
        "Fonte: https://www.w3schools.com/python/python_booleans.asp"
      ],
      "metadata": {
        "id": "OeNQD0reR9L_"
      }
    },
    {
      "cell_type": "markdown",
      "source": [
        "**Most Values are True**\n",
        "\n",
        "Almost any value is evaluated to True if it has some sort of content.\n",
        "\n",
        "Any string is True, except empty strings.\n",
        "\n",
        "Any number is True, except 0.\n",
        "\n",
        "Any list, tuple, set, and dictionary are True, except empty ones."
      ],
      "metadata": {
        "id": "Zmn0phbfSJd7"
      }
    },
    {
      "cell_type": "code",
      "source": [
        "print(bool(\"abc\"))\n",
        "print(bool(123))\n",
        "print(bool([\"apple\", \"cherry\", \"banana\"]))"
      ],
      "metadata": {
        "colab": {
          "base_uri": "https://localhost:8080/"
        },
        "id": "gXEKHx4UR8jH",
        "outputId": "e41f3316-73ab-45f7-9d4b-0837c1bb5d78"
      },
      "execution_count": null,
      "outputs": [
        {
          "output_type": "stream",
          "name": "stdout",
          "text": [
            "True\n",
            "True\n",
            "True\n"
          ]
        }
      ]
    },
    {
      "cell_type": "markdown",
      "source": [
        "**Few Values are False**\n",
        "\n",
        "In fact, there are not many values that evaluate to False, except empty values, such as (), [], {}, \"\", the number 0, and the value None. And of course the value False evaluates to False."
      ],
      "metadata": {
        "id": "1PBmCwrpSXH_"
      }
    },
    {
      "cell_type": "code",
      "source": [
        "print(bool(False))\n",
        "print(bool(None))\n",
        "print(bool(0))\n",
        "print(bool(\"\"))\n",
        "print(bool(()))\n",
        "print(bool([]))\n",
        "print(bool({}))"
      ],
      "metadata": {
        "colab": {
          "base_uri": "https://localhost:8080/"
        },
        "id": "2NSP3bW-SZHe",
        "outputId": "e17377ee-6e95-409d-cb9d-ac899e9a7f1f"
      },
      "execution_count": null,
      "outputs": [
        {
          "output_type": "stream",
          "name": "stdout",
          "text": [
            "False\n",
            "False\n",
            "False\n",
            "False\n",
            "False\n",
            "False\n",
            "False\n"
          ]
        }
      ]
    },
    {
      "cell_type": "markdown",
      "source": [
        "**Len Function**\n",
        "\n",
        "One more value, or object in this case, evaluates to False, and that is if you have an object that is made from a class with a ```__len__``` function that returns 0 or False:"
      ],
      "metadata": {
        "id": "oAzFvnrkSyq9"
      }
    },
    {
      "cell_type": "code",
      "source": [
        "class myclass():\n",
        "  def __len__(self):\n",
        "    return 0\n",
        "\n",
        "myobj = myclass()\n",
        "print(bool(myobj))"
      ],
      "metadata": {
        "colab": {
          "base_uri": "https://localhost:8080/"
        },
        "id": "CVCoSmmSS3Pc",
        "outputId": "8274fdcb-7474-4719-f5de-d0660df30644"
      },
      "execution_count": null,
      "outputs": [
        {
          "output_type": "stream",
          "name": "stdout",
          "text": [
            "False\n"
          ]
        }
      ]
    },
    {
      "cell_type": "markdown",
      "source": [
        "# Operators\n",
        "\n",
        "https://www.w3schools.com/python/python_operators.asp"
      ],
      "metadata": {
        "id": "iGqodTvsZx0v"
      }
    },
    {
      "cell_type": "markdown",
      "source": [
        "### Arithmetic Operators"
      ],
      "metadata": {
        "id": "lNkGAFrEW53n"
      }
    },
    {
      "cell_type": "code",
      "execution_count": null,
      "metadata": {
        "id": "ZVzwOoEPZwQy",
        "colab": {
          "base_uri": "https://localhost:8080/"
        },
        "outputId": "853c06a9-9229-4f12-8f0e-1d8204a90302"
      },
      "outputs": [
        {
          "output_type": "execute_result",
          "data": {
            "text/plain": [
              "333.3333333333333"
            ]
          },
          "metadata": {},
          "execution_count": 3
        }
      ],
      "source": [
        "# Curiosidade: Posso usar o _ como separador de milhar 1_000 é o mesmo que 1000\n",
        "1_000/3"
      ]
    },
    {
      "cell_type": "code",
      "source": [
        "# Floor division\n",
        "# Usando // retorna o numero inteiro\n",
        "1000//3"
      ],
      "metadata": {
        "colab": {
          "base_uri": "https://localhost:8080/"
        },
        "id": "Ps7dxFp6Z7oz",
        "outputId": "7d8b4450-3736-4667-a204-0ca059e267c7"
      },
      "execution_count": null,
      "outputs": [
        {
          "output_type": "execute_result",
          "data": {
            "text/plain": [
              "333"
            ]
          },
          "metadata": {},
          "execution_count": 7
        }
      ]
    },
    {
      "cell_type": "code",
      "source": [
        "# Posso multiplicar strings\n",
        "2 * 'A'"
      ],
      "metadata": {
        "colab": {
          "base_uri": "https://localhost:8080/",
          "height": 35
        },
        "id": "6L8d0eiNhd2b",
        "outputId": "a2bf9b76-74b3-4116-f424-0949fefba1d1"
      },
      "execution_count": null,
      "outputs": [
        {
          "output_type": "execute_result",
          "data": {
            "text/plain": [
              "'AA'"
            ],
            "application/vnd.google.colaboratory.intrinsic+json": {
              "type": "string"
            }
          },
          "metadata": {},
          "execution_count": 10
        }
      ]
    },
    {
      "cell_type": "markdown",
      "source": [
        "### Assignment Operators"
      ],
      "metadata": {
        "id": "uKqvRnUfXA4U"
      }
    },
    {
      "cell_type": "code",
      "source": [
        "x = 5\n",
        "print(x)\n",
        "x += 3\n",
        "print(\"Soma\", x)\n",
        "x = 5\n",
        "x -= 3\n",
        "print(\"Subtração\", x)\n",
        "x = 5\n",
        "x *= 3\n",
        "print(\"Multiplicação\", x)\n",
        "x = 5\n",
        "x /= 3\n",
        "print(\"Divisão\", x)\n",
        "x = 5\n",
        "x //= 3\n",
        "print(\"Floor division\", x)\n",
        "x = 5\n",
        "x %= 3\n",
        "print(\"Molulo\", x)\n",
        "x = 5\n",
        "x **= 3\n",
        "print(\"Exponenciação\", x)"
      ],
      "metadata": {
        "colab": {
          "base_uri": "https://localhost:8080/"
        },
        "id": "vOJq65dqX9m0",
        "outputId": "75d0663f-d66b-4222-b679-3606e47847ff"
      },
      "execution_count": null,
      "outputs": [
        {
          "output_type": "stream",
          "name": "stdout",
          "text": [
            "5\n",
            "Soma 8\n",
            "Subtração 2\n",
            "Multiplicação 15\n",
            "Divisão 1.6666666666666667\n",
            "Floor division 1\n",
            "Molulo 2\n",
            "Exponenciação 125\n"
          ]
        }
      ]
    },
    {
      "cell_type": "code",
      "source": [],
      "metadata": {
        "colab": {
          "base_uri": "https://localhost:8080/"
        },
        "id": "3T4CoCfrYYCV",
        "outputId": "1a9ad34b-1e25-428d-c446-b522c3b127f2"
      },
      "execution_count": null,
      "outputs": [
        {
          "output_type": "stream",
          "name": "stdout",
          "text": [
            "Molulo 2\n",
            "Exponenciação 125\n"
          ]
        }
      ]
    },
    {
      "cell_type": "code",
      "source": [
        "x = 5\n",
        "x &= 3\n",
        "print(\"\", x)\n",
        "x = 5\n",
        "x |= 3\n",
        "print(\"\", x)\n",
        "x = 5\n",
        "x ^= 3\n",
        "print(\"\", x)\n",
        "x = 5\n",
        "x >>= 3\n",
        "print(\"\", x)\n",
        "x = 5\n",
        "x <<= 3\n",
        "print(\"\", x)\n",
        "# x = 5\n",
        "# x := 3\n",
        "# print(x)"
      ],
      "metadata": {
        "colab": {
          "base_uri": "https://localhost:8080/"
        },
        "id": "gWY34VJAXDEV",
        "outputId": "eabc077b-b0c4-4203-b0dc-36a6cd447c8b"
      },
      "execution_count": null,
      "outputs": [
        {
          "output_type": "stream",
          "name": "stdout",
          "text": [
            " 1\n",
            " 7\n",
            " 6\n",
            " 0\n",
            " 40\n"
          ]
        }
      ]
    },
    {
      "cell_type": "markdown",
      "source": [
        "### Bitwise Operators\n",
        "\n",
        "Bitwise operators are used to compare (binary) numbers:"
      ],
      "metadata": {
        "id": "rf05Vw_Uaodo"
      }
    },
    {
      "cell_type": "code",
      "source": [
        "\"\"\"\n",
        "AND\n",
        "The & operator compares each bit and set it to 1 if both are 1,\n",
        "otherwise it is set to 0:\n",
        "\n",
        "6 = 0000000000000110\n",
        "3 = 0000000000000011\n",
        "--------------------\n",
        "2 = 0000000000000010\n",
        "\"\"\"\n",
        "print(6 & 3)"
      ],
      "metadata": {
        "colab": {
          "base_uri": "https://localhost:8080/"
        },
        "id": "wJUX1ukeauUP",
        "outputId": "832183c0-a2f7-4792-e0b8-aca3523c7ec4"
      },
      "execution_count": null,
      "outputs": [
        {
          "output_type": "stream",
          "name": "stdout",
          "text": [
            "2\n"
          ]
        }
      ]
    },
    {
      "cell_type": "code",
      "source": [
        "\"\"\"\n",
        "OR\n",
        "The | operator compares each bit and set it to 1 if one or both is 1,\n",
        "otherwise it is set to 0:\n",
        "\n",
        "6 = 0000000000000110\n",
        "3 = 0000000000000011\n",
        "--------------------\n",
        "7 = 0000000000000111\n",
        "\"\"\"\n",
        "print(6 | 3)"
      ],
      "metadata": {
        "colab": {
          "base_uri": "https://localhost:8080/"
        },
        "id": "6yeNpC9Wa94e",
        "outputId": "f46b3cc1-04a2-4e85-c138-887279717fa7"
      },
      "execution_count": null,
      "outputs": [
        {
          "output_type": "stream",
          "name": "stdout",
          "text": [
            "7\n"
          ]
        }
      ]
    },
    {
      "cell_type": "code",
      "source": [
        "\"\"\"\n",
        "XOR\n",
        "The ^ operator compares each bit and set it to 1 if only one is 1,\n",
        "otherwise (if both are 1 or both are 0) it is set to 0:\n",
        "\n",
        "6 = 0000000000000110\n",
        "3 = 0000000000000011\n",
        "--------------------\n",
        "5 = 0000000000000101\n",
        "\"\"\"\n",
        "print(6 ^ 3)"
      ],
      "metadata": {
        "id": "WNXpxecPbW5S"
      },
      "execution_count": null,
      "outputs": []
    },
    {
      "cell_type": "code",
      "source": [
        "\"\"\"\n",
        "NOT\n",
        "The ~ operator inverts each bit (0 becomes 1 and 1 becomes 0).\n",
        "\n",
        "Inverted 3 becomes -4:\n",
        " 3 = 0000000000000011\n",
        "-4 = 1111111111111100\n",
        "\"\"\"\n",
        "print(~3)"
      ],
      "metadata": {
        "colab": {
          "base_uri": "https://localhost:8080/"
        },
        "id": "mihpjopgbyxD",
        "outputId": "fca78615-461b-428d-b577-b3aa1b232feb"
      },
      "execution_count": null,
      "outputs": [
        {
          "output_type": "stream",
          "name": "stdout",
          "text": [
            "-4\n"
          ]
        }
      ]
    },
    {
      "cell_type": "code",
      "source": [
        "\"\"\"\n",
        "Zero fill left shift\n",
        "The << operator inserts the specified number of 0's (in this case 2)\n",
        "from the right and let the same amount of leftmost bits fall off:\n",
        "\n",
        "If add 2 zeros to right (and pull off 2 bits from the left)\n",
        "3 = 0000000000000011\n",
        "becomes\n",
        "12 = 0000000000001100\n",
        "\"\"\"\n",
        "print(3 << 2)"
      ],
      "metadata": {
        "colab": {
          "base_uri": "https://localhost:8080/"
        },
        "id": "LUZzYIgpcAup",
        "outputId": "eabde5b1-ab53-49ad-b986-4d4d53d2a894"
      },
      "execution_count": null,
      "outputs": [
        {
          "output_type": "stream",
          "name": "stdout",
          "text": [
            "12\n"
          ]
        }
      ]
    },
    {
      "cell_type": "code",
      "source": [
        "\"\"\"\n",
        "The >> operator moves each bit the specified number of times to the right.\n",
        "Empty holes at the left are filled with 0's.\n",
        "\n",
        "If add 2 zeros to left (and pull off 2 bits from the right)\n",
        "8 = 0000000000001000\n",
        "becomes\n",
        "2 = 0000000000000010\n",
        " \"\"\"\n",
        "print(8 >> 2)"
      ],
      "metadata": {
        "id": "A4jFa__ocuNi"
      },
      "execution_count": null,
      "outputs": []
    },
    {
      "cell_type": "markdown",
      "source": [
        "# Lists\n",
        "\n",
        "List is a collection which is ordered (indexed) and changeable. Allows duplicate members.\n",
        "\n",
        "Fonte: https://www.w3schools.com/python/python_lists.asp"
      ],
      "metadata": {
        "id": "IzV8XcBph7P3"
      }
    },
    {
      "cell_type": "code",
      "source": [
        "names = ['Maria', 'José', 'Carlos', 'Camila','Darci']\n",
        "print('Type:', type(names))\n",
        "print(names)"
      ],
      "metadata": {
        "colab": {
          "base_uri": "https://localhost:8080/"
        },
        "id": "ZrQhIykwh9vi",
        "outputId": "08112a16-12e6-4210-b732-f0f25c078a6c"
      },
      "execution_count": null,
      "outputs": [
        {
          "output_type": "stream",
          "name": "stdout",
          "text": [
            "Type: <class 'list'>\n",
            "['Maria', 'José', 'Carlos', 'Camila', 'Darci']\n"
          ]
        }
      ]
    },
    {
      "cell_type": "code",
      "source": [
        "# It is also possible to use the list() constructor when creating a new list\n",
        "a = list((1,2,3))\n",
        "a"
      ],
      "metadata": {
        "colab": {
          "base_uri": "https://localhost:8080/"
        },
        "id": "wdQr9A20Bqds",
        "outputId": "583f8261-2699-4e8b-f30f-d4b070d6bf22"
      },
      "execution_count": null,
      "outputs": [
        {
          "output_type": "execute_result",
          "data": {
            "text/plain": [
              "[1, 2, 3]"
            ]
          },
          "metadata": {},
          "execution_count": 2
        }
      ]
    },
    {
      "cell_type": "markdown",
      "source": [
        "### Changing Elements"
      ],
      "metadata": {
        "id": "iUAc7KUSY9Jn"
      }
    },
    {
      "cell_type": "code",
      "source": [
        "print(names)\n",
        "names[2] = \"Carolina\"\n",
        "print(names)"
      ],
      "metadata": {
        "colab": {
          "base_uri": "https://localhost:8080/"
        },
        "id": "ZiwHK_HoZBGf",
        "outputId": "5a24abea-5356-4fa3-9a84-5b86955a8b0b"
      },
      "execution_count": null,
      "outputs": [
        {
          "output_type": "stream",
          "name": "stdout",
          "text": [
            "['Maria', 'José', 'Carlos', 'Camila', 'Darci']\n",
            "['Maria', 'José', 'Carolina', 'Camila', 'Darci']\n"
          ]
        }
      ]
    },
    {
      "cell_type": "code",
      "source": [
        "a = [1, 2, 3, 4, 5]\n",
        "a[1:3] = [\"a\", \"b\"]\n",
        "print(a)"
      ],
      "metadata": {
        "colab": {
          "base_uri": "https://localhost:8080/"
        },
        "id": "Bpuws4xmZOPx",
        "outputId": "478e2029-9000-4d05-92e6-9ed330ec362c"
      },
      "execution_count": null,
      "outputs": [
        {
          "output_type": "stream",
          "name": "stdout",
          "text": [
            "[1, 'a', 'b', 4, 5]\n"
          ]
        }
      ]
    },
    {
      "cell_type": "code",
      "source": [
        "# If you insert more items than you replace,\n",
        "# the new items will be inserted where you specified,\n",
        "# and the remaining items will move accordingly\n",
        "a = [1, 2, 3, 4, 5]\n",
        "a[1:2] = [\"x\", \"y\"]\n",
        "print(a)"
      ],
      "metadata": {
        "colab": {
          "base_uri": "https://localhost:8080/"
        },
        "id": "3CQqQlsPZjoD",
        "outputId": "9bb58076-7f3f-42e2-adbc-0fba91619344"
      },
      "execution_count": null,
      "outputs": [
        {
          "output_type": "stream",
          "name": "stdout",
          "text": [
            "[1, 'x', 'y', 3, 4, 5]\n"
          ]
        }
      ]
    },
    {
      "cell_type": "code",
      "source": [
        "# If you insert less items than you replace,\n",
        "# the new items will be inserted where you specified,\n",
        "# and the remaining items will move accordingly\n",
        "# No exemplo é como se colocasse o h no lugar do 2 e 3\n",
        "a = [1, 2, 3, 4, 5]\n",
        "a[1:3] = [\"h\"]\n",
        "print(a)"
      ],
      "metadata": {
        "colab": {
          "base_uri": "https://localhost:8080/"
        },
        "id": "TrzxlogNaCr4",
        "outputId": "a2dff1a6-0721-4920-b499-437210ec3eb5"
      },
      "execution_count": null,
      "outputs": [
        {
          "output_type": "stream",
          "name": "stdout",
          "text": [
            "[1, 'h', 4, 5]\n"
          ]
        }
      ]
    },
    {
      "cell_type": "markdown",
      "source": [
        "### Adding Elements - Append/Insert/Extend"
      ],
      "metadata": {
        "id": "Zse4t_HJ7mYk"
      }
    },
    {
      "cell_type": "code",
      "source": [
        "# appends an element to the end of the list\n",
        "names.append(\"Maria\")\n",
        "names"
      ],
      "metadata": {
        "colab": {
          "base_uri": "https://localhost:8080/"
        },
        "id": "GBUOu94qoz38",
        "outputId": "a48464a1-62ec-4201-9e52-ed72d5bd34e3"
      },
      "execution_count": null,
      "outputs": [
        {
          "output_type": "execute_result",
          "data": {
            "text/plain": [
              "['Maria', 'José', 'Carolina', 'Camila', 'Darci', 'Maria']"
            ]
          },
          "metadata": {},
          "execution_count": 13
        }
      ]
    },
    {
      "cell_type": "code",
      "source": [
        "# It is possibile to add a list, tuple, dict using append\n",
        "a = [\"apple\", \"banana\", \"cherry\"]\n",
        "a.append([\"alface\",\"tomate\"])\n",
        "a.append((\"nozes\",\"castanha\"))\n",
        "a.append({\"nome\":\"feijão\"})\n",
        "a"
      ],
      "metadata": {
        "colab": {
          "base_uri": "https://localhost:8080/"
        },
        "id": "ikKMAsiro48B",
        "outputId": "d2c2e866-f2fd-49bc-b790-2a96bbfa2187"
      },
      "execution_count": null,
      "outputs": [
        {
          "output_type": "execute_result",
          "data": {
            "text/plain": [
              "['apple',\n",
              " 'banana',\n",
              " 'cherry',\n",
              " ['alface', 'tomate'],\n",
              " ('nozes', 'castanha'),\n",
              " {'nome': 'feijão'}]"
            ]
          },
          "metadata": {},
          "execution_count": 14
        }
      ]
    },
    {
      "cell_type": "code",
      "source": [
        "# Adds an element at the specified position\n",
        "print(names)\n",
        "names.insert(1, 'Joel')\n",
        "names.insert(-1, 'Marcio') # Note que aqui -1 é penultimo elemento\n",
        "print(names)"
      ],
      "metadata": {
        "colab": {
          "base_uri": "https://localhost:8080/"
        },
        "id": "pRUpkuZvjaVs",
        "outputId": "bfefe58f-2832-485f-f0ad-6b172df27af2"
      },
      "execution_count": null,
      "outputs": [
        {
          "output_type": "stream",
          "name": "stdout",
          "text": [
            "['Maria', 'José', 'Carolina', 'Camila', 'Darci', 'Maria']\n",
            "['Maria', 'Joel', 'José', 'Carolina', 'Camila', 'Darci', 'Marcio', 'Maria']\n"
          ]
        }
      ]
    },
    {
      "cell_type": "markdown",
      "source": [
        "### Join (or Concatenate) Lists"
      ],
      "metadata": {
        "id": "QQhSmO9qWbkr"
      }
    },
    {
      "cell_type": "code",
      "source": [
        "# Using the + operator\n",
        "a = [1,2,3]\n",
        "b = [4,5,6]\n",
        "c = a + b\n",
        "print(c)"
      ],
      "metadata": {
        "colab": {
          "base_uri": "https://localhost:8080/"
        },
        "id": "hVehS8MoWk26",
        "outputId": "d0c82c92-7c5c-44b4-d375-5217dfda907b"
      },
      "execution_count": null,
      "outputs": [
        {
          "output_type": "stream",
          "name": "stdout",
          "text": [
            "[1, 2, 3, 4, 5, 6]\n"
          ]
        }
      ]
    },
    {
      "cell_type": "code",
      "source": [
        "# Appende the itens from a list into other list, one by one\n",
        "a = ['a','b','c']\n",
        "b = ['d','e','f']\n",
        "for x in b:\n",
        "  a.append(x)\n",
        "print(a)"
      ],
      "metadata": {
        "colab": {
          "base_uri": "https://localhost:8080/"
        },
        "id": "dIDMN4A4W2nK",
        "outputId": "49de7847-1d78-4a56-b324-23f2bd91dc5c"
      },
      "execution_count": null,
      "outputs": [
        {
          "output_type": "stream",
          "name": "stdout",
          "text": [
            "['a', 'b', 'c', 'd', 'e', 'f']\n"
          ]
        }
      ]
    },
    {
      "cell_type": "code",
      "source": [
        "# adds the specified list elements (or any iterable - list, set, tuple) to the end of the current list.\n",
        "# pode ser entendido como merge\n",
        "print(names)\n",
        "names.extend(['Jalal','Heloisa'])\n",
        "names.extend(('Ana','Fernando'))\n",
        "names.extend({\"nome\":\"Sirlei\"}) # Note que vai add a chave e não value\n",
        "print(names)"
      ],
      "metadata": {
        "colab": {
          "base_uri": "https://localhost:8080/"
        },
        "id": "1bFyiWAzmcnB",
        "outputId": "41f26e35-4ee0-4a03-e1c8-1742610879cf"
      },
      "execution_count": null,
      "outputs": [
        {
          "output_type": "stream",
          "name": "stdout",
          "text": [
            "['Maria', 'Joel', 'José', 'Carolina', 'Camila', 'Darci', 'Marcio', 'Maria']\n",
            "['Maria', 'Joel', 'José', 'Carolina', 'Camila', 'Darci', 'Marcio', 'Maria', 'Jalal', 'Heloisa', 'Ana', 'Fernando', 'nome']\n"
          ]
        }
      ]
    },
    {
      "cell_type": "markdown",
      "source": [
        "### Searching Elements - by value and index"
      ],
      "metadata": {
        "id": "kzG79wvq9zzT"
      }
    },
    {
      "cell_type": "code",
      "source": [
        "# Returns the number of elements with the specified value\n",
        "names.count('Maria')"
      ],
      "metadata": {
        "colab": {
          "base_uri": "https://localhost:8080/"
        },
        "id": "TusnYO4tj7kr",
        "outputId": "7c81223a-4e1f-4115-8de4-dbd5dbdfecc0"
      },
      "execution_count": null,
      "outputs": [
        {
          "output_type": "execute_result",
          "data": {
            "text/plain": [
              "2"
            ]
          },
          "metadata": {},
          "execution_count": 17
        }
      ]
    },
    {
      "cell_type": "code",
      "source": [
        "# Returns the index of the first element with the specified value\n",
        "names.index(\"José\")"
      ],
      "metadata": {
        "colab": {
          "base_uri": "https://localhost:8080/"
        },
        "id": "qujRaibqk56e",
        "outputId": "baba87e8-4864-4512-e989-b44a92b21e1b"
      },
      "execution_count": null,
      "outputs": [
        {
          "output_type": "execute_result",
          "data": {
            "text/plain": [
              "2"
            ]
          },
          "metadata": {},
          "execution_count": 18
        }
      ]
    },
    {
      "cell_type": "code",
      "source": [
        "\"Maria\" in names"
      ],
      "metadata": {
        "colab": {
          "base_uri": "https://localhost:8080/"
        },
        "id": "Ofx2O3_oCMLq",
        "outputId": "fe098e5a-68e7-42d3-fae5-b182e6f52442"
      },
      "execution_count": null,
      "outputs": [
        {
          "output_type": "execute_result",
          "data": {
            "text/plain": [
              "True"
            ]
          },
          "metadata": {},
          "execution_count": 19
        }
      ]
    },
    {
      "cell_type": "markdown",
      "source": [
        "### Removing Elements"
      ],
      "metadata": {
        "id": "MSpK0T5V-Ctp"
      }
    },
    {
      "cell_type": "code",
      "source": [
        "# Removes the first item with the specified value\n",
        "print(names)\n",
        "names.remove('Maria')\n",
        "print(names)"
      ],
      "metadata": {
        "colab": {
          "base_uri": "https://localhost:8080/"
        },
        "id": "anbJBTnokmeK",
        "outputId": "4ceebd22-e980-44eb-fc9a-ed18c13f8de2"
      },
      "execution_count": null,
      "outputs": [
        {
          "output_type": "stream",
          "name": "stdout",
          "text": [
            "['Maria', 'Joel', 'José', 'Carolina', 'Camila', 'Darci', 'Marcio', 'Maria', 'Jalal', 'Heloisa', 'Ana', 'Fernando', 'nome']\n",
            "['Joel', 'José', 'Carolina', 'Camila', 'Darci', 'Marcio', 'Maria', 'Jalal', 'Heloisa', 'Ana', 'Fernando', 'nome']\n"
          ]
        }
      ]
    },
    {
      "cell_type": "code",
      "source": [
        "print(names)\n",
        "del names[2]\n",
        "print(names)"
      ],
      "metadata": {
        "colab": {
          "base_uri": "https://localhost:8080/"
        },
        "id": "tLYy6sFubKEd",
        "outputId": "4570078e-7c00-4f04-d4b5-309a874c4137"
      },
      "execution_count": null,
      "outputs": [
        {
          "output_type": "stream",
          "name": "stdout",
          "text": [
            "['Joel', 'José', 'Carolina', 'Camila', 'Darci', 'Marcio', 'Maria', 'Jalal', 'Heloisa', 'Ana', 'Fernando', 'nome']\n",
            "['Joel', 'José', 'Camila', 'Darci', 'Marcio', 'Maria', 'Jalal', 'Heloisa', 'Ana', 'Fernando', 'nome']\n"
          ]
        }
      ]
    },
    {
      "cell_type": "code",
      "source": [
        "# Removes the element by index\n",
        "# Se não especificado vai remover o último\n",
        "print(names)\n",
        "removido1 = names.pop(2)\n",
        "removido2 = names.pop(-1) # Note que aqui -1 é o ultimo\n",
        "print(removido1)\n",
        "print(removido2)\n",
        "print(names)"
      ],
      "metadata": {
        "colab": {
          "base_uri": "https://localhost:8080/"
        },
        "id": "oJjYLz3vloF5",
        "outputId": "d756581d-9354-462b-965d-536b691d7be7"
      },
      "execution_count": null,
      "outputs": [
        {
          "output_type": "stream",
          "name": "stdout",
          "text": [
            "['Joel', 'José', 'Camila', 'Darci', 'Marcio', 'Maria', 'Jalal', 'Heloisa', 'Ana', 'Fernando', 'nome']\n",
            "Camila\n",
            "nome\n",
            "['Joel', 'José', 'Darci', 'Marcio', 'Maria', 'Jalal', 'Heloisa', 'Ana', 'Fernando']\n"
          ]
        }
      ]
    },
    {
      "cell_type": "code",
      "source": [
        "# Removes all the elements from the list\n",
        "a = [1,2,3]\n",
        "print(a)\n",
        "a.clear()\n",
        "a"
      ],
      "metadata": {
        "colab": {
          "base_uri": "https://localhost:8080/"
        },
        "id": "TrBFZAijmPIz",
        "outputId": "b28d5c86-53db-4ad3-b9d9-5b5eb24c4abe"
      },
      "execution_count": null,
      "outputs": [
        {
          "output_type": "stream",
          "name": "stdout",
          "text": [
            "[1, 2, 3]\n"
          ]
        },
        {
          "output_type": "execute_result",
          "data": {
            "text/plain": [
              "[]"
            ]
          },
          "metadata": {},
          "execution_count": 23
        }
      ]
    },
    {
      "cell_type": "code",
      "source": [
        "# Remove de entire list\n",
        "a = [1, 2, 3]\n",
        "print(a)\n",
        "del a\n",
        "try:\n",
        "  print(a)\n",
        "except Exception as e:\n",
        "  print(str(e))"
      ],
      "metadata": {
        "colab": {
          "base_uri": "https://localhost:8080/"
        },
        "id": "kEZqrgeLbUtQ",
        "outputId": "dfb1de66-529a-4bf5-8b40-d9ea943573e5"
      },
      "execution_count": null,
      "outputs": [
        {
          "output_type": "stream",
          "name": "stdout",
          "text": [
            "[1, 2, 3]\n",
            "name 'a' is not defined\n"
          ]
        }
      ]
    },
    {
      "cell_type": "markdown",
      "source": [
        "### Coping"
      ],
      "metadata": {
        "id": "Wn38S-7r-mVF"
      }
    },
    {
      "cell_type": "code",
      "source": [
        "# Returns a copy of the list\n",
        "names2 = names.copy()\n",
        "names3 = names[:]\n",
        "names4 = names[::]\n",
        "names5 = list(names)\n",
        "print(names)\n",
        "names2.pop(1)\n",
        "print(names2)\n",
        "names3.pop(2)\n",
        "print(names3)\n",
        "names4.pop(4)\n",
        "print(names4)\n",
        "names5.pop(5)\n",
        "print(names5)\n",
        "print(names)"
      ],
      "metadata": {
        "colab": {
          "base_uri": "https://localhost:8080/"
        },
        "id": "hVqcV99dmG8k",
        "outputId": "aad7f260-786c-4d66-dc79-eed539fd5287"
      },
      "execution_count": null,
      "outputs": [
        {
          "output_type": "stream",
          "name": "stdout",
          "text": [
            "['Ana', 'Joel', 'Maria', 'Jalal', 'Darci', 'Marcio', 'Heloisa', 'Fernando']\n",
            "['Ana', 'Maria', 'Jalal', 'Darci', 'Marcio', 'Heloisa', 'Fernando']\n",
            "['Ana', 'Joel', 'Jalal', 'Darci', 'Marcio', 'Heloisa', 'Fernando']\n",
            "['Ana', 'Joel', 'Maria', 'Jalal', 'Marcio', 'Heloisa', 'Fernando']\n",
            "['Ana', 'Joel', 'Maria', 'Jalal', 'Darci', 'Heloisa', 'Fernando']\n",
            "['Ana', 'Joel', 'Maria', 'Jalal', 'Darci', 'Marcio', 'Heloisa', 'Fernando']\n"
          ]
        }
      ]
    },
    {
      "cell_type": "markdown",
      "source": [
        "### Ordering"
      ],
      "metadata": {
        "id": "waAGLYRJANRs"
      }
    },
    {
      "cell_type": "code",
      "source": [
        "# sort ascending\n",
        "names.sort()\n",
        "print(names)"
      ],
      "metadata": {
        "colab": {
          "base_uri": "https://localhost:8080/"
        },
        "id": "09-JLRjSnaYt",
        "outputId": "7dc967ac-8850-4095-c5f4-939b4fb8bbc3"
      },
      "execution_count": null,
      "outputs": [
        {
          "output_type": "stream",
          "name": "stdout",
          "text": [
            "['Ana', 'Darci', 'Fernando', 'Heloisa', 'Jalal', 'Joel', 'José', 'Marcio', 'Maria']\n"
          ]
        }
      ]
    },
    {
      "cell_type": "code",
      "source": [
        "# sort descending\n",
        "names.sort(reverse=True)\n",
        "print(names)"
      ],
      "metadata": {
        "colab": {
          "base_uri": "https://localhost:8080/"
        },
        "id": "c2XTKkaHnpog",
        "outputId": "4d43837a-55a4-47a6-e1c0-c23c5ddb69f5"
      },
      "execution_count": null,
      "outputs": [
        {
          "output_type": "stream",
          "name": "stdout",
          "text": [
            "['Maria', 'Marcio', 'José', 'Joel', 'Jalal', 'Heloisa', 'Fernando', 'Darci', 'Ana']\n"
          ]
        }
      ]
    },
    {
      "cell_type": "code",
      "source": [
        "# sort using a function\n",
        "def orderByLenght(e):\n",
        "  return len(e)\n",
        "\n",
        "names.sort(key=orderByLenght)\n",
        "print(names)"
      ],
      "metadata": {
        "colab": {
          "base_uri": "https://localhost:8080/"
        },
        "id": "pKjKCWYvnzTZ",
        "outputId": "7ae6eb48-06c3-4ccd-ca4a-c002122f3e79"
      },
      "execution_count": null,
      "outputs": [
        {
          "output_type": "stream",
          "name": "stdout",
          "text": [
            "['Ana', 'José', 'Joel', 'Maria', 'Jalal', 'Darci', 'Marcio', 'Heloisa', 'Fernando']\n"
          ]
        }
      ]
    },
    {
      "cell_type": "code",
      "source": [
        "# Usando um valor dentro do dicionario\n",
        "def myFunc(e):\n",
        "  return e['year']\n",
        "\n",
        "cars = [\n",
        "  {'car': 'Ford', 'year': 2005},\n",
        "  {'car': 'Mitsubishi', 'year': 2000},\n",
        "  {'car': 'BMW', 'year': 2019},\n",
        "  {'car': 'VW', 'year': 2011}\n",
        "]\n",
        "\n",
        "cars.sort(key=myFunc)\n",
        "cars"
      ],
      "metadata": {
        "colab": {
          "base_uri": "https://localhost:8080/"
        },
        "id": "q2TUNsGsoR-6",
        "outputId": "58492cc0-803d-4d8c-a896-fb106b17bba3"
      },
      "execution_count": null,
      "outputs": [
        {
          "output_type": "execute_result",
          "data": {
            "text/plain": [
              "[{'car': 'Mitsubishi', 'year': 2000},\n",
              " {'car': 'Ford', 'year': 2005},\n",
              " {'car': 'VW', 'year': 2011},\n",
              " {'car': 'BMW', 'year': 2019}]"
            ]
          },
          "metadata": {},
          "execution_count": 32
        }
      ]
    },
    {
      "cell_type": "code",
      "source": [
        "# By default sort() method is case sensitive\n",
        "a = [\"banana\", \"Orange\", \"Kiwi\", \"cherry\"]\n",
        "a.sort()\n",
        "print(\"Sensitive\", a)\n",
        "a.sort(key = str.lower)\n",
        "print(\"Insensitive\", a)"
      ],
      "metadata": {
        "colab": {
          "base_uri": "https://localhost:8080/"
        },
        "id": "z_Q8nZQ9Ue5T",
        "outputId": "701c66e2-a820-4a33-d6e7-522593ab92ec"
      },
      "execution_count": null,
      "outputs": [
        {
          "output_type": "stream",
          "name": "stdout",
          "text": [
            "Sensitive ['Kiwi', 'Orange', 'banana', 'cherry']\n",
            "Insensitive ['banana', 'cherry', 'Kiwi', 'Orange']\n"
          ]
        }
      ]
    },
    {
      "cell_type": "markdown",
      "source": [
        "### Reverses"
      ],
      "metadata": {
        "id": "SeZ6Baiz_5ZH"
      }
    },
    {
      "cell_type": "code",
      "source": [
        "# Reverses the order of the list\n",
        "# Esse cara altera a lista\n",
        "print(names)\n",
        "names.reverse()\n",
        "print(names)"
      ],
      "metadata": {
        "colab": {
          "base_uri": "https://localhost:8080/"
        },
        "id": "rd3n1RivnEIV",
        "outputId": "3d94b68e-3801-4be3-a915-fa0494607d0e"
      },
      "execution_count": null,
      "outputs": [
        {
          "output_type": "stream",
          "name": "stdout",
          "text": [
            "['Joel', 'José', 'Darci', 'Marcio', 'Maria', 'Jalal', 'Heloisa', 'Ana', 'Fernando']\n",
            "['Fernando', 'Ana', 'Heloisa', 'Jalal', 'Maria', 'Marcio', 'Darci', 'José', 'Joel']\n"
          ]
        }
      ]
    },
    {
      "cell_type": "code",
      "source": [
        "# Retorna a lista com ordem invertida\n",
        "# Esse cara não altera lista - ele cria uma copia\n",
        "reverted = names[::-1]\n",
        "print('Original', names)\n",
        "print('Copy', reverted)"
      ],
      "metadata": {
        "colab": {
          "base_uri": "https://localhost:8080/"
        },
        "id": "UdemDcVmzj-A",
        "outputId": "fa330efa-f280-4174-c4c1-3be4b3cd68b2"
      },
      "execution_count": null,
      "outputs": [
        {
          "output_type": "stream",
          "name": "stdout",
          "text": [
            "Original ['Fernando', 'Ana', 'Heloisa', 'Jalal', 'Maria', 'Marcio', 'Darci', 'José', 'Joel']\n",
            "Copy ['Joel', 'José', 'Darci', 'Marcio', 'Maria', 'Jalal', 'Heloisa', 'Ana', 'Fernando']\n"
          ]
        }
      ]
    },
    {
      "cell_type": "code",
      "source": [
        "# Retorna a lista com ordem invertida - pulando de 2 em 2\n",
        "reverted = names[::-2]\n",
        "print('Original', names)\n",
        "print('Copy', reverted)"
      ],
      "metadata": {
        "colab": {
          "base_uri": "https://localhost:8080/"
        },
        "id": "_FsqjTT3Aojb",
        "outputId": "4d935ba2-14c6-4fd6-f828-23122fe75ac1"
      },
      "execution_count": null,
      "outputs": [
        {
          "output_type": "stream",
          "name": "stdout",
          "text": [
            "Original ['Fernando', 'Ana', 'Heloisa', 'Jalal', 'Maria', 'Marcio', 'Darci', 'José', 'Joel']\n",
            "Copy ['Joel', 'Darci', 'Maria', 'Heloisa', 'Fernando']\n"
          ]
        }
      ]
    },
    {
      "cell_type": "markdown",
      "source": [
        "# Tuples\n",
        "\n",
        "Tuple is a collection which is ordered (indexed) and unchangeable. Allows duplicate members."
      ],
      "metadata": {
        "id": "gD2SmkHPuWhd"
      }
    },
    {
      "cell_type": "code",
      "source": [
        "frutas = (\"maça\", \"banana\", \"caju\", \"banana\", \"goiaba\")\n",
        "print(type(frutas))\n",
        "print(frutas)"
      ],
      "metadata": {
        "colab": {
          "base_uri": "https://localhost:8080/"
        },
        "id": "y8JJRcIZwe-m",
        "outputId": "019ce98d-9b98-4d42-dd34-74c763e37f5a"
      },
      "execution_count": null,
      "outputs": [
        {
          "output_type": "stream",
          "name": "stdout",
          "text": [
            "<class 'tuple'>\n",
            "('maça', 'banana', 'caju', 'banana', 'goiaba')\n"
          ]
        }
      ]
    },
    {
      "cell_type": "code",
      "source": [
        "a = tuple((\"maça\", \"banana\", \"caju\", \"banana\"))\n",
        "a"
      ],
      "metadata": {
        "colab": {
          "base_uri": "https://localhost:8080/"
        },
        "id": "dlfWDbskMru6",
        "outputId": "abe49f15-b9c1-4d4f-eecd-9107895e1669"
      },
      "execution_count": null,
      "outputs": [
        {
          "output_type": "execute_result",
          "data": {
            "text/plain": [
              "('maça', 'banana', 'caju', 'banana')"
            ]
          },
          "metadata": {},
          "execution_count": 302
        }
      ]
    },
    {
      "cell_type": "markdown",
      "source": [
        "### Acess Values\n",
        "\n",
        "Using slicing - like in LISTS"
      ],
      "metadata": {
        "id": "loIojO1wNnv_"
      }
    },
    {
      "cell_type": "code",
      "source": [
        "print(frutas)\n",
        "print(frutas[0])\n",
        "print(frutas[-1])\n",
        "print(frutas[1:4])\n",
        "print(frutas[2:])\n",
        "print(frutas[-4:-1])"
      ],
      "metadata": {
        "colab": {
          "base_uri": "https://localhost:8080/"
        },
        "id": "1sO6F-Y5NrY6",
        "outputId": "f8e2547a-4295-4d9b-df9c-ee2ca1a27942"
      },
      "execution_count": null,
      "outputs": [
        {
          "output_type": "stream",
          "name": "stdout",
          "text": [
            "('maça', 'banana', 'caju', 'banana', 'goiaba')\n",
            "maça\n",
            "goiaba\n",
            "('banana', 'caju', 'banana')\n",
            "('caju', 'banana', 'goiaba')\n",
            "('banana', 'caju', 'banana')\n"
          ]
        }
      ]
    },
    {
      "cell_type": "markdown",
      "source": [
        "### Searching in Elements - by value ou index"
      ],
      "metadata": {
        "id": "uawUM6fhO4A8"
      }
    },
    {
      "cell_type": "code",
      "source": [
        "print(frutas)\n",
        "frutas.count(\"banana\")"
      ],
      "metadata": {
        "colab": {
          "base_uri": "https://localhost:8080/"
        },
        "id": "IYU5rSFtWHp7",
        "outputId": "df4c0cd2-b98d-4c44-b701-871bce969261"
      },
      "execution_count": null,
      "outputs": [
        {
          "output_type": "stream",
          "name": "stdout",
          "text": [
            "('maça', 'banana', 'caju', 'banana', 'goiaba')\n"
          ]
        },
        {
          "output_type": "execute_result",
          "data": {
            "text/plain": [
              "2"
            ]
          },
          "metadata": {},
          "execution_count": 304
        }
      ]
    },
    {
      "cell_type": "code",
      "source": [
        "# Search for the first occurrence of the value, and return its position\n",
        "print(frutas)\n",
        "frutas.index(\"banana\")"
      ],
      "metadata": {
        "colab": {
          "base_uri": "https://localhost:8080/"
        },
        "id": "bPzaipmiWX4u",
        "outputId": "f23dbc9b-4637-4c01-a7d4-e0afaea3851f"
      },
      "execution_count": null,
      "outputs": [
        {
          "output_type": "stream",
          "name": "stdout",
          "text": [
            "('maça', 'banana', 'caju', 'banana', 'goiaba')\n"
          ]
        },
        {
          "output_type": "execute_result",
          "data": {
            "text/plain": [
              "1"
            ]
          },
          "metadata": {},
          "execution_count": 305
        }
      ]
    },
    {
      "cell_type": "code",
      "source": [
        "\"maça\" in frutas"
      ],
      "metadata": {
        "colab": {
          "base_uri": "https://localhost:8080/"
        },
        "id": "YqJV5SMuO8eR",
        "outputId": "9561aae0-2bbb-4343-9237-aa3c8d1f30ba"
      },
      "execution_count": null,
      "outputs": [
        {
          "output_type": "execute_result",
          "data": {
            "text/plain": [
              "True"
            ]
          },
          "metadata": {},
          "execution_count": 306
        }
      ]
    },
    {
      "cell_type": "markdown",
      "source": [
        "### Changing Tuples"
      ],
      "metadata": {
        "id": "u0DFNZTfPIBv"
      }
    },
    {
      "cell_type": "code",
      "source": [
        "# Transforma a tupla em uma lista e pode altera-la normalmente\n",
        "print(frutas)\n",
        "list_frutas = list(frutas)\n",
        "list_frutas.append(\"uva\")\n",
        "frutas = tuple(list_frutas)\n",
        "print(frutas)"
      ],
      "metadata": {
        "colab": {
          "base_uri": "https://localhost:8080/"
        },
        "id": "hBk-3dlRPMQA",
        "outputId": "21a40c19-5738-4e56-924a-c28738522a68"
      },
      "execution_count": null,
      "outputs": [
        {
          "output_type": "stream",
          "name": "stdout",
          "text": [
            "('maça', 'banana', 'caju', 'banana', 'goiaba')\n",
            "('maça', 'banana', 'caju', 'banana', 'goiaba', 'uva')\n"
          ]
        }
      ]
    },
    {
      "cell_type": "code",
      "source": [
        "# Add elements usando operador\n",
        "# Modifica a tupla\n",
        "print(frutas)\n",
        "a = (\"laranja\", \"pera\")\n",
        "frutas += a\n",
        "print(frutas)"
      ],
      "metadata": {
        "colab": {
          "base_uri": "https://localhost:8080/"
        },
        "id": "0GjhQAolPzNu",
        "outputId": "a15e9166-67b5-40dd-aba9-6c1a2f9fd4b6"
      },
      "execution_count": null,
      "outputs": [
        {
          "output_type": "stream",
          "name": "stdout",
          "text": [
            "('maça', 'banana', 'caju', 'banana', 'goiaba', 'uva')\n",
            "('maça', 'banana', 'caju', 'banana', 'goiaba', 'uva', 'laranja', 'pera')\n"
          ]
        }
      ]
    },
    {
      "cell_type": "markdown",
      "source": [
        "### Operacoes - Soma (Merge) e Multiplicação"
      ],
      "metadata": {
        "id": "aHK6II3aUvc5"
      }
    },
    {
      "cell_type": "code",
      "source": [
        "# Merge - cria uma nova tupla ou alterar a tupla existente\n",
        "a = (\"1\", \"2\")\n",
        "b = (\"3\", \"4\")\n",
        "c = a + b\n",
        "print(\"Nova\", c)\n",
        "a += b\n",
        "print(\"Original alterada\", a)"
      ],
      "metadata": {
        "colab": {
          "base_uri": "https://localhost:8080/"
        },
        "id": "LKGq6eTMTXJl",
        "outputId": "86b30ae3-b810-401f-b3c2-48a48313d499"
      },
      "execution_count": null,
      "outputs": [
        {
          "output_type": "stream",
          "name": "stdout",
          "text": [
            "Nova ('1', '2', '3', '4')\n",
            "Original alterada ('1', '2', '3', '4')\n"
          ]
        }
      ]
    },
    {
      "cell_type": "code",
      "source": [
        "# Multiplicar\n",
        "a = (\"1\", \"2\")\n",
        "b = a * 2\n",
        "print(\"Nova\", b)\n",
        "a *= 2\n",
        "print(\"Original alterada\", a)"
      ],
      "metadata": {
        "colab": {
          "base_uri": "https://localhost:8080/"
        },
        "id": "nlpwjT49UgAn",
        "outputId": "f746407a-b368-48c1-c1cd-5530c1e71606"
      },
      "execution_count": null,
      "outputs": [
        {
          "output_type": "stream",
          "name": "stdout",
          "text": [
            "Nova ('1', '2', '1', '2')\n",
            "Original alterada ('1', '2', '1', '2')\n"
          ]
        }
      ]
    },
    {
      "cell_type": "markdown",
      "source": [
        "### Deletar uma Tupla"
      ],
      "metadata": {
        "id": "Ea5Q4v8zT5Hm"
      }
    },
    {
      "cell_type": "code",
      "source": [
        "b = (\"1\", \"2\", \"3\")\n",
        "print(b)\n",
        "del b\n",
        "try:\n",
        "  print(b)\n",
        "except Exception as e:\n",
        "  print(str(e))"
      ],
      "metadata": {
        "colab": {
          "base_uri": "https://localhost:8080/"
        },
        "id": "9osWC5t1QSeA",
        "outputId": "893422ac-8578-4913-a70e-913b0f5ec7dd"
      },
      "execution_count": null,
      "outputs": [
        {
          "output_type": "stream",
          "name": "stdout",
          "text": [
            "('1', '2', '3')\n",
            "name 'b' is not defined\n"
          ]
        }
      ]
    },
    {
      "cell_type": "markdown",
      "source": [
        "# Sets\n",
        "\n",
        "A set is a collection which is unordered (indexed), unchangeable*, and unindexed.\n",
        "\n",
        "* Note: Set items are unchangeable, but you can remove items and add new items"
      ],
      "metadata": {
        "id": "xRxRG2X4ITuF"
      }
    },
    {
      "cell_type": "code",
      "source": [
        "thisset = {\"apple\", \"banana\", \"cherry\"}\n",
        "print(type(thisset))\n",
        "print(thisset)"
      ],
      "metadata": {
        "colab": {
          "base_uri": "https://localhost:8080/"
        },
        "id": "eH-yNd0GIlji",
        "outputId": "18f08f71-4270-4cc2-a770-1405342e74d7"
      },
      "execution_count": null,
      "outputs": [
        {
          "output_type": "stream",
          "name": "stdout",
          "text": [
            "<class 'set'>\n",
            "{'apple', 'banana', 'cherry'}\n"
          ]
        }
      ]
    },
    {
      "cell_type": "code",
      "source": [
        "thisset = set((\"apple\", \"banana\", \"cherry\"))\n",
        "print(thisset)"
      ],
      "metadata": {
        "colab": {
          "base_uri": "https://localhost:8080/"
        },
        "id": "p63RyVa_JW3N",
        "outputId": "25f0e88c-e274-4102-d862-c63b7c5e982f"
      },
      "execution_count": null,
      "outputs": [
        {
          "output_type": "stream",
          "name": "stdout",
          "text": [
            "{'apple', 'banana', 'cherry'}\n"
          ]
        }
      ]
    },
    {
      "cell_type": "code",
      "source": [
        "# do not allow duplicate values\n",
        "thisset = {\"apple\", \"banana\", \"banana\", \"cherry\"}\n",
        "print(thisset)\n",
        "\n",
        "# True and 1 is considered the same value in sets.\n",
        "# Also The values False and 0 are considered the same value\n",
        "thisset = {\"apple\", \"banana\", \"cherry\", True, 1, 2}\n",
        "print(thisset)"
      ],
      "metadata": {
        "colab": {
          "base_uri": "https://localhost:8080/"
        },
        "id": "TyT8P4U7Ivex",
        "outputId": "091e764f-7309-4b7b-d7a4-85a84ab37973"
      },
      "execution_count": null,
      "outputs": [
        {
          "output_type": "stream",
          "name": "stdout",
          "text": [
            "{'apple', 'banana', 'cherry'}\n",
            "{True, 2, 'apple', 'banana', 'cherry'}\n"
          ]
        }
      ]
    },
    {
      "cell_type": "markdown",
      "source": [
        "## Acess Values\n",
        "\n",
        "Since the set is not indexed, the only ways to acess values from a set is using loop or in"
      ],
      "metadata": {
        "id": "9fjy5BGHJzaZ"
      }
    },
    {
      "cell_type": "code",
      "source": [
        "\"banana\" in thisset"
      ],
      "metadata": {
        "colab": {
          "base_uri": "https://localhost:8080/"
        },
        "id": "aKQvVq6KJ1fF",
        "outputId": "c14f832c-b245-4a5a-d460-1dc4d858baa9"
      },
      "execution_count": null,
      "outputs": [
        {
          "output_type": "execute_result",
          "data": {
            "text/plain": [
              "True"
            ]
          },
          "metadata": {},
          "execution_count": 56
        }
      ]
    },
    {
      "cell_type": "markdown",
      "source": [
        "## Add Item to Set"
      ],
      "metadata": {
        "id": "CwfKfKrkKVQj"
      }
    },
    {
      "cell_type": "code",
      "source": [
        "# Add values\n",
        "print(thisset)\n",
        "thisset.add(\"orange\")\n",
        "print(thisset)"
      ],
      "metadata": {
        "colab": {
          "base_uri": "https://localhost:8080/"
        },
        "id": "NmtsgzCfKX8M",
        "outputId": "0befc47a-2b25-41a6-a79d-5eaa20097816"
      },
      "execution_count": null,
      "outputs": [
        {
          "output_type": "stream",
          "name": "stdout",
          "text": [
            "{'apple', 'banana', 'cherry'}\n",
            "{'apple', 'banana', 'orange', 'cherry'}\n"
          ]
        }
      ]
    },
    {
      "cell_type": "markdown",
      "source": [
        "## Remove Item"
      ],
      "metadata": {
        "id": "mkc1tKXVLxX5"
      }
    },
    {
      "cell_type": "code",
      "source": [
        "print(thisset)\n",
        "thisset.remove(\"papaya\")\n",
        "print(thisset)\n",
        "\n",
        "thisset.discard(\"orange\")\n",
        "print(thisset)"
      ],
      "metadata": {
        "colab": {
          "base_uri": "https://localhost:8080/"
        },
        "id": "kyb01VWNLmcN",
        "outputId": "ca59549d-2650-48ce-f01c-c842043ebf7a"
      },
      "execution_count": null,
      "outputs": [
        {
          "output_type": "stream",
          "name": "stdout",
          "text": [
            "{'tangerina', 'goiaba', 'orange', 'apple', 'uva', 'kiwi', 'cherry', 'papaya', 'pineapple', 'banana', 'mango'}\n",
            "{'tangerina', 'goiaba', 'orange', 'apple', 'uva', 'kiwi', 'cherry', 'pineapple', 'banana', 'mango'}\n",
            "{'tangerina', 'goiaba', 'apple', 'uva', 'kiwi', 'cherry', 'pineapple', 'banana', 'mango'}\n"
          ]
        }
      ]
    },
    {
      "cell_type": "code",
      "source": [
        "# If the item to remove does not exist, remove() will raise an error\n",
        "try:\n",
        "  thisset.remove(\"rosas\")\n",
        "except KeyError as e:\n",
        "  print('erro ao remover rosas')\n",
        "\n",
        "# otherwise discard() will NOT raise an error.\n",
        "thisset.discard(\"caramelo\")\n",
        "print(thisset)"
      ],
      "metadata": {
        "colab": {
          "base_uri": "https://localhost:8080/"
        },
        "id": "Q0DmjT3GLz0H",
        "outputId": "acd4d1db-509c-4378-d983-00c04d6334cb"
      },
      "execution_count": null,
      "outputs": [
        {
          "output_type": "stream",
          "name": "stdout",
          "text": [
            "erro ao remover rosas\n",
            "{'tangerina', 'goiaba', 'apple', 'uva', 'kiwi', 'cherry', 'pineapple', 'banana', 'mango'}\n"
          ]
        }
      ]
    },
    {
      "cell_type": "code",
      "source": [
        "# Remove a random item by using the pop() method\n",
        "print(thisset)\n",
        "x = thisset.pop()\n",
        "print(x)\n",
        "print(thisset)"
      ],
      "metadata": {
        "colab": {
          "base_uri": "https://localhost:8080/"
        },
        "id": "Q4BEw689Mzdo",
        "outputId": "86a8a366-38c5-4b00-a5df-a015d2770f1d"
      },
      "execution_count": null,
      "outputs": [
        {
          "output_type": "stream",
          "name": "stdout",
          "text": [
            "{'apple', 'cherry', 'uva', 'pineapple', 'banana', 'mango', 'kiwi'}\n",
            "apple\n",
            "{'cherry', 'uva', 'pineapple', 'banana', 'mango', 'kiwi'}\n"
          ]
        }
      ]
    },
    {
      "cell_type": "markdown",
      "source": [
        "## Copy Sets"
      ],
      "metadata": {
        "id": "mJDTwcwyWuW3"
      }
    },
    {
      "cell_type": "code",
      "source": [
        "print(thisset)\n",
        "x = thisset.copy()\n",
        "x.add(\"1\")\n",
        "print(x)\n",
        "\n",
        "del x\n",
        "print(thisset)"
      ],
      "metadata": {
        "colab": {
          "base_uri": "https://localhost:8080/"
        },
        "id": "7vN3MhgnWxD0",
        "outputId": "21c89e99-9895-446b-89ec-8b5febdfed82"
      },
      "execution_count": null,
      "outputs": [
        {
          "output_type": "stream",
          "name": "stdout",
          "text": [
            "{'tangerina', 'goiaba', 'apple', 'uva', 'kiwi', 'cherry', 'pineapple', 'banana', 'mango'}\n",
            "{'tangerina', 'apple', 'cherry', 'uva', 'pineapple', '1', 'goiaba', 'banana', 'mango', 'kiwi'}\n",
            "{'tangerina', 'goiaba', 'apple', 'uva', 'kiwi', 'cherry', 'pineapple', 'banana', 'mango'}\n"
          ]
        }
      ]
    },
    {
      "cell_type": "markdown",
      "source": [
        "## Clear/Del"
      ],
      "metadata": {
        "id": "CDgL-UXANJHa"
      }
    },
    {
      "cell_type": "code",
      "source": [
        "# The clear() method empties the set\n",
        "thisset = {\"apple\", \"banana\", \"cherry\"}\n",
        "print(thisset)\n",
        "thisset.clear()\n",
        "print(thisset)"
      ],
      "metadata": {
        "colab": {
          "base_uri": "https://localhost:8080/"
        },
        "id": "kvO0Na4xNLWH",
        "outputId": "1a8f6d2a-0258-4343-e138-1dddba2ab057"
      },
      "execution_count": null,
      "outputs": [
        {
          "output_type": "stream",
          "name": "stdout",
          "text": [
            "{'apple', 'banana', 'cherry'}\n",
            "set()\n"
          ]
        }
      ]
    },
    {
      "cell_type": "code",
      "source": [
        "# The del keyword will delete the set completely:\n",
        "thisset = {\"apple\", \"banana\", \"cherry\"}\n",
        "print(thisset)\n",
        "del thisset\n",
        "try:\n",
        "  print(thisset)\n",
        "except Exception as e:\n",
        "  print(e)"
      ],
      "metadata": {
        "colab": {
          "base_uri": "https://localhost:8080/"
        },
        "id": "ctzBm9YvNR43",
        "outputId": "09bd8ffc-b17d-4312-e124-38f602d1bd49"
      },
      "execution_count": null,
      "outputs": [
        {
          "output_type": "stream",
          "name": "stdout",
          "text": [
            "{'apple', 'banana', 'cherry'}\n",
            "name 'thisset' is not defined\n"
          ]
        }
      ]
    },
    {
      "cell_type": "markdown",
      "source": [
        "## Join Sets\n",
        "\n",
        "There are several ways to join two or more sets in Python.\n",
        "\n",
        "The **union()** and **update()** methods joins all items from both sets.\n",
        "\n",
        "The **intersection()** method keeps ONLY the duplicates.\n",
        "\n",
        "The **difference()** method keeps the items from the first set that are not in the other set(s).\n",
        "\n",
        "The **symmetric_difference()** method keeps all items EXCEPT the duplicates."
      ],
      "metadata": {
        "id": "FaiMyjxkQY19"
      }
    },
    {
      "cell_type": "markdown",
      "source": [
        "### Update"
      ],
      "metadata": {
        "id": "GqNDVwQ4ULuB"
      }
    },
    {
      "cell_type": "code",
      "source": [
        "set1 = {\"a\", \"b\", \"c\"}\n",
        "set1.update({\"pineapple\", \"mango\", \"papaya\"}) #set\n",
        "set1.update([\"kiwi\", \"uva\"]) # list\n",
        "set1.update((\"goiaba\", \"tangerina\")) # tuple\n",
        "print(set1)\n",
        "\n",
        "# o shortcut |= não aceita outros tipos que não sejam set\n",
        "set1 = {\"a\", \"b\", \"c\"}\n",
        "set1 |= {\"pineapple\", \"mango\", \"papaya\"} | {\"John\", \"Elena\"}\n",
        "print(set1)"
      ],
      "metadata": {
        "colab": {
          "base_uri": "https://localhost:8080/"
        },
        "id": "6SCnUC6VK8Zm",
        "outputId": "944891ba-2921-4fd0-d36e-cb4b1fe3e6d7"
      },
      "execution_count": null,
      "outputs": [
        {
          "output_type": "stream",
          "name": "stdout",
          "text": [
            "{'mango', 'c', 'uva', 'kiwi', 'b', 'tangerina', 'a', 'goiaba', 'papaya', 'pineapple'}\n",
            "{'Elena', 'pineapple', 'John', 'a', 'mango', 'papaya', 'c', 'b'}\n"
          ]
        }
      ]
    },
    {
      "cell_type": "markdown",
      "source": [
        "### Union\n",
        "\n",
        "The diference between union and update, is that update will change the actual set, and the union will create a new set"
      ],
      "metadata": {
        "id": "LL-32JRXT6va"
      }
    },
    {
      "cell_type": "code",
      "source": [
        "set1 = {\"a\", \"b\", \"c\"}\n",
        "set2 = {1, 2, 3, \"a\"}\n",
        "set3 = {\"John\", \"Elena\"}\n",
        "tuple1 = (1,2,5,6,7)\n",
        "\n",
        "setn = set1.union(set2, set3, tuple1)\n",
        "print(setn)\n",
        "\n",
        "# The  | operator only allows you to join sets only with other sets\n",
        "setn = set1 | set2 | set3\n",
        "print(setn)"
      ],
      "metadata": {
        "colab": {
          "base_uri": "https://localhost:8080/"
        },
        "id": "bR15WIiQS9PL",
        "outputId": "cf38049a-fd24-46c6-cd22-5dfe680d3e45"
      },
      "execution_count": null,
      "outputs": [
        {
          "output_type": "stream",
          "name": "stdout",
          "text": [
            "{1, 2, 3, 5, 6, 7, 'b', 'a', 'John', 'c', 'Elena'}\n",
            "{1, 2, 3, 'a', 'John', 'c', 'Elena', 'b'}\n"
          ]
        }
      ]
    },
    {
      "cell_type": "markdown",
      "source": [
        "### Intersections"
      ],
      "metadata": {
        "id": "xK6zB1STUYGC"
      }
    },
    {
      "cell_type": "markdown",
      "source": [
        "**intersection()** returns a set, that is the intersection of two other sets\n",
        "\n",
        "Keeping ONLY the duplicates"
      ],
      "metadata": {
        "id": "zQ2QeI4vjjwd"
      }
    },
    {
      "cell_type": "code",
      "source": [
        "set1 = {\"apple\", \"banana\", \"cherry\"}\n",
        "set2 = {\"google\", \"microsoft\", \"apple\", \"banana\"}\n",
        "set3 = {\"google\", \"microsoft\", \"banana\"}\n",
        "\n",
        "setn = set1.intersection(set2, set3)\n",
        "print(setn)\n",
        "\n",
        "setn = set1 & set2 & set3\n",
        "print(setn)"
      ],
      "metadata": {
        "colab": {
          "base_uri": "https://localhost:8080/"
        },
        "id": "1QnDUJQTQamm",
        "outputId": "d6252c6f-da16-44fa-ea49-a553735c4888"
      },
      "execution_count": null,
      "outputs": [
        {
          "output_type": "stream",
          "name": "stdout",
          "text": [
            "{'banana'}\n",
            "{'banana'}\n"
          ]
        }
      ]
    },
    {
      "cell_type": "markdown",
      "source": [
        "The **intersection_update()**\n",
        "method will also keep ONLY the duplicates, but it will change the original set instead of returning a new set"
      ],
      "metadata": {
        "id": "P78Jr6GViUpP"
      }
    },
    {
      "cell_type": "code",
      "source": [
        "set1.intersection_update(set2, set3)\n",
        "print(set1)\n",
        "\n",
        "set1 = {\"apple\", \"banana\", \"cherry\"}\n",
        "set1 &= set2 & set3\n",
        "print(set1)"
      ],
      "metadata": {
        "colab": {
          "base_uri": "https://localhost:8080/"
        },
        "id": "GDc1siHFiZBv",
        "outputId": "a01c3cff-eacb-4271-da8b-b3cd1758732b"
      },
      "execution_count": null,
      "outputs": [
        {
          "output_type": "stream",
          "name": "stdout",
          "text": [
            "{'banana'}\n",
            "{'banana'}\n"
          ]
        }
      ]
    },
    {
      "cell_type": "markdown",
      "source": [
        "### Difference\n",
        "\n",
        "The difference() method will return a new set that will contain only the items from the first set that are not present in the other set."
      ],
      "metadata": {
        "id": "a_Q2d84sVY-B"
      }
    },
    {
      "cell_type": "code",
      "source": [
        "set1 = {\"apple\", \"banana\", \"cherry\",\"uva\"}\n",
        "set2 = {\"google\", \"microsoft\", \"apple\"}\n",
        "set3 = {\"google\", \"microsoft\", \"banana\"}\n",
        "\n",
        "setn = set1.difference(set2, set3)\n",
        "print(setn)\n",
        "\n",
        "setn = set1 - set2 - set3\n",
        "print(setn)"
      ],
      "metadata": {
        "colab": {
          "base_uri": "https://localhost:8080/"
        },
        "id": "Wmv-j1dOVflS",
        "outputId": "61732800-617a-4a9f-a7b0-2c4004b173b5"
      },
      "execution_count": null,
      "outputs": [
        {
          "output_type": "stream",
          "name": "stdout",
          "text": [
            "{'cherry', 'uva'}\n",
            "{'cherry', 'uva'}\n"
          ]
        }
      ]
    },
    {
      "cell_type": "markdown",
      "source": [
        "Use the difference_update() method to keep the items that are not present in both sets"
      ],
      "metadata": {
        "id": "6_oSc32ihBmX"
      }
    },
    {
      "cell_type": "code",
      "source": [
        "set1.difference_update(set2, set3)\n",
        "print(set1)\n",
        "\n",
        "set1 = {\"apple\", \"banana\", \"cherry\",\"uva\"}\n",
        "set1 -= set2 | set3\n",
        "print(set1)"
      ],
      "metadata": {
        "colab": {
          "base_uri": "https://localhost:8080/"
        },
        "id": "0KqkG3qmg99m",
        "outputId": "4045e181-3a60-4dd9-8d91-3c6775793043"
      },
      "execution_count": null,
      "outputs": [
        {
          "output_type": "stream",
          "name": "stdout",
          "text": [
            "{'cherry', 'uva'}\n",
            "{'cherry', 'uva'}\n"
          ]
        }
      ]
    },
    {
      "cell_type": "markdown",
      "source": [
        "### Symmetric Differences\n",
        "\n",
        "The **symmetric_difference()** method will keep only the elements that are NOT present in both sets."
      ],
      "metadata": {
        "id": "oGC8a84QVvJQ"
      }
    },
    {
      "cell_type": "code",
      "source": [
        "set1 = {\"apple\", \"banana\", \"cherry\"}\n",
        "set2 = {\"google\", \"microsoft\", \"apple\"}\n",
        "\n",
        "setn = set1.symmetric_difference(set2)\n",
        "print(setn)\n",
        "\n",
        "setn = set1 ^ set2\n",
        "print(setn)"
      ],
      "metadata": {
        "colab": {
          "base_uri": "https://localhost:8080/"
        },
        "id": "FbAfJZCYVxGu",
        "outputId": "fad47d91-1d2b-4d76-a957-cf50693a254c"
      },
      "execution_count": null,
      "outputs": [
        {
          "output_type": "stream",
          "name": "stdout",
          "text": [
            "{'microsoft', 'cherry', 'google', 'banana'}\n",
            "{'microsoft', 'cherry', 'google', 'banana'}\n"
          ]
        }
      ]
    },
    {
      "cell_type": "markdown",
      "source": [
        "The **symmetric_difference_update()** method will also keep all but the duplicates, but it will change the original set instead of returning a new set"
      ],
      "metadata": {
        "id": "TATeTvJlnHdS"
      }
    },
    {
      "cell_type": "code",
      "source": [
        "set1.symmetric_difference_update(set2)\n",
        "print(set1)\n",
        "\n",
        "set1 = {\"apple\", \"banana\", \"cherry\"}\n",
        "set1 ^= set2\n",
        "print(set1)"
      ],
      "metadata": {
        "colab": {
          "base_uri": "https://localhost:8080/"
        },
        "id": "eJpN4LrnnGwV",
        "outputId": "b097eaa8-c686-46e7-e868-4afbff0faffb"
      },
      "execution_count": null,
      "outputs": [
        {
          "output_type": "stream",
          "name": "stdout",
          "text": [
            "{'microsoft', 'cherry', 'google', 'banana'}\n",
            "{'microsoft', 'cherry', 'google', 'banana'}\n"
          ]
        }
      ]
    },
    {
      "cell_type": "markdown",
      "source": [
        "## Comparing Sets"
      ],
      "metadata": {
        "id": "1zZGL9x5lF93"
      }
    },
    {
      "cell_type": "markdown",
      "source": [
        "The **isdisjoint()** method returns False if one or more items are present in both sets, otherwise it returns True."
      ],
      "metadata": {
        "id": "obdlXcuyjnmi"
      }
    },
    {
      "cell_type": "code",
      "source": [
        "set1 = {\"a\", \"b\", \"c\"}\n",
        "set2 = {\"f\", \"e\", \"d\", \"c\", \"b\", \"a\"}\n",
        "\n",
        "print(set1.isdisjoint(set2))"
      ],
      "metadata": {
        "colab": {
          "base_uri": "https://localhost:8080/"
        },
        "id": "CKbut0stjquK",
        "outputId": "821e78a5-2a54-4ddc-eed6-2c617bc0d201"
      },
      "execution_count": null,
      "outputs": [
        {
          "output_type": "stream",
          "name": "stdout",
          "text": [
            "False\n"
          ]
        }
      ]
    },
    {
      "cell_type": "markdown",
      "source": [
        "The **issubset()** method returns True if all items in the set exists in the specified set, otherwise it returns False"
      ],
      "metadata": {
        "id": "Wr_Ln7kylLmz"
      }
    },
    {
      "cell_type": "code",
      "source": [
        "print(set1.issubset(set2))\n",
        "\n",
        "print(set1 <= set2)\n",
        "\n",
        "print(set1 < set2)"
      ],
      "metadata": {
        "colab": {
          "base_uri": "https://localhost:8080/"
        },
        "id": "HjwWAqculcsM",
        "outputId": "37e9d928-1005-4da2-fbbe-f6aedd61db54"
      },
      "execution_count": null,
      "outputs": [
        {
          "output_type": "stream",
          "name": "stdout",
          "text": [
            "True\n",
            "True\n",
            "True\n"
          ]
        }
      ]
    },
    {
      "cell_type": "code",
      "source": [
        "x = {\"a\", \"b\", \"apple\"}\n",
        "y = {\"f\", \"e\", \"d\", \"c\", \"b\", \"a\"}\n",
        "\n",
        "print(x.issubset(y))\n",
        "print(x <= y)\n",
        "print(x < y)"
      ],
      "metadata": {
        "colab": {
          "base_uri": "https://localhost:8080/"
        },
        "id": "rJa-3wBUlqUh",
        "outputId": "1c4df18c-05ce-4967-ca44-dd943799b085"
      },
      "execution_count": null,
      "outputs": [
        {
          "output_type": "stream",
          "name": "stdout",
          "text": [
            "False\n",
            "False\n",
            "False\n"
          ]
        }
      ]
    },
    {
      "cell_type": "markdown",
      "source": [
        "The **issuperset()** method returns True if all items in the specified set exists in the original set, otherwise it returns False."
      ],
      "metadata": {
        "id": "9HybQRe8maWW"
      }
    },
    {
      "cell_type": "code",
      "source": [
        "x = {\"f\", \"e\", \"d\", \"c\", \"b\", \"a\"}\n",
        "y = {\"a\", \"b\", \"c\"}\n",
        "\n",
        "print(x.issuperset(y))\n",
        "print(x >= y)\n",
        "print(x > y)"
      ],
      "metadata": {
        "colab": {
          "base_uri": "https://localhost:8080/"
        },
        "id": "uGcZRcWhmfFp",
        "outputId": "73725e85-732f-4f2b-d020-2ccf77aa40fe"
      },
      "execution_count": null,
      "outputs": [
        {
          "output_type": "stream",
          "name": "stdout",
          "text": [
            "True\n",
            "True\n",
            "True\n"
          ]
        }
      ]
    },
    {
      "cell_type": "markdown",
      "source": [
        "# Dictionaries\n",
        "\n",
        "A dictionary is a collection which is ordered (indexed), changeable and do not allow duplicates (key duplicated - duplicate key will overwrite existing values).\n",
        "\n",
        "https://www.w3schools.com/python/python_dictionaries.asp\n",
        "\n",
        "**In Python 3.6 and earlier, dictionaries are unordered"
      ],
      "metadata": {
        "id": "Q_APDwDKomtH"
      }
    },
    {
      "cell_type": "code",
      "source": [
        "d =\t{\n",
        "  \"brand\": \"Ford\",\n",
        "  \"electric\": False,\n",
        "  \"year\": 1964,\n",
        "  \"colors\": [\"red\", \"white\", \"blue\"]\n",
        "}\n",
        "print(type(d))\n",
        "print(d)\n",
        "\n",
        "d = dict(name = \"John\", age = 36, country = \"Norway\")\n",
        "print(d)\n",
        "\n",
        "family = {\n",
        "    'child1': {\n",
        "      \"name\" : \"Linus\",\n",
        "      \"year\" : 2011\n",
        "    },\n",
        "    'child2': {\n",
        "      \"name\" : \"Tobias\",\n",
        "      \"year\" : 2007\n",
        "    }\n",
        "}\n",
        "print(family)"
      ],
      "metadata": {
        "colab": {
          "base_uri": "https://localhost:8080/"
        },
        "id": "X1GtDa-Aop_K",
        "outputId": "45b2b56b-ef8b-47ba-dd07-98df4400e2ec"
      },
      "execution_count": null,
      "outputs": [
        {
          "output_type": "stream",
          "name": "stdout",
          "text": [
            "<class 'dict'>\n",
            "{'brand': 'Ford', 'electric': False, 'year': 1964, 'colors': ['red', 'white', 'blue']}\n",
            "{'name': 'John', 'age': 36, 'country': 'Norway'}\n",
            "{'child1': {'name': 'Linus', 'year': 2011}, 'child2': {'name': 'Tobias', 'year': 2007}}\n"
          ]
        }
      ]
    },
    {
      "cell_type": "markdown",
      "source": [
        "The **fromkeys()** method returns a dictionary with the specified keys and the specified value."
      ],
      "metadata": {
        "id": "fElW5bJr0Wcn"
      }
    },
    {
      "cell_type": "code",
      "source": [
        "x = ('key1', 'key2', 'key3')\n",
        "y = 0\n",
        "\n",
        "d1 = dict.fromkeys(x, y)\n",
        "print(d1)\n",
        "\n",
        "d2 = dict.fromkeys(x)\n",
        "print(d2)\n",
        "\n",
        "d3 = dict.fromkeys(['1','2','3'])\n",
        "print(d3)\n",
        "\n",
        "d4 = dict.fromkeys(('fruta','verdura','semente'))\n",
        "print(d4)"
      ],
      "metadata": {
        "colab": {
          "base_uri": "https://localhost:8080/"
        },
        "id": "bIw8rcZa0Yz0",
        "outputId": "87bb944a-d375-49c1-a809-1368f1839071"
      },
      "execution_count": null,
      "outputs": [
        {
          "output_type": "stream",
          "name": "stdout",
          "text": [
            "{'key1': 0, 'key2': 0, 'key3': 0}\n",
            "{'key1': None, 'key2': None, 'key3': None}\n",
            "{'1': None, '2': None, '3': None}\n",
            "{'fruta': None, 'verdura': None, 'semente': None}\n"
          ]
        }
      ]
    },
    {
      "cell_type": "markdown",
      "source": [
        "## Acessing Items"
      ],
      "metadata": {
        "id": "OpIwqlpUqWs3"
      }
    },
    {
      "cell_type": "code",
      "source": [
        "# The keys() method will return a list of all the keys in the dictionary\n",
        "print(d.keys())"
      ],
      "metadata": {
        "colab": {
          "base_uri": "https://localhost:8080/"
        },
        "id": "3IoTX4ODqo2u",
        "outputId": "09620178-3753-4134-8163-85b18fd2c580"
      },
      "execution_count": null,
      "outputs": [
        {
          "output_type": "stream",
          "name": "stdout",
          "text": [
            "dict_keys(['name', 'age', 'country'])\n"
          ]
        }
      ]
    },
    {
      "cell_type": "code",
      "source": [
        "# The values() method will return a list of all the values in the dictionary.\n",
        "print(d.values())"
      ],
      "metadata": {
        "colab": {
          "base_uri": "https://localhost:8080/"
        },
        "id": "13lRrdGPqxwy",
        "outputId": "f09ccdc2-8762-4676-af46-e17e48f6e030"
      },
      "execution_count": null,
      "outputs": [
        {
          "output_type": "stream",
          "name": "stdout",
          "text": [
            "dict_values(['John', 36, 'Norway'])\n"
          ]
        }
      ]
    },
    {
      "cell_type": "code",
      "source": [
        "# The items() method will return each item in a dictionary, as tuples in a list\n",
        "print(d.items())"
      ],
      "metadata": {
        "colab": {
          "base_uri": "https://localhost:8080/"
        },
        "id": "fcXkRVPsrAVe",
        "outputId": "300eb8a4-9de4-48a5-d88c-e447f499a7ff"
      },
      "execution_count": null,
      "outputs": [
        {
          "output_type": "stream",
          "name": "stdout",
          "text": [
            "dict_items([('name', 'John'), ('age', 36), ('country', 'Norway')])\n"
          ]
        }
      ]
    },
    {
      "cell_type": "code",
      "source": [
        "print(d['name'])\n",
        "print(d.get('name'))"
      ],
      "metadata": {
        "colab": {
          "base_uri": "https://localhost:8080/"
        },
        "id": "zTMphWjVqYwQ",
        "outputId": "a8acb2b1-0f45-4497-8505-060ce217e5ed"
      },
      "execution_count": null,
      "outputs": [
        {
          "output_type": "stream",
          "name": "stdout",
          "text": [
            "John\n",
            "John\n"
          ]
        }
      ]
    },
    {
      "cell_type": "code",
      "source": [
        "print(family['child1']['name'])\n",
        "print(family.get('child1'))\n",
        "print(family['child1'].get('name'))"
      ],
      "metadata": {
        "colab": {
          "base_uri": "https://localhost:8080/"
        },
        "id": "lBeRByJ2xuzd",
        "outputId": "76a66073-6d39-4b77-b53c-39e2b672b63f"
      },
      "execution_count": null,
      "outputs": [
        {
          "output_type": "stream",
          "name": "stdout",
          "text": [
            "Linus\n",
            "{'name': 'Linus', 'year': 2011}\n",
            "Linus\n"
          ]
        }
      ]
    },
    {
      "cell_type": "markdown",
      "source": [
        "The **setdefault()** method returns the value of the item with the specified key.\n",
        "\n",
        "If the key does not exist, insert the key, with the specified value"
      ],
      "metadata": {
        "id": "OV6q8T-w1V4u"
      }
    },
    {
      "cell_type": "code",
      "source": [
        "print(d.setdefault('name','Não Informado'))"
      ],
      "metadata": {
        "colab": {
          "base_uri": "https://localhost:8080/"
        },
        "id": "oG7ygqvQ1R4E",
        "outputId": "b1794ffb-bf48-4bf1-d22a-740a3c06a941"
      },
      "execution_count": null,
      "outputs": [
        {
          "output_type": "stream",
          "name": "stdout",
          "text": [
            "John\n"
          ]
        }
      ]
    },
    {
      "cell_type": "code",
      "source": [
        "print(d.setdefault('prato_favorito','lasanha'))"
      ],
      "metadata": {
        "colab": {
          "base_uri": "https://localhost:8080/"
        },
        "id": "faKP9RRj1jwN",
        "outputId": "324963d5-10c7-424a-d247-c26921160b4a"
      },
      "execution_count": null,
      "outputs": [
        {
          "output_type": "stream",
          "name": "stdout",
          "text": [
            "lasanha\n"
          ]
        }
      ]
    },
    {
      "cell_type": "code",
      "source": [
        "print(d.setdefault('cor_favorita'))"
      ],
      "metadata": {
        "colab": {
          "base_uri": "https://localhost:8080/"
        },
        "id": "ya0wGK781xTi",
        "outputId": "97ed2f41-fa23-4d8c-8b37-d61a7641b712"
      },
      "execution_count": null,
      "outputs": [
        {
          "output_type": "stream",
          "name": "stdout",
          "text": [
            "None\n"
          ]
        }
      ]
    },
    {
      "cell_type": "markdown",
      "source": [
        "## Change/Add Values"
      ],
      "metadata": {
        "id": "G9mBdcSdrV-M"
      }
    },
    {
      "cell_type": "code",
      "source": [
        "print(d)\n",
        "d['name'] = 'Mary'\n",
        "d['language'] = 'Spanish'\n",
        "d.update({'age': 25})\n",
        "d.update({'pet': 'cat'})\n",
        "print(d)"
      ],
      "metadata": {
        "colab": {
          "base_uri": "https://localhost:8080/"
        },
        "id": "-I1MlhPhrYC8",
        "outputId": "0fdca5fe-245c-4a35-f24b-778db9baf703"
      },
      "execution_count": null,
      "outputs": [
        {
          "output_type": "stream",
          "name": "stdout",
          "text": [
            "{'name': 'Mary', 'age': 25, 'country': 'Norway'}\n",
            "{'name': 'Mary', 'age': 25, 'country': 'Norway', 'language': 'Spanish', 'pet': 'cat'}\n"
          ]
        }
      ]
    },
    {
      "cell_type": "markdown",
      "source": [
        "## Remove Itens"
      ],
      "metadata": {
        "id": "ueAXsAdbsIdn"
      }
    },
    {
      "cell_type": "code",
      "source": [
        "# The pop() method removes the item with the specified key name:\n",
        "print(d)\n",
        "item = d.pop('pet')\n",
        "print('removed:', item)\n",
        "del d['age']\n",
        "print(d)"
      ],
      "metadata": {
        "colab": {
          "base_uri": "https://localhost:8080/"
        },
        "id": "9OMPeB-6sKa4",
        "outputId": "1b601ec4-2537-471c-c349-3f45dbe73b89"
      },
      "execution_count": null,
      "outputs": [
        {
          "output_type": "stream",
          "name": "stdout",
          "text": [
            "{'name': 'Mary', 'age': 25, 'country': 'Norway', 'language': 'Spanish', 'pet': 'cat'}\n",
            "removed: cat\n",
            "{'name': 'Mary', 'country': 'Norway', 'language': 'Spanish'}\n"
          ]
        }
      ]
    },
    {
      "cell_type": "code",
      "source": [
        "# The popitem() method removes the last inserted item (in versions before 3.7, a random item is removed instead):\n",
        "print(d)\n",
        "item = d.popitem()\n",
        "print('removed:', item)\n",
        "print(d)"
      ],
      "metadata": {
        "colab": {
          "base_uri": "https://localhost:8080/"
        },
        "id": "vkffSNgMrg4a",
        "outputId": "d992172a-330d-4d0e-88a1-4ff743342ee2"
      },
      "execution_count": null,
      "outputs": [
        {
          "output_type": "stream",
          "name": "stdout",
          "text": [
            "{'name': 'Mary', 'country': 'Norway', 'language': 'Spanish'}\n",
            "removed: ('language', 'Spanish')\n",
            "{'name': 'Mary', 'country': 'Norway'}\n"
          ]
        }
      ]
    },
    {
      "cell_type": "markdown",
      "source": [
        "## Clear/Del"
      ],
      "metadata": {
        "id": "-b4SKJhXtWwU"
      }
    },
    {
      "cell_type": "code",
      "source": [
        "thisdict =\t{\n",
        "  \"brand\": \"Ford\",\n",
        "  \"model\": \"Mustang\",\n",
        "  \"year\": 1964\n",
        "}\n",
        "del thisdict\n",
        "try:\n",
        "  print(thisdict)\n",
        "except Exception as e:\n",
        "  print(e)"
      ],
      "metadata": {
        "colab": {
          "base_uri": "https://localhost:8080/"
        },
        "id": "RwClG2u9tBaI",
        "outputId": "9ed96a09-6e01-4d8b-e0d4-bcc51495ec70"
      },
      "execution_count": null,
      "outputs": [
        {
          "output_type": "stream",
          "name": "stdout",
          "text": [
            "name 'thisdict' is not defined\n"
          ]
        }
      ]
    },
    {
      "cell_type": "code",
      "source": [
        "thisdict =\t{\n",
        "  \"brand\": \"Ford\",\n",
        "  \"model\": \"Mustang\",\n",
        "  \"year\": 1964\n",
        "}\n",
        "thisdict.clear()\n",
        "print(thisdict)"
      ],
      "metadata": {
        "colab": {
          "base_uri": "https://localhost:8080/"
        },
        "id": "vgV7j1tWtZvn",
        "outputId": "3ed1e809-e2a1-4940-f187-c9f8bf7eb56d"
      },
      "execution_count": null,
      "outputs": [
        {
          "output_type": "stream",
          "name": "stdout",
          "text": [
            "{}\n"
          ]
        }
      ]
    },
    {
      "cell_type": "markdown",
      "source": [
        "## Copy"
      ],
      "metadata": {
        "id": "uD2aX0chwnKb"
      }
    },
    {
      "cell_type": "code",
      "source": [],
      "metadata": {
        "id": "79O8kQEswotn"
      },
      "execution_count": null,
      "outputs": []
    },
    {
      "cell_type": "code",
      "source": [
        "# You cannot copy a dictionary simply by typing dict2 = dict1,\n",
        "# because: dict2 will only be a reference to dict1, and changes made in dict1 will automatically also be made in dict2\n",
        "d1 =\t{\n",
        "  \"brand\": \"Ford\",\n",
        "  \"model\": \"Mustang\",\n",
        "  \"year\": 1964\n",
        "}\n",
        "d2 = d1\n",
        "d2.pop('brand')\n",
        "print(d1)"
      ],
      "metadata": {
        "colab": {
          "base_uri": "https://localhost:8080/"
        },
        "id": "O79ZAPRAw0z0",
        "outputId": "65216a08-3223-4336-93cf-525ee530b9b8"
      },
      "execution_count": null,
      "outputs": [
        {
          "output_type": "stream",
          "name": "stdout",
          "text": [
            "{'model': 'Mustang', 'year': 1964}\n"
          ]
        }
      ]
    },
    {
      "cell_type": "code",
      "source": [
        "d1 =\t{\n",
        "  \"brand\": \"Ford\",\n",
        "  \"model\": \"Mustang\",\n",
        "  \"year\": 1964\n",
        "}\n",
        "d2 = d1.copy()\n",
        "d2.pop('brand')\n",
        "print(d1)\n",
        "print(d2)"
      ],
      "metadata": {
        "colab": {
          "base_uri": "https://localhost:8080/"
        },
        "id": "bDmNWvqvwzq5",
        "outputId": "978704a7-d356-4284-a3d6-63cb4f5e2e22"
      },
      "execution_count": null,
      "outputs": [
        {
          "output_type": "stream",
          "name": "stdout",
          "text": [
            "{'brand': 'Ford', 'model': 'Mustang', 'year': 1964}\n",
            "{'model': 'Mustang', 'year': 1964}\n"
          ]
        }
      ]
    },
    {
      "cell_type": "code",
      "source": [
        "d1 =\t{\n",
        "  \"brand\": \"Ford\",\n",
        "  \"model\": \"Mustang\",\n",
        "  \"year\": 1964\n",
        "}\n",
        "d2 = dict(d1)\n",
        "d2.pop('brand')\n",
        "print(d1)\n",
        "print(d2)"
      ],
      "metadata": {
        "colab": {
          "base_uri": "https://localhost:8080/"
        },
        "id": "Jwte2LFCxM3J",
        "outputId": "fb95bfa8-c488-4bcd-bb61-f21f35031dff"
      },
      "execution_count": null,
      "outputs": [
        {
          "output_type": "stream",
          "name": "stdout",
          "text": [
            "{'brand': 'Ford', 'model': 'Mustang', 'year': 1964}\n",
            "{'model': 'Mustang', 'year': 1964}\n"
          ]
        }
      ]
    },
    {
      "cell_type": "markdown",
      "source": [
        "# Slicing In Lists | Tuple | Strings\n",
        "\n",
        "Syntax: **variable_name[start:end:step]**\n",
        "\n",
        "**start** (optional): The index of the first element to include (defaults to 0, the beginning).\n",
        "\n",
        "**end** (optional): The index of the element just after the last element to include (defaults to the end of the sequence).\n",
        "\n",
        "**step** (optional): The step size between elements (defaults to 1, including every element). The end index is exclusive, meaning the element at that index isn't included in the slice.\n",
        "\n",
        "Slicing creates a new list, it doesn't modify the original.\n",
        "\n",
        "Slicing uses zero-based indexing, similar to accessing elements directly.\n",
        "\n",
        "Can be used to reverse de list - see Reverses topic below\n",
        "\n",
        "Can be used with **LISTs** and **TUPLEs** and **STRINGS**"
      ],
      "metadata": {
        "id": "naffH0le5sWV"
      }
    },
    {
      "cell_type": "code",
      "source": [
        "print(names)\n",
        "names[0]"
      ],
      "metadata": {
        "colab": {
          "base_uri": "https://localhost:8080/",
          "height": 53
        },
        "id": "-pjn8lEC9HwF",
        "outputId": "7010a8f3-ea01-446f-b983-dad7cb7f2377"
      },
      "execution_count": null,
      "outputs": [
        {
          "output_type": "stream",
          "name": "stdout",
          "text": [
            "['Maria', 'José', 'Carlos', 'Camila', 'Darci']\n"
          ]
        },
        {
          "output_type": "execute_result",
          "data": {
            "text/plain": [
              "'Maria'"
            ],
            "application/vnd.google.colaboratory.intrinsic+json": {
              "type": "string"
            }
          },
          "metadata": {},
          "execution_count": 3
        }
      ]
    },
    {
      "cell_type": "code",
      "source": [
        "# Usando indices negativos retorna os elementos do fim para o inicio\n",
        "print(names)\n",
        "names[-1]"
      ],
      "metadata": {
        "colab": {
          "base_uri": "https://localhost:8080/",
          "height": 53
        },
        "id": "MzQBwoBeiOme",
        "outputId": "0db3c625-ad68-49ef-e42b-29e296aa4616"
      },
      "execution_count": null,
      "outputs": [
        {
          "output_type": "stream",
          "name": "stdout",
          "text": [
            "['Maria', 'José', 'Carlos', 'Camila', 'Darci']\n"
          ]
        },
        {
          "output_type": "execute_result",
          "data": {
            "text/plain": [
              "'Darci'"
            ],
            "application/vnd.google.colaboratory.intrinsic+json": {
              "type": "string"
            }
          },
          "metadata": {},
          "execution_count": 4
        }
      ]
    },
    {
      "cell_type": "code",
      "source": [
        "# Pega do 0 ao 3 - equivale a names[0:4:None]\n",
        "parte = names[:4]\n",
        "print(names)\n",
        "parte"
      ],
      "metadata": {
        "colab": {
          "base_uri": "https://localhost:8080/"
        },
        "id": "NTyfC9oBi8Gg",
        "outputId": "9bb91b03-2f9a-4783-ca53-1ee4ac87d01a"
      },
      "execution_count": null,
      "outputs": [
        {
          "output_type": "stream",
          "name": "stdout",
          "text": [
            "['Maria', 'José', 'Carlos', 'Camila', 'Darci']\n"
          ]
        },
        {
          "output_type": "execute_result",
          "data": {
            "text/plain": [
              "['Maria', 'José', 'Carlos', 'Camila']"
            ]
          },
          "metadata": {},
          "execution_count": 5
        }
      ]
    },
    {
      "cell_type": "code",
      "source": [
        "# Pega do 0 até o penúltimo elemento - equivale a names[0:-1]\n",
        "parte = names[:-1]\n",
        "print(names)\n",
        "parte"
      ],
      "metadata": {
        "colab": {
          "base_uri": "https://localhost:8080/"
        },
        "id": "gRe3karH8Xxu",
        "outputId": "0b152520-1921-4a49-f08c-2d248208386f"
      },
      "execution_count": null,
      "outputs": [
        {
          "output_type": "stream",
          "name": "stdout",
          "text": [
            "['Maria', 'José', 'Carlos', 'Camila', 'Darci']\n"
          ]
        },
        {
          "output_type": "execute_result",
          "data": {
            "text/plain": [
              "['Maria', 'José', 'Carlos', 'Camila']"
            ]
          },
          "metadata": {},
          "execution_count": 6
        }
      ]
    },
    {
      "cell_type": "code",
      "source": [
        "# Pega do 1 ao 3\n",
        "parte = names[1:4]\n",
        "print(names)\n",
        "parte"
      ],
      "metadata": {
        "colab": {
          "base_uri": "https://localhost:8080/"
        },
        "id": "nOZRKhKa25St",
        "outputId": "cd4f65ec-316a-47f9-bf8a-295807b24660"
      },
      "execution_count": null,
      "outputs": [
        {
          "output_type": "stream",
          "name": "stdout",
          "text": [
            "['Maria', 'José', 'Carlos', 'Camila', 'Darci']\n"
          ]
        },
        {
          "output_type": "execute_result",
          "data": {
            "text/plain": [
              "['José', 'Carlos', 'Camila']"
            ]
          },
          "metadata": {},
          "execution_count": 7
        }
      ]
    },
    {
      "cell_type": "code",
      "source": [
        "# Pega uma parte pulando de 2 em 2\n",
        "parte = names[::2]\n",
        "print(names)\n",
        "print(parte)"
      ],
      "metadata": {
        "colab": {
          "base_uri": "https://localhost:8080/"
        },
        "id": "3-PD_oMw7wXq",
        "outputId": "ef08eea7-160b-4037-b94a-57c1cb229b38"
      },
      "execution_count": null,
      "outputs": [
        {
          "output_type": "stream",
          "name": "stdout",
          "text": [
            "['Maria', 'José', 'Carlos', 'Camila', 'Darci']\n",
            "['Maria', 'Carlos', 'Darci']\n"
          ]
        }
      ]
    },
    {
      "cell_type": "markdown",
      "source": [
        "# Unpacking - Lists | Tuples\n",
        "\n",
        "It can be doing with Lists too"
      ],
      "metadata": {
        "id": "L8HzAxGLQ3G5"
      }
    },
    {
      "cell_type": "code",
      "source": [
        "colors = (\"vermelho\", \"azul\", \"amarelo\")\n",
        "print(colors)\n",
        "(red, blue, yellow) = colors\n",
        "print(red)\n",
        "print(blue)\n",
        "print(yellow)"
      ],
      "metadata": {
        "colab": {
          "base_uri": "https://localhost:8080/"
        },
        "id": "m9J2QaU5Q1Sc",
        "outputId": "edecace1-9b92-4db1-fe4e-6f87b49cd3a4"
      },
      "execution_count": null,
      "outputs": [
        {
          "output_type": "stream",
          "name": "stdout",
          "text": [
            "('vermelho', 'azul', 'amarelo')\n",
            "vermelho\n",
            "azul\n",
            "amarelo\n"
          ]
        }
      ]
    },
    {
      "cell_type": "code",
      "source": [
        "# you can add an * to the variable name and the values will be assigned to the variable as a list\n",
        "colors = (\"vermelho\", \"azul\", \"amarelo\", \"roxo\", \"rosa\")\n",
        "print(colors)\n",
        "(red, blue, *resto) = colors\n",
        "print(red)\n",
        "print(blue)\n",
        "print(resto)"
      ],
      "metadata": {
        "colab": {
          "base_uri": "https://localhost:8080/"
        },
        "id": "EgtLtoV9Rgsx",
        "outputId": "7f2285a5-ddd5-4ae2-a25e-5c3c503cc5fd"
      },
      "execution_count": null,
      "outputs": [
        {
          "output_type": "stream",
          "name": "stdout",
          "text": [
            "('vermelho', 'azul', 'amarelo', 'roxo', 'rosa')\n",
            "vermelho\n",
            "azul\n",
            "['amarelo', 'roxo', 'rosa']\n"
          ]
        }
      ]
    },
    {
      "cell_type": "code",
      "source": [
        "# If the asterisk is added to another variable name than the last,\n",
        "# Python will assign values to the variable until the number of values left matches the number of variables left.\n",
        "colors = (\"vermelho\", \"azul\", \"amarelo\", \"roxo\", \"rosa\")\n",
        "print(colors)\n",
        "(red, *resto, pink) = colors\n",
        "print(red)\n",
        "print(pink)\n",
        "print(resto)"
      ],
      "metadata": {
        "colab": {
          "base_uri": "https://localhost:8080/"
        },
        "id": "P075SWa4R2Oe",
        "outputId": "bb5a8b9e-a9f1-4ab6-c8f6-4cdb818317e5"
      },
      "execution_count": null,
      "outputs": [
        {
          "output_type": "stream",
          "name": "stdout",
          "text": [
            "('vermelho', 'azul', 'amarelo', 'roxo', 'rosa')\n",
            "vermelho\n",
            "rosa\n",
            "['azul', 'amarelo', 'roxo']\n"
          ]
        }
      ]
    },
    {
      "cell_type": "markdown",
      "source": [
        "# For Loop through the Lists | Tuple | Sets | Dictionaries"
      ],
      "metadata": {
        "id": "CkAurOBoSdMY"
      }
    },
    {
      "cell_type": "code",
      "source": [
        "frutas = [\"maça\",\"goiaba\",\"babana\"]\n",
        "animais = (\"gato\", \"papagaio\", \"avestruz\")\n",
        "cores = {\"azul\", \"amarelo\", \"rosa\"}\n",
        "car = {\n",
        "  \"brand\": \"Ford\",\n",
        "  \"model\": \"Mustang\",\n",
        "  \"year\": 1964\n",
        "}\n",
        "family = {\n",
        "    'child1': {\n",
        "      \"name\" : \"Linus\",\n",
        "      \"year\" : 2011\n",
        "    },\n",
        "    'child2': {\n",
        "      \"name\" : \"Tobias\",\n",
        "      \"year\" : 2007\n",
        "    }\n",
        "}"
      ],
      "metadata": {
        "id": "fG0A2z8SOA1I"
      },
      "execution_count": null,
      "outputs": []
    },
    {
      "cell_type": "code",
      "source": [
        "print(\"Loop into Lists\")\n",
        "for x in frutas:\n",
        "  print(x)\n",
        "\n",
        "print(\"\\nLoop into Tuple\")\n",
        "for x in animais:\n",
        "  print(x)\n",
        "\n",
        "print(\"\\nLoop into Sets\")\n",
        "for x in cores:\n",
        "  print(x)\n",
        "\n",
        "print(\"\\n Loop into Dictionary\")\n",
        "for x in car:\n",
        "  print(x, car[x])"
      ],
      "metadata": {
        "colab": {
          "base_uri": "https://localhost:8080/"
        },
        "id": "KGYrs19qShDT",
        "outputId": "a965f30b-7c9c-41bf-e24d-6e1d1df6afc7"
      },
      "execution_count": null,
      "outputs": [
        {
          "output_type": "stream",
          "name": "stdout",
          "text": [
            "Loop into Lists\n",
            "maça\n",
            "goiaba\n",
            "babana\n",
            "\n",
            "Loop into Tuple\n",
            "gato\n",
            "papagaio\n",
            "avestruz\n",
            "\n",
            "Loop into Sets\n",
            "rosa\n",
            "azul\n",
            "amarelo\n",
            "\n",
            " Loop into Dictionary\n",
            "brand Ford\n",
            "model Mustang\n",
            "year 1964\n"
          ]
        }
      ]
    },
    {
      "cell_type": "markdown",
      "source": [
        "### Dictionaries"
      ],
      "metadata": {
        "id": "axTrG_VVzAS9"
      }
    },
    {
      "cell_type": "code",
      "source": [
        "print(\"\\n Loop into values of Dictionary\")\n",
        "for x in car.values():\n",
        "  print(x)\n",
        "\n",
        "print(\"\\n Loop into keys of Dictionary\")\n",
        "for x in car.keys():\n",
        "  print(x)\n",
        "\n",
        "print(\"\\n Loop into items of Dictionary\")\n",
        "for x, y in car.items():\n",
        "  print(x, y)"
      ],
      "metadata": {
        "colab": {
          "base_uri": "https://localhost:8080/"
        },
        "id": "j2ufxePrzCQb",
        "outputId": "d2feb0cf-6f02-4f3c-b932-223cd2d5f6b8"
      },
      "execution_count": null,
      "outputs": [
        {
          "output_type": "stream",
          "name": "stdout",
          "text": [
            "\n",
            " Loop into values of Dictionary\n",
            "Ford\n",
            "Mustang\n",
            "1964\n",
            "\n",
            " Loop into keys of Dictionary\n",
            "brand\n",
            "model\n",
            "year\n",
            "\n",
            " Loop into items of Dictionary\n",
            "brand Ford\n",
            "model Mustang\n",
            "year 1964\n"
          ]
        }
      ]
    },
    {
      "cell_type": "code",
      "source": [
        "# Loop through the keys and values of all nested dictionaries\n",
        "for x, obj in family.items():\n",
        "  print(x, type(obj))\n",
        "  for k, c in obj.items():\n",
        "    print(k, c)"
      ],
      "metadata": {
        "colab": {
          "base_uri": "https://localhost:8080/"
        },
        "id": "sVuYRq4zzHp5",
        "outputId": "1c30f4e7-795c-4535-c227-3bf8946e2efd"
      },
      "execution_count": null,
      "outputs": [
        {
          "output_type": "stream",
          "name": "stdout",
          "text": [
            "child1 <class 'dict'>\n",
            "name Linus\n",
            "year 2011\n",
            "child2 <class 'dict'>\n",
            "name Tobias\n",
            "year 2007\n"
          ]
        }
      ]
    },
    {
      "cell_type": "markdown",
      "source": [
        "### Using range"
      ],
      "metadata": {
        "id": "nWCTaWuwy9nx"
      }
    },
    {
      "cell_type": "code",
      "source": [
        "print(\"Loop in Lists\")\n",
        "for i in range(len(frutas)):\n",
        "  print(i, frutas[i])\n",
        "\n",
        "print(\"\\nLoop in Tuple\")\n",
        "for i in range(len(animais)):\n",
        "  print(i, animais[i])\n",
        "\n",
        "print(\"\\nLoop in Sets\")\n",
        "try:\n",
        "  for i in range(len(cores)):\n",
        "    print(i, cores[i])\n",
        "except Exception as e:\n",
        "  print(e, 'Sets não tem indices')"
      ],
      "metadata": {
        "colab": {
          "base_uri": "https://localhost:8080/"
        },
        "id": "KqBpe_bmSmB0",
        "outputId": "8c70bd1a-71b8-4d52-9c70-41d089596106"
      },
      "execution_count": null,
      "outputs": [
        {
          "output_type": "stream",
          "name": "stdout",
          "text": [
            "Loop in Lists\n",
            "0 maça\n",
            "1 goiaba\n",
            "2 babana\n",
            "\n",
            "Loop in Tuple\n",
            "0 gato\n",
            "1 papagaio\n",
            "2 avestruz\n",
            "\n",
            "Loop in Sets\n",
            "'set' object is not subscriptable\n"
          ]
        }
      ]
    },
    {
      "cell_type": "code",
      "source": [
        "print(\"Loop in Lists\")\n",
        "for i, fruta in enumerate(frutas):\n",
        "  print(i, fruta)"
      ],
      "metadata": {
        "colab": {
          "base_uri": "https://localhost:8080/"
        },
        "id": "llmzsI32Sslw",
        "outputId": "f3be119e-7f37-4015-92be-e826c5ae031a"
      },
      "execution_count": null,
      "outputs": [
        {
          "output_type": "stream",
          "name": "stdout",
          "text": [
            "Loop in Lists\n",
            "0 maça\n",
            "1 goiaba\n",
            "2 babana\n"
          ]
        }
      ]
    },
    {
      "cell_type": "markdown",
      "source": [
        "# While Loops"
      ],
      "metadata": {
        "id": "dU6rFV1q2woa"
      }
    },
    {
      "cell_type": "code",
      "source": [
        "i = 1\n",
        "while i < 6:\n",
        "  print(i)\n",
        "  i += 1\n",
        "else:\n",
        "  print(\"i is no longer less than 6\")"
      ],
      "metadata": {
        "colab": {
          "base_uri": "https://localhost:8080/"
        },
        "id": "ocXuEsFN2ycn",
        "outputId": "ee87874b-15ad-47fd-b179-3fad4df779c1"
      },
      "execution_count": null,
      "outputs": [
        {
          "output_type": "stream",
          "name": "stdout",
          "text": [
            "1\n",
            "2\n",
            "3\n",
            "4\n",
            "5\n",
            "i is no longer less than 6\n"
          ]
        }
      ]
    },
    {
      "cell_type": "markdown",
      "source": [
        "# List (Tuple) Comprehension"
      ],
      "metadata": {
        "id": "HutZhsG8Qa_q"
      }
    },
    {
      "cell_type": "code",
      "source": [
        "print(\"List Comprehension\")\n",
        "print(frutas)\n",
        "nova = [x for x in frutas]\n",
        "print(nova)\n",
        "\n",
        "print(\"\\nTuples Comprehension\")\n",
        "print(animais)\n",
        "nova = [x for x in animais]\n",
        "print(nova)\n",
        "\n",
        "print(\"\\nSet Comprehension\")\n",
        "print(cores)\n",
        "nova = [x for x in cores]\n",
        "nova"
      ],
      "metadata": {
        "colab": {
          "base_uri": "https://localhost:8080/"
        },
        "id": "koSIiGU3dBOi",
        "outputId": "6b4c4970-91a2-498c-cfc4-96e9d376be07"
      },
      "execution_count": null,
      "outputs": [
        {
          "output_type": "stream",
          "name": "stdout",
          "text": [
            "List Comprehension\n",
            "['maça', 'goiaba', 'babana']\n",
            "['maça', 'goiaba', 'babana']\n",
            "\n",
            "Tuples Comprehension\n",
            "('gato', 'papagaio', 'avestruz')\n",
            "['gato', 'papagaio', 'avestruz']\n",
            "\n",
            "Set Comprehension\n",
            "{'azul', 'amarelo', 'rosa'}\n"
          ]
        },
        {
          "output_type": "execute_result",
          "data": {
            "text/plain": [
              "['azul', 'amarelo', 'rosa']"
            ]
          },
          "metadata": {},
          "execution_count": 99
        }
      ]
    },
    {
      "cell_type": "code",
      "source": [
        "# Usando funções\n",
        "print(animais)\n",
        "new = [x.upper() for x in animais]\n",
        "print(new)"
      ],
      "metadata": {
        "colab": {
          "base_uri": "https://localhost:8080/"
        },
        "id": "Aab_zkwEQgkd",
        "outputId": "86e21587-e1dd-40b2-ad3d-45ae987343d0"
      },
      "execution_count": null,
      "outputs": [
        {
          "output_type": "stream",
          "name": "stdout",
          "text": [
            "Tuple Comprehension\n",
            "('gato', 'papagaio', 'avestruz')\n",
            "['GATO', 'PAPAGAIO', 'AVESTRUZ']\n"
          ]
        }
      ]
    },
    {
      "cell_type": "code",
      "source": [
        "# Usando uma Condição - não é possível usar o else nesse caso\n",
        "new = [x for x in names if \"a\" in x]\n",
        "print(new)"
      ],
      "metadata": {
        "colab": {
          "base_uri": "https://localhost:8080/"
        },
        "id": "ObG8AgQ7RsfM",
        "outputId": "510696d4-78de-44af-d862-cc266d9b54ef"
      },
      "execution_count": null,
      "outputs": [
        {
          "output_type": "stream",
          "name": "stdout",
          "text": [
            "['Ana', 'Maria', 'Jalal', 'Darci', 'Marcio', 'Heloisa', 'Fernando']\n"
          ]
        }
      ]
    },
    {
      "cell_type": "code",
      "source": [
        "# Usando uma expressão\n",
        "# ways to manipulate the outcome are condiderad expressions, not conditions even if it is a condition\n",
        "new = [x if \"a\" in x else \"no\" for x in names]\n",
        "print(new)"
      ],
      "metadata": {
        "colab": {
          "base_uri": "https://localhost:8080/"
        },
        "id": "j8uQBt07Ry4z",
        "outputId": "140242ca-5461-4f6f-ee43-d8b921c20cda"
      },
      "execution_count": null,
      "outputs": [
        {
          "output_type": "stream",
          "name": "stdout",
          "text": [
            "['Ana', 'no', 'no', 'Maria', 'Jalal', 'Darci', 'Marcio', 'Heloisa', 'Fernando']\n"
          ]
        }
      ]
    },
    {
      "cell_type": "code",
      "source": [
        "# Usando expressão\n",
        "def change(name):\n",
        "  return name.lower()\n",
        "new = [change(x) for x in names]\n",
        "print(new)"
      ],
      "metadata": {
        "colab": {
          "base_uri": "https://localhost:8080/"
        },
        "id": "6EwyNoezTe3N",
        "outputId": "ccbd1246-42aa-41af-d4a4-f6fe72259483"
      },
      "execution_count": null,
      "outputs": [
        {
          "output_type": "stream",
          "name": "stdout",
          "text": [
            "['ana', 'josé', 'joel', 'maria', 'jalal', 'darci', 'marcio', 'heloisa', 'fernando']\n"
          ]
        }
      ]
    },
    {
      "cell_type": "code",
      "source": [
        "# Usando Iterable\n",
        " [x for x in range(10)]"
      ],
      "metadata": {
        "colab": {
          "base_uri": "https://localhost:8080/"
        },
        "id": "nw7FUaUvSeBr",
        "outputId": "195001a0-85ab-482d-93d1-4cbc493bbdfc"
      },
      "execution_count": null,
      "outputs": [
        {
          "output_type": "execute_result",
          "data": {
            "text/plain": [
              "[0, 1, 2, 3, 4, 5, 6, 7, 8, 9]"
            ]
          },
          "metadata": {},
          "execution_count": 42
        }
      ]
    },
    {
      "cell_type": "code",
      "source": [
        "# Usando Iterable\n",
        "new = [str(i)+': '+x for i, x in enumerate(names)]\n",
        "print(new)"
      ],
      "metadata": {
        "colab": {
          "base_uri": "https://localhost:8080/"
        },
        "id": "02k9ohmHSjpB",
        "outputId": "a59f7633-df0c-4ee0-9122-16967bd8120b"
      },
      "execution_count": null,
      "outputs": [
        {
          "output_type": "stream",
          "name": "stdout",
          "text": [
            "['0: Ana', '1: José', '2: Joel', '3: Maria', '4: Jalal', '5: Darci', '6: Marcio', '7: Heloisa', '8: Fernando']\n"
          ]
        }
      ]
    },
    {
      "cell_type": "markdown",
      "source": [
        "# Functions"
      ],
      "metadata": {
        "id": "oglHmUhV4HIO"
      }
    },
    {
      "cell_type": "markdown",
      "source": [
        "## Keyword Arguments\n",
        "\n",
        "You can also send arguments with the key = value syntax.\n",
        "\n",
        "This way the order of the arguments does not matter."
      ],
      "metadata": {
        "id": "fG1svn_M5FyO"
      }
    },
    {
      "cell_type": "code",
      "source": [
        "def my_function(child3, child2, child1):\n",
        "  print(\"The youngest child is \" + child3)\n",
        "\n",
        "my_function(child1 = \"Emil\", child2 = \"Tobias\", child3 = \"Linus\")"
      ],
      "metadata": {
        "colab": {
          "base_uri": "https://localhost:8080/"
        },
        "id": "oovxoGAi5Io3",
        "outputId": "bdd595d4-8a15-4718-cd09-e5061086cf2c"
      },
      "execution_count": null,
      "outputs": [
        {
          "output_type": "stream",
          "name": "stdout",
          "text": [
            "The youngest child is Linus\n"
          ]
        }
      ]
    },
    {
      "cell_type": "markdown",
      "source": [
        "## Arbitrary Arguments, *args\n",
        "\n",
        "If you do not know how many arguments that will be passed into your function, add a * before the parameter name in the function definition.\n",
        "\n",
        "This way the function will receive a tuple of arguments, and can access the items accordingly"
      ],
      "metadata": {
        "id": "OFeDvY0u4kRN"
      }
    },
    {
      "cell_type": "code",
      "source": [
        "def my_function(*kids):\n",
        "  print(f\"You passed {len(kids)} arguments\")\n",
        "\n",
        "my_function(\"Emil\", \"Tobias\", \"Linus\")"
      ],
      "metadata": {
        "colab": {
          "base_uri": "https://localhost:8080/"
        },
        "id": "HKAb3ZZz4tu_",
        "outputId": "3b071cde-9966-487f-d378-a7aa90be3f36"
      },
      "execution_count": null,
      "outputs": [
        {
          "output_type": "stream",
          "name": "stdout",
          "text": [
            "You passed 3 arguments\n"
          ]
        }
      ]
    },
    {
      "cell_type": "markdown",
      "source": [
        "## Arbitrary Keyword Arguments, **kwargs\n",
        "\n",
        "If you do not know how many keyword arguments that will be passed into your function, add two asterisk: ** before the parameter name in the function definition.\n",
        "\n",
        "This way the function will receive a dictionary of arguments, and can access the items accordingly\n"
      ],
      "metadata": {
        "id": "3RXOa9tI4lvP"
      }
    },
    {
      "cell_type": "code",
      "source": [
        "def my_function(**kid):\n",
        "  print(\"His last name is \" + kid[\"lname\"])\n",
        "\n",
        "my_function(fname = \"Tobias\", lname = \"Silva\")"
      ],
      "metadata": {
        "colab": {
          "base_uri": "https://localhost:8080/"
        },
        "id": "lFnSNRK_4lLg",
        "outputId": "2bd58071-7eb0-44bb-87ad-3845aeb1c3b0"
      },
      "execution_count": null,
      "outputs": [
        {
          "output_type": "stream",
          "name": "stdout",
          "text": [
            "His last name is Silva\n"
          ]
        }
      ]
    },
    {
      "cell_type": "markdown",
      "source": [
        "## Positional-Only vs Keyword-Only arguments\n",
        "\n",
        "You can specify that a function can have ONLY positional arguments, or ONLY keyword arguments."
      ],
      "metadata": {
        "id": "aK-U9iKq9N1K"
      }
    },
    {
      "cell_type": "markdown",
      "source": [
        "To specify that a function can have **only positional arguments**, add **, /** after the arguments"
      ],
      "metadata": {
        "id": "kSYBRZqH9-hA"
      }
    },
    {
      "cell_type": "code",
      "source": [
        "def my_function(x, /):\n",
        "  print(x)\n",
        "\n",
        "my_function(3)\n",
        "\n",
        "try:\n",
        "  my_function(x = 3)\n",
        "except Exception as e:\n",
        "  print(e)"
      ],
      "metadata": {
        "colab": {
          "base_uri": "https://localhost:8080/"
        },
        "id": "BTmsV2p94JOW",
        "outputId": "26b1dc4f-5693-498c-dec6-671350409f56"
      },
      "execution_count": null,
      "outputs": [
        {
          "output_type": "stream",
          "name": "stdout",
          "text": [
            "3\n",
            "my_function() got some positional-only arguments passed as keyword arguments: 'x'\n"
          ]
        }
      ]
    },
    {
      "cell_type": "markdown",
      "source": [
        "To specify that a function can have **only keyword arguments**, add *, before the arguments"
      ],
      "metadata": {
        "id": "RCRNbkts-ZUP"
      }
    },
    {
      "cell_type": "code",
      "source": [
        "def my_function(*, x):\n",
        "  print(x)\n",
        "\n",
        "my_function(x = 3)\n",
        "try:\n",
        "  my_function(3)\n",
        "except Exception as e:\n",
        "  print(e)"
      ],
      "metadata": {
        "colab": {
          "base_uri": "https://localhost:8080/"
        },
        "id": "Y5g2QZ6w-VW5",
        "outputId": "242e108e-8235-4198-b94f-816f8927a90c"
      },
      "execution_count": null,
      "outputs": [
        {
          "output_type": "stream",
          "name": "stdout",
          "text": [
            "3\n",
            "my_function() takes 0 positional arguments but 1 was given\n"
          ]
        }
      ]
    },
    {
      "cell_type": "markdown",
      "source": [
        "You can combine the two argument types in the same function.\n",
        "\n",
        "Any argument before the / , are positional-only, and any argument after the *, are keyword-only."
      ],
      "metadata": {
        "id": "wuGFKjXjPQjB"
      }
    },
    {
      "cell_type": "code",
      "source": [
        "def my_function(a, b, /, *, c, d):\n",
        "  print(a + b + c + d)\n",
        "\n",
        "my_function(5, 6, c = 7, d = 8)"
      ],
      "metadata": {
        "colab": {
          "base_uri": "https://localhost:8080/"
        },
        "id": "0g8j8hpePDzi",
        "outputId": "114a3ece-da94-417b-c84c-24d0473a244d"
      },
      "execution_count": null,
      "outputs": [
        {
          "output_type": "stream",
          "name": "stdout",
          "text": [
            "26\n"
          ]
        }
      ]
    },
    {
      "cell_type": "markdown",
      "source": [
        "## Recursion"
      ],
      "metadata": {
        "id": "E5z3DTzEQBdW"
      }
    },
    {
      "cell_type": "code",
      "source": [
        "loop = 0\n",
        "def tri_recursion(k):\n",
        "\n",
        "  global loop\n",
        "  loop += 1\n",
        "  print('loop', loop, 'k', k)\n",
        "\n",
        "  if(k > 0):\n",
        "    result = k + tri_recursion(k - 1)\n",
        "    print(result)\n",
        "  else:\n",
        "    result = 0\n",
        "  return result\n",
        "\n",
        "print(\"\\n\\nRecursion Example Results\")\n",
        "tri_recursion(6)"
      ],
      "metadata": {
        "colab": {
          "base_uri": "https://localhost:8080/"
        },
        "id": "g2Y5bDgi-hl5",
        "outputId": "1387a29a-779f-40cb-a794-d2ebd2345428"
      },
      "execution_count": null,
      "outputs": [
        {
          "output_type": "stream",
          "name": "stdout",
          "text": [
            "\n",
            "\n",
            "Recursion Example Results\n",
            "loop 1 k 6\n",
            "loop 2 k 5\n",
            "loop 3 k 4\n",
            "loop 4 k 3\n",
            "loop 5 k 2\n",
            "loop 6 k 1\n",
            "loop 7 k 0\n",
            "1\n",
            "3\n",
            "6\n",
            "10\n",
            "15\n",
            "21\n"
          ]
        },
        {
          "output_type": "execute_result",
          "data": {
            "text/plain": [
              "21"
            ]
          },
          "metadata": {},
          "execution_count": 115
        }
      ]
    },
    {
      "cell_type": "markdown",
      "source": [
        "## Lambda\n",
        "\n",
        "A lambda function is a small anonymous function.\n",
        "\n",
        "A lambda function can take any number of arguments, but can only have one expression"
      ],
      "metadata": {
        "id": "1pCyzBkWR-3B"
      }
    },
    {
      "cell_type": "code",
      "source": [
        "my_lambda = lambda x : x + 10\n",
        "print(my_lambda(5))\n",
        "\n",
        "my_lambda = lambda a, b : a * b\n",
        "print(my_lambda(5, 6))"
      ],
      "metadata": {
        "colab": {
          "base_uri": "https://localhost:8080/"
        },
        "id": "zyCKGODhSBio",
        "outputId": "78b3971a-4969-4302-90a8-d29d66e0f506"
      },
      "execution_count": null,
      "outputs": [
        {
          "output_type": "stream",
          "name": "stdout",
          "text": [
            "15\n",
            "30\n"
          ]
        }
      ]
    },
    {
      "cell_type": "markdown",
      "source": [
        "Use that function definition to make a function that always doubles the number you send in.\n",
        "\n",
        "É dificil de entender esses exemplos a primeira vista... myfunc retorna uma lambda que multiplica 2 valores: o valor passado para lambda x o valor passado para myfunc."
      ],
      "metadata": {
        "id": "Uig4oxUNTNBr"
      }
    },
    {
      "cell_type": "code",
      "source": [
        "def myfunc(n):\n",
        "  return lambda a : a * n\n",
        "\n",
        "mydoubler = myfunc(2)\n",
        "mytripler = myfunc(3)\n",
        "\n",
        "print(mydoubler(11))\n",
        "print(mytripler(11))"
      ],
      "metadata": {
        "id": "NdnX7o2pTJkA"
      },
      "execution_count": null,
      "outputs": []
    }
  ]
}