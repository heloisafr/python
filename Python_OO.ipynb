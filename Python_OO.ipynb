{
  "nbformat": 4,
  "nbformat_minor": 0,
  "metadata": {
    "colab": {
      "provenance": [],
      "authorship_tag": "ABX9TyNUrrrkVM4DP2FV0hLF61VZ",
      "include_colab_link": true
    },
    "kernelspec": {
      "name": "python3",
      "display_name": "Python 3"
    },
    "language_info": {
      "name": "python"
    }
  },
  "cells": [
    {
      "cell_type": "markdown",
      "metadata": {
        "id": "view-in-github",
        "colab_type": "text"
      },
      "source": [
        "<a href=\"https://colab.research.google.com/github/heloisafr/python/blob/main/Python_OO.ipynb\" target=\"_parent\"><img src=\"https://colab.research.google.com/assets/colab-badge.svg\" alt=\"Open In Colab\"/></a>"
      ]
    },
    {
      "cell_type": "markdown",
      "source": [
        "# Create a Class"
      ],
      "metadata": {
        "id": "sEqPUrhndr_6"
      }
    },
    {
      "cell_type": "markdown",
      "source": [
        "The `__str__()` Function"
      ],
      "metadata": {
        "id": "cTjjVLaufB-u"
      }
    },
    {
      "cell_type": "code",
      "source": [
        "# Exemplo sem __str__\n",
        "class Person:\n",
        "  def __init__(self, name, age):\n",
        "    self.name = name\n",
        "    self.age = age\n",
        "\n",
        "p1 = Person(\"John\", 36)\n",
        "\n",
        "print(p1)"
      ],
      "metadata": {
        "colab": {
          "base_uri": "https://localhost:8080/"
        },
        "id": "VeGgixLOfC2z",
        "outputId": "426386aa-e298-40ca-e9aa-b075ed6728c1"
      },
      "execution_count": null,
      "outputs": [
        {
          "output_type": "stream",
          "name": "stdout",
          "text": [
            "<__main__.Person object at 0x7806365a5480>\n"
          ]
        }
      ]
    },
    {
      "cell_type": "code",
      "source": [
        "# Exemplo com __str__\n",
        "class Person:\n",
        "  def __init__(self, name, age):\n",
        "    self.name = name\n",
        "    self.age = age\n",
        "\n",
        "  def __str__(self):\n",
        "    return f\"{self.name}({self.age})\"\n",
        "\n",
        "p1 = Person(\"John\", 36)\n",
        "\n",
        "print(p1)"
      ],
      "metadata": {
        "colab": {
          "base_uri": "https://localhost:8080/"
        },
        "id": "uQb9vjlue9CP",
        "outputId": "b57e517b-93ba-4020-83ad-6343496f8b9f"
      },
      "execution_count": null,
      "outputs": [
        {
          "output_type": "stream",
          "name": "stdout",
          "text": [
            "John(36)\n"
          ]
        }
      ]
    },
    {
      "cell_type": "markdown",
      "source": [
        "# Delete properties or objects"
      ],
      "metadata": {
        "id": "Z7s81nHKgNRV"
      }
    },
    {
      "cell_type": "markdown",
      "source": [
        "You can delete properties on objects by using the **del** keyword"
      ],
      "metadata": {
        "id": "GhG1OgM6fxSi"
      }
    },
    {
      "cell_type": "code",
      "source": [
        "del p1.age\n",
        "try:\n",
        "  print(p1)\n",
        "except Exception as e:\n",
        "  print(e)"
      ],
      "metadata": {
        "colab": {
          "base_uri": "https://localhost:8080/"
        },
        "id": "FH8phmD6f3bN",
        "outputId": "134387ba-5520-44eb-bf6c-6e003bc3ccfa"
      },
      "execution_count": null,
      "outputs": [
        {
          "output_type": "stream",
          "name": "stdout",
          "text": [
            "'Person' object has no attribute 'age'\n"
          ]
        }
      ]
    },
    {
      "cell_type": "markdown",
      "source": [
        "You can delete objects by using the **del** keyword"
      ],
      "metadata": {
        "id": "cm74bMAEgU9x"
      }
    },
    {
      "cell_type": "code",
      "source": [
        "del p1\n",
        "try:\n",
        "  print(p1)\n",
        "except Exception as e:\n",
        "  print(e)"
      ],
      "metadata": {
        "colab": {
          "base_uri": "https://localhost:8080/"
        },
        "id": "B7Uz_mP9gRwE",
        "outputId": "556e74bd-2c03-4805-a7ec-72e8ca80b587"
      },
      "execution_count": null,
      "outputs": [
        {
          "output_type": "stream",
          "name": "stdout",
          "text": [
            "name 'p1' is not defined\n"
          ]
        }
      ]
    },
    {
      "cell_type": "code",
      "execution_count": null,
      "metadata": {
        "id": "BFGID2qp466k"
      },
      "outputs": [],
      "source": [
        "class Pessoa:\n",
        "\n",
        "  nome: str # public\n",
        "  _sexo: str # protected\n",
        "  __blabla: int # privety\n",
        "\n",
        "  def __init__(self, nome, sexo):\n",
        "    self.nome = nome\n",
        "    self.sexo = sexo\n",
        "\n",
        "  def __str__(self):\n",
        "    return f\"{self.nome} {self.sexo}\"\n",
        "\n",
        "  # return a string that allows you to re-create the object\n",
        "  # formal string representation\n",
        "  def __repr__(self):\n",
        "    return (\n",
        "        f\"{type(self).__name__}(\"\n",
        "        f\"name='{self.nome}', \"\n",
        "        f\"sexo='{self.sexo}')\"\n",
        "    )\n",
        "\n",
        "  @property\n",
        "  def sexo(self):\n",
        "    return self._sexo\n",
        "\n",
        "  @sexo.setter\n",
        "  def sexo(self, sexo):\n",
        "    if sexo not in ['F','M']:\n",
        "      raise ValueError(\"Informe F ou M\")\n",
        "    self._sexo = sexo\n"
      ]
    },
    {
      "cell_type": "code",
      "source": [
        "mulher = Pessoa(\"Maria\", 'F')\n",
        "print(mulher)"
      ],
      "metadata": {
        "colab": {
          "base_uri": "https://localhost:8080/"
        },
        "id": "id1LOglo9XZE",
        "outputId": "5495c26f-db5d-4897-d059-9b3eac9179dd"
      },
      "execution_count": null,
      "outputs": [
        {
          "output_type": "stream",
          "name": "stdout",
          "text": [
            "Maria F\n"
          ]
        }
      ]
    },
    {
      "cell_type": "code",
      "source": [
        "str(mulher)"
      ],
      "metadata": {
        "colab": {
          "base_uri": "https://localhost:8080/",
          "height": 35
        },
        "id": "Y2QJ1opuO61w",
        "outputId": "8a1290a2-da60-42a3-e3de-d26bb2d1b979"
      },
      "execution_count": null,
      "outputs": [
        {
          "output_type": "execute_result",
          "data": {
            "text/plain": [
              "'Maria F'"
            ],
            "application/vnd.google.colaboratory.intrinsic+json": {
              "type": "string"
            }
          },
          "metadata": {},
          "execution_count": 181
        }
      ]
    },
    {
      "cell_type": "code",
      "source": [
        "mulher"
      ],
      "metadata": {
        "colab": {
          "base_uri": "https://localhost:8080/"
        },
        "id": "P4l3E64EPZUO",
        "outputId": "d2924eed-6acc-46d4-a8f3-1cd846595dd7"
      },
      "execution_count": null,
      "outputs": [
        {
          "output_type": "execute_result",
          "data": {
            "text/plain": [
              "Pessoa(name='Maria', sexo='F')"
            ]
          },
          "metadata": {},
          "execution_count": 182
        }
      ]
    },
    {
      "cell_type": "code",
      "source": [
        "repr(mulher)"
      ],
      "metadata": {
        "colab": {
          "base_uri": "https://localhost:8080/",
          "height": 35
        },
        "id": "lo5voFMXisnS",
        "outputId": "4dda5a63-826d-47d5-d07e-3f87da3856fa"
      },
      "execution_count": null,
      "outputs": [
        {
          "output_type": "execute_result",
          "data": {
            "text/plain": [
              "\"Pessoa(name='Maria', sexo='F')\""
            ],
            "application/vnd.google.colaboratory.intrinsic+json": {
              "type": "string"
            }
          },
          "metadata": {},
          "execution_count": 183
        }
      ]
    },
    {
      "cell_type": "code",
      "source": [
        "type(mulher), isinstance(mulher, Pessoa), isinstance(mulher, Mulher)"
      ],
      "metadata": {
        "colab": {
          "base_uri": "https://localhost:8080/"
        },
        "id": "QTj4ocD7DDRT",
        "outputId": "6c94616e-ac0f-4044-b73a-10bcaa2ef7ae"
      },
      "execution_count": null,
      "outputs": [
        {
          "output_type": "execute_result",
          "data": {
            "text/plain": [
              "(__main__.Pessoa, True, False)"
            ]
          },
          "metadata": {},
          "execution_count": 184
        }
      ]
    },
    {
      "cell_type": "markdown",
      "source": [
        "# Get a Dictionary"
      ],
      "metadata": {
        "id": "_wWzQ5oe-CUJ"
      }
    },
    {
      "cell_type": "code",
      "source": [
        "vars(Mulher)"
      ],
      "metadata": {
        "id": "gmQJU66xPOuA",
        "colab": {
          "base_uri": "https://localhost:8080/"
        },
        "outputId": "19c9dd40-a86d-47a2-a453-f15acda954bb"
      },
      "execution_count": null,
      "outputs": [
        {
          "output_type": "execute_result",
          "data": {
            "text/plain": [
              "mappingproxy({'__module__': '__main__',\n",
              "              '__init__': <function __main__.Mulher.__init__(self, nome)>,\n",
              "              '__doc__': None})"
            ]
          },
          "metadata": {},
          "execution_count": 101
        }
      ]
    },
    {
      "cell_type": "code",
      "source": [
        "Mulher.__dict__"
      ],
      "metadata": {
        "colab": {
          "base_uri": "https://localhost:8080/"
        },
        "id": "pdxa1eZB9kop",
        "outputId": "f69540c5-852d-4a9d-e2e7-733ec0b040c9"
      },
      "execution_count": null,
      "outputs": [
        {
          "output_type": "execute_result",
          "data": {
            "text/plain": [
              "mappingproxy({'__module__': '__main__',\n",
              "              '__init__': <function __main__.Mulher.__init__(self, nome)>,\n",
              "              '__doc__': None})"
            ]
          },
          "metadata": {},
          "execution_count": 36
        }
      ]
    },
    {
      "cell_type": "code",
      "source": [
        "mulher.__dict__"
      ],
      "metadata": {
        "colab": {
          "base_uri": "https://localhost:8080/"
        },
        "id": "W4JosIOW-hlT",
        "outputId": "567930b8-696f-4c8c-a864-7a174e53595e"
      },
      "execution_count": null,
      "outputs": [
        {
          "output_type": "execute_result",
          "data": {
            "text/plain": [
              "{'nome': 'Maria', '_sexo': 'F'}"
            ]
          },
          "metadata": {},
          "execution_count": 37
        }
      ]
    },
    {
      "cell_type": "markdown",
      "source": [
        "# Getter and Setter"
      ],
      "metadata": {
        "id": "ktbPYwA7FRqa"
      }
    },
    {
      "cell_type": "code",
      "source": [
        "import math\n",
        "\n",
        "class Circle:\n",
        "    def __init__(self, radius):\n",
        "        # Note que esse cara esta chamando o metodo @radius.setter,\n",
        "        # não esta atribuido valor para radius diretamente\n",
        "        self.radius = radius\n",
        "\n",
        "    @property\n",
        "    def radius(self):\n",
        "        return self._radius\n",
        "\n",
        "    @radius.setter\n",
        "    def radius(self, value):\n",
        "        if not isinstance(value, int | float) or value <= 0:\n",
        "            raise ValueError(\"positive number expected\")\n",
        "        self._radius = value\n",
        "\n",
        "    def calculate_area(self):\n",
        "        return round(math.pi * self._radius**2, 2)"
      ],
      "metadata": {
        "id": "s9J67YSLESrp"
      },
      "execution_count": null,
      "outputs": []
    },
    {
      "cell_type": "code",
      "source": [
        "c1 = Circle(100)\n",
        "c1.calculate_area()"
      ],
      "metadata": {
        "colab": {
          "base_uri": "https://localhost:8080/"
        },
        "id": "jteuvF_qFq3o",
        "outputId": "9c4f69f8-872a-48c0-eabd-31875ad12d18"
      },
      "execution_count": null,
      "outputs": [
        {
          "output_type": "execute_result",
          "data": {
            "text/plain": [
              "31415.93"
            ]
          },
          "metadata": {},
          "execution_count": 85
        }
      ]
    },
    {
      "cell_type": "code",
      "source": [
        "c1.radius = 90\n",
        "c1.calculate_area()"
      ],
      "metadata": {
        "colab": {
          "base_uri": "https://localhost:8080/"
        },
        "id": "qEcBhtyhFjVT",
        "outputId": "2c761884-13d3-406a-cfea-b6db14851159"
      },
      "execution_count": null,
      "outputs": [
        {
          "output_type": "execute_result",
          "data": {
            "text/plain": [
              "25446.9"
            ]
          },
          "metadata": {},
          "execution_count": 86
        }
      ]
    },
    {
      "cell_type": "code",
      "source": [
        "try:\n",
        "  c1.radius = 0\n",
        "except Exception as e:\n",
        "  print(e)"
      ],
      "metadata": {
        "colab": {
          "base_uri": "https://localhost:8080/"
        },
        "id": "0ZbCQ2Q0FCXh",
        "outputId": "90696cb6-02f3-4430-833b-7426cf569e09"
      },
      "execution_count": null,
      "outputs": [
        {
          "output_type": "stream",
          "name": "stdout",
          "text": [
            "positive number expected\n"
          ]
        }
      ]
    },
    {
      "cell_type": "code",
      "source": [
        "try:\n",
        "  c2 = Circle(0)\n",
        "except Exception as e:\n",
        "  print(e)"
      ],
      "metadata": {
        "colab": {
          "base_uri": "https://localhost:8080/"
        },
        "id": "p4mNae3NGRYZ",
        "outputId": "1b1be7fd-29cd-4076-c939-444d5d0706c5"
      },
      "execution_count": null,
      "outputs": [
        {
          "output_type": "stream",
          "name": "stdout",
          "text": [
            "positive number expected\n"
          ]
        }
      ]
    },
    {
      "cell_type": "markdown",
      "source": [
        "# Class Attributes vs Instance Attributes\n",
        "\n",
        "https://realpython.com/python-classes/#attaching-data-to-classes-and-instances"
      ],
      "metadata": {
        "id": "WKwpLUNS3dXB"
      }
    },
    {
      "cell_type": "markdown",
      "source": [
        "### Class Attributes\n",
        "\n",
        "Class attributes are variables that you define directly in the class body,  outside of any method. These attributes are tied to the class itself rather than to particular objects of that class.\n",
        "\n",
        "All the objects that you create from a particular class share the same class attributes with the same original values. Because of this, if you change a class attribute, then that change affects all the derived objects."
      ],
      "metadata": {
        "id": "Lzdu9JQx4Le-"
      }
    },
    {
      "cell_type": "code",
      "source": [
        "class ObjectCounter:\n",
        "  num_instances = 0\n",
        "  def __ini__(self):\n",
        "    # type(self).num_instances += 1\n",
        "    ObjectCounter.num_instances += 1"
      ],
      "metadata": {
        "id": "4fwfZRqCThRr"
      },
      "execution_count": null,
      "outputs": []
    },
    {
      "cell_type": "code",
      "source": [
        "ObjectCounter()\n",
        "ObjectCounter.num_instances +=1\n",
        "ObjectCounter()\n",
        "ObjectCounter.num_instances +=1\n",
        "ObjectCounter()\n",
        "ObjectCounter.num_instances +=1\n",
        "ObjectCounter()\n",
        "ObjectCounter.num_instances +=1\n",
        "\n",
        "ObjectCounter.num_instances"
      ],
      "metadata": {
        "colab": {
          "base_uri": "https://localhost:8080/"
        },
        "id": "wL9M4MVD3-3x",
        "outputId": "ee4b409d-0bed-4da9-f4d9-47a23929080f"
      },
      "execution_count": null,
      "outputs": [
        {
          "output_type": "execute_result",
          "data": {
            "text/plain": [
              "4"
            ]
          },
          "metadata": {},
          "execution_count": 18
        }
      ]
    },
    {
      "cell_type": "markdown",
      "source": [
        "In the example above. ObjectCounter keeps a .num_instances class attribute that works as a counter of instances. When Python parses this class, it initializes the counter to zero and leaves it alone. Creating instances of this class means automatically calling the .__init__() method and incremementing .num_instances by one."
      ],
      "metadata": {
        "id": "Fes0xsRP40pa"
      }
    },
    {
      "cell_type": "markdown",
      "source": [
        "### Instance Attributes\n",
        "\n",
        "Instance attributes are variables tied to a particular object of a given class. The value of an instance attribute is attached to the object itself. So, the attribute’s value is specific to its containing instance.\n",
        "\n",
        "Python lets you dynamically attach attributes to existing objects that you’ve already created. However, you most often define instance attributes inside instance methods, which are those methods that receive self as their first argument.\n",
        "\n",
        "Even though you can define instance attributes inside any instance method, it’s best to define all of them in the .__init__() method, which is the instance initializer. This ensures that all of the attributes have the correct values when you create a new instance. Additionally, it makes the code more organized and easier to debug."
      ],
      "metadata": {
        "id": "0VJFZM_R5wYQ"
      }
    },
    {
      "cell_type": "code",
      "source": [
        "class ObjectCounter2:\n",
        "  num_instances = 0\n",
        "  def __ini__(self):\n",
        "    self.num_instances += 1\n",
        "\n",
        "ObjectCounter2()\n",
        "ObjectCounter2.num_instances +=1\n",
        "ObjectCounter2()\n",
        "ObjectCounter2.num_instances +=1\n",
        "ObjectCounter2()\n",
        "ObjectCounter2.num_instances +=1\n",
        "ObjectCounter2()\n",
        "ObjectCounter2.num_instances +=1\n",
        "\n",
        "ObjectCounter2.num_instances"
      ],
      "metadata": {
        "colab": {
          "base_uri": "https://localhost:8080/"
        },
        "id": "H6REuMx55MYd",
        "outputId": "e9ecbbb0-3aec-4f4f-bb66-0afbc40ac7dc"
      },
      "execution_count": null,
      "outputs": [
        {
          "output_type": "execute_result",
          "data": {
            "text/plain": [
              "4"
            ]
          },
          "metadata": {},
          "execution_count": 19
        }
      ]
    },
    {
      "cell_type": "code",
      "source": [
        "class Car:\n",
        "    def __init__(self, model: str, year: int):\n",
        "        self.model = model\n",
        "        self.year = year\n",
        "        self.speed = 0\n",
        "\n",
        "c = Car('207', 2019)\n",
        "c.model, c.year, c.speed"
      ],
      "metadata": {
        "colab": {
          "base_uri": "https://localhost:8080/"
        },
        "id": "-t4LwEWk6McF",
        "outputId": "79860c0c-2a5c-47ad-8c24-b9c6e9762f9b"
      },
      "execution_count": null,
      "outputs": [
        {
          "output_type": "execute_result",
          "data": {
            "text/plain": [
              "('207', 2019, 0)"
            ]
          },
          "metadata": {},
          "execution_count": 23
        }
      ]
    },
    {
      "cell_type": "code",
      "source": [
        "# chamar um instance atribute assim não funciona\n",
        "Car.model"
      ],
      "metadata": {
        "id": "wo2-jsZf8vma"
      },
      "execution_count": null,
      "outputs": []
    },
    {
      "cell_type": "code",
      "source": [
        "class Record:\n",
        "  pass\n",
        "\n",
        "john = {\n",
        "  \"name\": \"John Doe\",\n",
        "  \"position\": \"Python Developer\",\n",
        "  \"department\": \"Engineering\",\n",
        "  \"salary\": 80000,\n",
        "  \"hire_date\": \"2020-01-01\",\n",
        "  \"is_manager\": False,\n",
        "}"
      ],
      "metadata": {
        "id": "C3XKqdy5_Nmb"
      },
      "execution_count": null,
      "outputs": []
    },
    {
      "cell_type": "markdown",
      "source": [
        "# Dynamic Class and Instance Attributes"
      ],
      "metadata": {
        "id": "wC9ND_BT_vgP"
      }
    },
    {
      "cell_type": "code",
      "source": [
        "john_record = Record()\n",
        "\n",
        "for field, value in john.items():\n",
        "  setattr(john_record, field, value)\n",
        "\n",
        "john_record.name, john_record.__dict__"
      ],
      "metadata": {
        "colab": {
          "base_uri": "https://localhost:8080/"
        },
        "id": "IdK5hBWx_Yob",
        "outputId": "92359e16-f006-4a06-9956-1942d81527da"
      },
      "execution_count": null,
      "outputs": [
        {
          "output_type": "execute_result",
          "data": {
            "text/plain": [
              "('John Doe',\n",
              " {'name': 'John Doe',\n",
              "  'position': 'Python Developer',\n",
              "  'department': 'Engineering',\n",
              "  'salary': 80000,\n",
              "  'hire_date': '2020-01-01',\n",
              "  'is_manager': False})"
            ]
          },
          "metadata": {},
          "execution_count": 41
        }
      ]
    },
    {
      "cell_type": "code",
      "source": [
        "jane = Record()\n",
        "jane.name = \"Jane Doe\"\n",
        "jane.job = \"Data Engineer\"\n",
        "jane.__dict__"
      ],
      "metadata": {
        "colab": {
          "base_uri": "https://localhost:8080/"
        },
        "id": "SKfj1sQj_0xW",
        "outputId": "6099e90e-2ea4-4c24-b101-fa6228613c48"
      },
      "execution_count": null,
      "outputs": [
        {
          "output_type": "execute_result",
          "data": {
            "text/plain": [
              "{'name': 'Jane Doe', 'job': 'Data Engineer'}"
            ]
          },
          "metadata": {},
          "execution_count": 42
        }
      ]
    },
    {
      "cell_type": "code",
      "source": [
        "def __init__(self, name, job):\n",
        "  self.name = name\n",
        "  self.job = job\n",
        "\n",
        "Record.__init__ = __init__"
      ],
      "metadata": {
        "id": "dtNMZdVEADwr"
      },
      "execution_count": null,
      "outputs": []
    },
    {
      "cell_type": "code",
      "source": [
        "Record.__dict__"
      ],
      "metadata": {
        "colab": {
          "base_uri": "https://localhost:8080/"
        },
        "id": "q1yaHYdvAOhY",
        "outputId": "c52461a9-9e55-4621-f625-ca8abf3e48d3"
      },
      "execution_count": null,
      "outputs": [
        {
          "output_type": "execute_result",
          "data": {
            "text/plain": [
              "mappingproxy({'__module__': '__main__',\n",
              "              '__dict__': <attribute '__dict__' of 'Record' objects>,\n",
              "              '__weakref__': <attribute '__weakref__' of 'Record' objects>,\n",
              "              '__doc__': None,\n",
              "              '__annotations__': {}})"
            ]
          },
          "metadata": {},
          "execution_count": 43
        }
      ]
    },
    {
      "cell_type": "markdown",
      "source": [
        "# Descriptor"
      ],
      "metadata": {
        "id": "UB0iz1jPKnkZ"
      }
    },
    {
      "cell_type": "code",
      "source": [
        "import math\n",
        "\n",
        "class PositiveNumber:\n",
        "    def __set_name__(self, owner, name):\n",
        "        self._name = name\n",
        "\n",
        "    def __get__(self, instance, owner):\n",
        "        return instance.__dict__[self._name]\n",
        "\n",
        "    def __set__(self, instance, value):\n",
        "        if not isinstance(value, int | float) or value <= 0:\n",
        "            raise ValueError(\"positive number expected\")\n",
        "        instance.__dict__[self._name] = value\n",
        "\n",
        "class Circle:\n",
        "    radius = PositiveNumber()\n",
        "\n",
        "    def __init__(self, radius):\n",
        "        self.radius = radius\n",
        "\n",
        "    def calculate_area(self):\n",
        "        return round(math.pi * self.radius**2, 2)\n",
        "\n",
        "class Square:\n",
        "    side = PositiveNumber()\n",
        "\n",
        "    def __init__(self, side):\n",
        "        self.side = side\n",
        "\n",
        "    def calculate_area(self):\n",
        "        return round(self.side**2, 2)"
      ],
      "metadata": {
        "id": "lVbmtz2nAjrF"
      },
      "execution_count": null,
      "outputs": []
    },
    {
      "cell_type": "code",
      "source": [
        "c1 = Circle(110)\n",
        "c1.calculate_area()"
      ],
      "metadata": {
        "colab": {
          "base_uri": "https://localhost:8080/"
        },
        "id": "f9FEVQn7K1MT",
        "outputId": "164ee834-7ee8-4663-fe7b-b269735e7d61"
      },
      "execution_count": null,
      "outputs": [
        {
          "output_type": "execute_result",
          "data": {
            "text/plain": [
              "38013.27"
            ]
          },
          "metadata": {},
          "execution_count": 137
        }
      ]
    },
    {
      "cell_type": "code",
      "source": [
        "try:\n",
        "  c1.radius = 0\n",
        "except Exception as e:\n",
        "#  print(e)"
      ],
      "metadata": {
        "colab": {
          "base_uri": "https://localhost:8080/"
        },
        "id": "-JmlfzVlK_jm",
        "outputId": "ea74c849-fa81-48af-cc9c-3bd244aa78b3"
      },
      "execution_count": null,
      "outputs": [
        {
          "output_type": "stream",
          "name": "stdout",
          "text": [
            "positive number expected\n"
          ]
        }
      ]
    },
    {
      "cell_type": "markdown",
      "source": [
        "# Methods\n",
        "\n",
        "In a Python class, you can define three different types of methods:\n",
        "\n",
        "* Instance methods, which take the current instance, self, as their first argument\n",
        "* Class methods, which take the current class, cls, as their first argument\n",
        "* Static methods, which take neither the class nor the instance\n",
        "\n",
        "\n"
      ],
      "metadata": {
        "id": "5kOXHX9PNDHB"
      }
    },
    {
      "cell_type": "code",
      "source": [
        "\n",
        "class Car:\n",
        "    def __init__(self, model, year):\n",
        "        self.model = model\n",
        "        self.year = year\n",
        "\n",
        "    @staticmethod\n",
        "    def validate(unit_cost: float):\n",
        "        if unit_cost <= 0:\n",
        "            raise Exception(\"UNIT COST must be greater than zero!\")\n",
        "\n",
        "    # Instance metodos\n",
        "    def start(self):\n",
        "        print(\"Starting the car...\")\n",
        "        self.started = True\n",
        "\n",
        "    # Instance metodos\n",
        "    def stop(self):\n",
        "        print(\"Stopping the car...\")\n",
        "        self.started = False\n",
        "\n",
        "    # The method takes a dictionary object containing the data of a given employee.\n",
        "    # Then it builds an instance of Employee using the cls argument and unpacking the dictionary\n",
        "    @classmethod\n",
        "    def from_dict(cls, data_dict):\n",
        "      return cls(**data_dict)"
      ],
      "metadata": {
        "id": "CgZ5_8ZYNZKO"
      },
      "execution_count": null,
      "outputs": []
    },
    {
      "cell_type": "markdown",
      "source": [
        "# Data Classes\n",
        "\n",
        "Cria automaticamente __init__ e __repr__"
      ],
      "metadata": {
        "id": "EtCXwxJzj5XB"
      }
    },
    {
      "cell_type": "code",
      "source": [
        "from dataclasses import dataclass\n",
        "\n",
        "@dataclass\n",
        "class ThreeDPoint:\n",
        "  x: int | float\n",
        "  y: int | float\n",
        "  z: int | float\n",
        "\n",
        "  def calculate(self):\n",
        "    return self.x*self.y*self.z"
      ],
      "metadata": {
        "id": "8zINbrVnj7eS"
      },
      "execution_count": null,
      "outputs": []
    },
    {
      "cell_type": "code",
      "source": [
        "c = ThreeDPoint(2,2,3)\n",
        "c.calculate()"
      ],
      "metadata": {
        "colab": {
          "base_uri": "https://localhost:8080/"
        },
        "id": "VJJuQNijlAxi",
        "outputId": "3ffc7868-3038-4fa4-a7e2-7f7f1b7f6d69"
      },
      "execution_count": null,
      "outputs": [
        {
          "output_type": "execute_result",
          "data": {
            "text/plain": [
              "12"
            ]
          },
          "metadata": {},
          "execution_count": 158
        }
      ]
    },
    {
      "cell_type": "code",
      "source": [
        "repr(c)"
      ],
      "metadata": {
        "colab": {
          "base_uri": "https://localhost:8080/",
          "height": 35
        },
        "id": "emhuIPO5lcsq",
        "outputId": "99be4ba5-0851-49ff-ee29-412feefaf915"
      },
      "execution_count": null,
      "outputs": [
        {
          "output_type": "execute_result",
          "data": {
            "text/plain": [
              "'ThreeDPoint(x=2, y=2, z=3)'"
            ],
            "application/vnd.google.colaboratory.intrinsic+json": {
              "type": "string"
            }
          },
          "metadata": {},
          "execution_count": 159
        }
      ]
    },
    {
      "cell_type": "code",
      "source": [
        "c.__dict__"
      ],
      "metadata": {
        "colab": {
          "base_uri": "https://localhost:8080/"
        },
        "id": "z3IdF7AVljZK",
        "outputId": "dc70b183-f86c-48aa-d84a-813f30c07a83"
      },
      "execution_count": null,
      "outputs": [
        {
          "output_type": "execute_result",
          "data": {
            "text/plain": [
              "{'x': 2, 'y': 2, 'z': 3}"
            ]
          },
          "metadata": {},
          "execution_count": 160
        }
      ]
    },
    {
      "cell_type": "code",
      "source": [
        "ThreeDPoint.__dict__"
      ],
      "metadata": {
        "colab": {
          "base_uri": "https://localhost:8080/"
        },
        "id": "Xtbfze8Glrgg",
        "outputId": "b2d7b2e0-1df4-4a2b-929e-0a3b35a5459c"
      },
      "execution_count": null,
      "outputs": [
        {
          "output_type": "execute_result",
          "data": {
            "text/plain": [
              "mappingproxy({'__module__': '__main__',\n",
              "              '__annotations__': {'x': int | float,\n",
              "               'y': int | float,\n",
              "               'z': int | float},\n",
              "              'calculate': <function __main__.ThreeDPoint.calculate(self)>,\n",
              "              '__dict__': <attribute '__dict__' of 'ThreeDPoint' objects>,\n",
              "              '__weakref__': <attribute '__weakref__' of 'ThreeDPoint' objects>,\n",
              "              '__doc__': 'ThreeDPoint(x: int | float, y: int | float, z: int | float)',\n",
              "              '__dataclass_params__': _DataclassParams(init=True,repr=True,eq=True,order=False,unsafe_hash=False,frozen=False),\n",
              "              '__dataclass_fields__': {'x': Field(name='x',type=int | float,default=<dataclasses._MISSING_TYPE object at 0x7f369b077dc0>,default_factory=<dataclasses._MISSING_TYPE object at 0x7f369b077dc0>,init=True,repr=True,hash=None,compare=True,metadata=mappingproxy({}),kw_only=False,_field_type=_FIELD),\n",
              "               'y': Field(name='y',type=int | float,default=<dataclasses._MISSING_TYPE object at 0x7f369b077dc0>,default_factory=<dataclasses._MISSING_TYPE object at 0x7f369b077dc0>,init=True,repr=True,hash=None,compare=True,metadata=mappingproxy({}),kw_only=False,_field_type=_FIELD),\n",
              "               'z': Field(name='z',type=int | float,default=<dataclasses._MISSING_TYPE object at 0x7f369b077dc0>,default_factory=<dataclasses._MISSING_TYPE object at 0x7f369b077dc0>,init=True,repr=True,hash=None,compare=True,metadata=mappingproxy({}),kw_only=False,_field_type=_FIELD)},\n",
              "              '__init__': <function __main__.ThreeDPoint.__init__(self, x: int | float, y: int | float, z: int | float) -> None>,\n",
              "              '__repr__': <function __main__.ThreeDPoint.__repr__(self)>,\n",
              "              '__eq__': <function __main__.ThreeDPoint.__eq__(self, other)>,\n",
              "              '__hash__': None,\n",
              "              '__match_args__': ('x', 'y', 'z')})"
            ]
          },
          "metadata": {},
          "execution_count": 161
        }
      ]
    },
    {
      "cell_type": "markdown",
      "source": [
        "# Enumerations\n",
        "\n",
        "An enumeration, or just enum, is a data type that you’ll find in several programming languages. Enums allow you to create sets of named constants, which are known as members and can be accessed through the enumeration itself"
      ],
      "metadata": {
        "id": "VjrxSnMdl4Ru"
      }
    },
    {
      "cell_type": "code",
      "source": [
        "from enum import Enum\n",
        "\n",
        "class WeekDay(Enum):\n",
        "  MONDAY = 1\n",
        "  TUESDAY = 2\n",
        "  WEDNESDAY = 3\n",
        "  THURSDAY = 4\n",
        "  FRIDAY = 5\n",
        "  SATURDAY = 6\n",
        "  SUNDAY = 7\n",
        "\n",
        "  @classmethod\n",
        "  def favorite_day(cls):\n",
        "    return cls.FRIDAY\n"
      ],
      "metadata": {
        "id": "4WmlYK4Xl5wt"
      },
      "execution_count": null,
      "outputs": []
    },
    {
      "cell_type": "code",
      "source": [
        "list(WeekDay)"
      ],
      "metadata": {
        "colab": {
          "base_uri": "https://localhost:8080/"
        },
        "id": "H_CYsrtFmXY3",
        "outputId": "c142f4e3-36a5-424c-bb59-2d0c9e6d590c"
      },
      "execution_count": null,
      "outputs": [
        {
          "output_type": "execute_result",
          "data": {
            "text/plain": [
              "[<WeekDay.MONDAY: 1>,\n",
              " <WeekDay.TUESDAY: 2>,\n",
              " <WeekDay.WEDNESDAY: 3>,\n",
              " <WeekDay.THURSDAY: 4>,\n",
              " <WeekDay.FRIDAY: 5>,\n",
              " <WeekDay.SATURDAY: 6>,\n",
              " <WeekDay.SUNDAY: 7>]"
            ]
          },
          "metadata": {},
          "execution_count": 163
        }
      ]
    },
    {
      "cell_type": "code",
      "source": [
        "WeekDay.MONDAY"
      ],
      "metadata": {
        "colab": {
          "base_uri": "https://localhost:8080/"
        },
        "id": "q035Pm1XmfPG",
        "outputId": "84e23c55-a9a8-4edf-99f5-8237fab72121"
      },
      "execution_count": null,
      "outputs": [
        {
          "output_type": "execute_result",
          "data": {
            "text/plain": [
              "<WeekDay.MONDAY: 1>"
            ]
          },
          "metadata": {},
          "execution_count": 164
        }
      ]
    },
    {
      "cell_type": "code",
      "source": [
        "WeekDay(2)"
      ],
      "metadata": {
        "colab": {
          "base_uri": "https://localhost:8080/"
        },
        "id": "JacLWQj1miyo",
        "outputId": "175a0f3c-bb96-430b-ec56-464949005092"
      },
      "execution_count": null,
      "outputs": [
        {
          "output_type": "execute_result",
          "data": {
            "text/plain": [
              "<WeekDay.TUESDAY: 2>"
            ]
          },
          "metadata": {},
          "execution_count": 165
        }
      ]
    },
    {
      "cell_type": "code",
      "source": [
        "WeekDay['MONDAYM']"
      ],
      "metadata": {
        "colab": {
          "base_uri": "https://localhost:8080/"
        },
        "id": "RHcya_-Nmk6W",
        "outputId": "094e7a5d-8fe2-4dfd-f2db-e61075730598"
      },
      "execution_count": null,
      "outputs": [
        {
          "output_type": "execute_result",
          "data": {
            "text/plain": [
              "<WeekDay.MONDAY: 1>"
            ]
          },
          "metadata": {},
          "execution_count": 166
        }
      ]
    },
    {
      "cell_type": "code",
      "source": [
        "WeekDay(2).name, WeekDay(2).value"
      ],
      "metadata": {
        "colab": {
          "base_uri": "https://localhost:8080/"
        },
        "id": "hgIw0YjomsRQ",
        "outputId": "2c136390-2a18-41e0-8b80-c17a0a1fa49a"
      },
      "execution_count": null,
      "outputs": [
        {
          "output_type": "execute_result",
          "data": {
            "text/plain": [
              "('TUESDAY', 2)"
            ]
          },
          "metadata": {},
          "execution_count": 168
        }
      ]
    },
    {
      "cell_type": "code",
      "source": [
        "for day in WeekDay:\n",
        "  print(day)"
      ],
      "metadata": {
        "colab": {
          "base_uri": "https://localhost:8080/"
        },
        "id": "DMCIlXIYm3tq",
        "outputId": "53ef016f-1efc-4f17-cb6e-41c0576ccff2"
      },
      "execution_count": null,
      "outputs": [
        {
          "output_type": "stream",
          "name": "stdout",
          "text": [
            "WeekDay.MONDAY\n",
            "WeekDay.TUESDAY\n",
            "WeekDay.WEDNESDAY\n",
            "WeekDay.THURSDAY\n",
            "WeekDay.FRIDAY\n",
            "WeekDay.SATURDAY\n",
            "WeekDay.SUNDAY\n"
          ]
        }
      ]
    },
    {
      "cell_type": "code",
      "source": [
        "WeekDay.favorite_day()"
      ],
      "metadata": {
        "colab": {
          "base_uri": "https://localhost:8080/"
        },
        "id": "vpG_qVE6nXkM",
        "outputId": "dbef42c0-fc1b-48c4-b37b-582269c4e9ba"
      },
      "execution_count": null,
      "outputs": [
        {
          "output_type": "execute_result",
          "data": {
            "text/plain": [
              "<WeekDay.FRIDAY: 5>"
            ]
          },
          "metadata": {},
          "execution_count": 174
        }
      ]
    },
    {
      "cell_type": "code",
      "source": [
        "WeekDay.favorite_day().name"
      ],
      "metadata": {
        "colab": {
          "base_uri": "https://localhost:8080/",
          "height": 35
        },
        "id": "5wBxo8M7ni56",
        "outputId": "c97da55d-056f-4c28-cd99-1e425b3ce30c"
      },
      "execution_count": null,
      "outputs": [
        {
          "output_type": "execute_result",
          "data": {
            "text/plain": [
              "'FRIDAY'"
            ],
            "application/vnd.google.colaboratory.intrinsic+json": {
              "type": "string"
            }
          },
          "metadata": {},
          "execution_count": 175
        }
      ]
    },
    {
      "cell_type": "markdown",
      "source": [
        "# Inheritance [in-réritance]"
      ],
      "metadata": {
        "id": "OkPQoaRIokJr"
      }
    },
    {
      "cell_type": "code",
      "source": [
        "class Person:\n",
        "  def __init__(self, fname, lname):\n",
        "    self.firstname = fname\n",
        "    self.lastname = lname\n",
        "\n",
        "  def __str__(self):\n",
        "    return f\"{self.firstname} {self.lastname}\"\n",
        "\n",
        "p1 = Person(\"Jalal\", \"Faraj\")\n",
        "print(p1)\n",
        "\n",
        "class Student(Person):\n",
        "  pass\n",
        "\n",
        "e1 = Student(\"Jalal\", \"Faraj\")\n",
        "print(e1)"
      ],
      "metadata": {
        "colab": {
          "base_uri": "https://localhost:8080/"
        },
        "id": "62bGTAYlgqt_",
        "outputId": "4dc6351d-314c-42fe-bc3c-5e97eee55b9d"
      },
      "execution_count": null,
      "outputs": [
        {
          "output_type": "stream",
          "name": "stdout",
          "text": [
            "Jalal Faraj\n",
            "Jalal Faraj\n"
          ]
        }
      ]
    },
    {
      "cell_type": "code",
      "source": [
        "print(type(p1))\n",
        "print(isinstance(e1, Person))\n",
        "print(isinstance(e1, Student))"
      ],
      "metadata": {
        "colab": {
          "base_uri": "https://localhost:8080/"
        },
        "id": "adKjcbQFhGgY",
        "outputId": "303679a6-e8f6-4681-f817-0904ba3f2c00"
      },
      "execution_count": null,
      "outputs": [
        {
          "output_type": "stream",
          "name": "stdout",
          "text": [
            "<class '__main__.Person'>\n",
            "True\n",
            "True\n"
          ]
        }
      ]
    },
    {
      "cell_type": "code",
      "source": [
        "class Pessoa:\n",
        "\n",
        "  nome: str # public\n",
        "  _sexo: str # protected\n",
        "  __blabla: int # privety\n",
        "\n",
        "  def __init__(self, nome):\n",
        "    self.nome = nome\n",
        "\n",
        "  def __str__(self):\n",
        "    return f\"{self.nome} {self.sexo}\"\n",
        "\n",
        "  # return a string that allows you to re-create the object\n",
        "  # formal string representation\n",
        "  def __repr__(self):\n",
        "    return (\n",
        "        f\"{type(self).__name__}(\"\n",
        "        f\"name='{self.nome}', \"\n",
        "        f\"sexo='{self.sexo}')\"\n",
        "    )\n",
        "\n",
        "  @property\n",
        "  def sexo(self):\n",
        "    return self._sexo\n",
        "\n",
        "  @sexo.setter\n",
        "  def sexo(self, sexo):\n",
        "    if sexo not in ['F','M']:\n",
        "      raise ValueError(\"Informe F ou M\")\n",
        "    self._sexo = sexo\n",
        "\n",
        "class Mulher(Pessoa):\n",
        "\n",
        "  def __init__(self, nome):\n",
        "    super().__init__(nome)\n",
        "    self.sexo = \"F\"\n",
        "\n",
        "class Homem(Pessoa):\n",
        "\n",
        "    def __init__(self, nome):\n",
        "    super().__init__(nome)\n",
        "    self.sexo = \"M\""
      ],
      "metadata": {
        "id": "lzsyKYSqoslm"
      },
      "execution_count": null,
      "outputs": []
    },
    {
      "cell_type": "code",
      "source": [
        "type(mulher), isinstance(mulher, Pessoa), isinstance(mulher, Mulher)"
      ],
      "metadata": {
        "id": "qcHtzlFypQ8Z"
      },
      "execution_count": null,
      "outputs": []
    },
    {
      "cell_type": "markdown",
      "source": [
        "## Polymorphism\n",
        "\n",
        "Polymorphism is often used in Class methods, where we can have multiple classes with the same method name"
      ],
      "metadata": {
        "id": "J37VliJJq5wS"
      }
    },
    {
      "cell_type": "code",
      "source": [
        "class Vehicle:\n",
        "  def __init__(self, brand, model):\n",
        "    self.brand = brand\n",
        "    self.model = model\n",
        "\n",
        "  def move(self):\n",
        "    print(\"Move!\")\n",
        "\n",
        "class Car(Vehicle):\n",
        "  pass\n",
        "\n",
        "class Boat(Vehicle):\n",
        "  def move(self):\n",
        "    print(\"Sail!\")\n",
        "\n",
        "class Plane(Vehicle):\n",
        "  def move(self):\n",
        "    print(\"Fly!\")\n",
        "\n",
        "car1 = Car(\"Ford\", \"Mustang\") #Create a Car object\n",
        "boat1 = Boat(\"Ibiza\", \"Touring 20\") #Create a Boat object\n",
        "plane1 = Plane(\"Boeing\", \"747\") #Create a Plane object\n",
        "\n",
        "for x in (car1, boat1, plane1):\n",
        "  print(x.brand)\n",
        "  print(x.model)\n",
        "  x.move()"
      ],
      "metadata": {
        "colab": {
          "base_uri": "https://localhost:8080/"
        },
        "id": "8_xkVqQGq7w-",
        "outputId": "721c0ec5-63cd-4ada-ecf7-b6b09a76b93c"
      },
      "execution_count": null,
      "outputs": [
        {
          "output_type": "stream",
          "name": "stdout",
          "text": [
            "Ford\n",
            "Mustang\n",
            "Move!\n",
            "Ibiza\n",
            "Touring 20\n",
            "Sail!\n",
            "Boeing\n",
            "747\n",
            "Fly!\n"
          ]
        }
      ]
    },
    {
      "cell_type": "markdown",
      "source": [
        "### Orverrriding and Extension\n",
        "\n",
        "Dentro do poliformismo vc pode extender um método ou sobrecarregar ele."
      ],
      "metadata": {
        "id": "tuNbOj2NyP9F"
      }
    },
    {
      "cell_type": "code",
      "source": [
        "class Worker:\n",
        "    def __init__(self, name, hourly_salary):\n",
        "        self.name = name\n",
        "        self.hourly_salary = hourly_salary\n",
        "\n",
        "    def show_profile(self):\n",
        "        print(\"== Worker profile ==\")\n",
        "        print(f\"Name: {self.name}\")\n",
        "        print(f\"Hourly salary: {self.hourly_salary}\")\n",
        "\n",
        "    def calculate_payroll(self, hours=40):\n",
        "        return self.hourly_salary * hours"
      ],
      "metadata": {
        "id": "O89ETLq9xIdN"
      },
      "execution_count": null,
      "outputs": []
    },
    {
      "cell_type": "code",
      "source": [
        "w = Worker(\"Jose\",1000)\n",
        "w.show_profile(), w.calculate_payroll()"
      ],
      "metadata": {
        "colab": {
          "base_uri": "https://localhost:8080/"
        },
        "id": "Nu7GTziixiHq",
        "outputId": "e4fbd363-4987-4db9-979c-f34d9fcc5458"
      },
      "execution_count": null,
      "outputs": [
        {
          "output_type": "stream",
          "name": "stdout",
          "text": [
            "== Worker profile ==\n",
            "Name: Jose\n",
            "Hourly salary: 1000\n"
          ]
        },
        {
          "output_type": "execute_result",
          "data": {
            "text/plain": [
              "(None, 40000)"
            ]
          },
          "metadata": {},
          "execution_count": 189
        }
      ]
    },
    {
      "cell_type": "code",
      "source": [
        "class Manager(Worker):\n",
        "  # Extending\n",
        "  def __init__(self, name, hourly_salary, hourly_bonus):\n",
        "      super().__init__(name, hourly_salary)\n",
        "      # Worker.__init__(name, hourly_salary) poderia escrever assim tbm\n",
        "      self.hourly_bonus = hourly_bonus\n",
        "\n",
        "  # Extending\n",
        "  def show_profile(self):\n",
        "    super().show_profile()\n",
        "    print(\"Also Im a Manager\")\n",
        "\n",
        "  # Overriding\n",
        "  def calculate_payroll(self, hours=40):\n",
        "      return (self.hourly_salary + self.hourly_bonus) * hours"
      ],
      "metadata": {
        "id": "h9HBeqCWxPLf"
      },
      "execution_count": null,
      "outputs": []
    },
    {
      "cell_type": "code",
      "source": [
        "m = Manager(\"Maria\", 2000, 5000)\n",
        "m.show_profile(), m.calculate_payroll()"
      ],
      "metadata": {
        "colab": {
          "base_uri": "https://localhost:8080/"
        },
        "id": "rxCn9swzxhQt",
        "outputId": "ab9cb7f5-cefa-4097-b2ef-48d607e2f469"
      },
      "execution_count": null,
      "outputs": [
        {
          "output_type": "stream",
          "name": "stdout",
          "text": [
            "== Worker profile ==\n",
            "Name: Maria\n",
            "Hourly salary: 2000\n",
            "Also Im a Manager\n"
          ]
        },
        {
          "output_type": "execute_result",
          "data": {
            "text/plain": [
              "(None, 280000)"
            ]
          },
          "metadata": {},
          "execution_count": 193
        }
      ]
    },
    {
      "cell_type": "markdown",
      "source": [
        "## Multipla Herança"
      ],
      "metadata": {
        "id": "2BSIuOUux_f7"
      }
    },
    {
      "cell_type": "code",
      "source": [],
      "metadata": {
        "id": "rY-GO-3Zyfzf"
      },
      "execution_count": null,
      "outputs": []
    }
  ]
}