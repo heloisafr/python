{
  "nbformat": 4,
  "nbformat_minor": 0,
  "metadata": {
    "colab": {
      "provenance": [],
      "authorship_tag": "ABX9TyPqw8OuopmVl82mHWCn+r1V",
      "include_colab_link": true
    },
    "kernelspec": {
      "name": "python3",
      "display_name": "Python 3"
    },
    "language_info": {
      "name": "python"
    }
  },
  "cells": [
    {
      "cell_type": "markdown",
      "metadata": {
        "id": "view-in-github",
        "colab_type": "text"
      },
      "source": [
        "<a href=\"https://colab.research.google.com/github/heloisafr/python/blob/main/Python_Regular_Expressions.ipynb\" target=\"_parent\"><img src=\"https://colab.research.google.com/assets/colab-badge.svg\" alt=\"Open In Colab\"/></a>"
      ]
    },
    {
      "cell_type": "markdown",
      "source": [
        "# Regex with Pyhton\n",
        "\n",
        "Fontes:\n",
        " * https://aurelio.net/regex/guia\n",
        " * https://www.w3schools.com/python/python_regex.asp\n",
        " * https://pynative.com/python/regex/"
      ],
      "metadata": {
        "id": "PEGz4R8NoldS"
      }
    },
    {
      "cell_type": "code",
      "source": [
        "import re"
      ],
      "metadata": {
        "id": "DBB1Zn92cnp8"
      },
      "execution_count": null,
      "outputs": []
    },
    {
      "cell_type": "markdown",
      "source": [
        "### The findall() Function\n",
        "\n",
        "The findall() function returns a list containing all matches."
      ],
      "metadata": {
        "id": "ZVnYWrN1d8R5"
      }
    },
    {
      "cell_type": "code",
      "source": [
        "txt = \"\"\"The rain in Spain\"\"\"\n",
        "x = re.findall(r\"ai\", txt)\n",
        "print(x)\n",
        "\n",
        "txt = \"\"\"The rain in Spain\\nThe rain in Spain\"\"\"\n",
        "x = re.findall(r\"ai\", txt)\n",
        "print(x)\n",
        "\n",
        "x = re.findall(\"Portugal\", txt)\n",
        "print(x)"
      ],
      "metadata": {
        "colab": {
          "base_uri": "https://localhost:8080/"
        },
        "id": "mUMbJmshd3fo",
        "outputId": "771d65db-a658-43a9-dafb-9c1336f8eb18"
      },
      "execution_count": null,
      "outputs": [
        {
          "output_type": "stream",
          "name": "stdout",
          "text": [
            "['ai', 'ai']\n",
            "['ai', 'ai', 'ai', 'ai']\n",
            "[]\n"
          ]
        }
      ]
    },
    {
      "cell_type": "markdown",
      "source": [
        "### The search() Function\n",
        "\n",
        "The search() function searches the string for a match, and returns a **Match object** if there is a match"
      ],
      "metadata": {
        "id": "rbrxNZbQc-ec"
      }
    },
    {
      "cell_type": "code",
      "source": [
        "txt = \"The rain in Spain\"\n",
        "x = re.search(r\"\\bT\\w+\", txt)\n",
        "print(x.start())\n",
        "print(x.end())\n",
        "print(x.span()) # returns a tuple containing the start and end positions of the match.\n",
        "print(x.string) # returns the string passed into the function\n",
        "print(x.group()) # returns the part of the string where there was a match"
      ],
      "metadata": {
        "colab": {
          "base_uri": "https://localhost:8080/"
        },
        "id": "ois1dVmvcrao",
        "outputId": "0edb23c6-74b7-47e2-a3be-9b8a709fd2a1"
      },
      "execution_count": null,
      "outputs": [
        {
          "output_type": "stream",
          "name": "stdout",
          "text": [
            "0\n",
            "3\n",
            "(0, 3)\n",
            "The rain in Spain\n",
            "The\n"
          ]
        }
      ]
    },
    {
      "cell_type": "markdown",
      "source": [
        "### The split() Function\n",
        "\n",
        "The split() function returns a list where the string has been split at each match"
      ],
      "metadata": {
        "id": "KZ1MBsvnew6x"
      }
    },
    {
      "cell_type": "code",
      "source": [
        "txt = \"The rain in Spain\"\n",
        "x = re.split(r\"\\s\", txt)\n",
        "print(x)\n",
        "\n",
        "x = re.split(r\"\\s\", txt, 1)\n",
        "print(x)"
      ],
      "metadata": {
        "colab": {
          "base_uri": "https://localhost:8080/"
        },
        "id": "8zg6iP69e4xz",
        "outputId": "82338ce7-ad22-488b-ae43-3e7f4cfaceed"
      },
      "execution_count": null,
      "outputs": [
        {
          "output_type": "stream",
          "name": "stdout",
          "text": [
            "['The', 'rain', 'in', 'Spain']\n",
            "['The', 'rain in Spain']\n"
          ]
        }
      ]
    },
    {
      "cell_type": "markdown",
      "source": [
        "### The sub() Function\n",
        "\n",
        "The sub() function replaces the matches with the text of your choice"
      ],
      "metadata": {
        "id": "7R2iDvt3fHNc"
      }
    },
    {
      "cell_type": "code",
      "source": [
        "txt = \"The rain in Spain\"\n",
        "x = re.sub(\"\\s\", \"__\", txt)\n",
        "print(x)\n",
        "\n",
        "x = re.sub(\"\\s\", \"__\", txt, 1)\n",
        "print(x)"
      ],
      "metadata": {
        "colab": {
          "base_uri": "https://localhost:8080/"
        },
        "id": "CYSsEkVofGJD",
        "outputId": "3e9881e3-0dfd-4292-f78a-55d3141190f6"
      },
      "execution_count": null,
      "outputs": [
        {
          "output_type": "stream",
          "name": "stdout",
          "text": [
            "The__rain__in__Spain\n",
            "The__rain in Spain\n"
          ]
        }
      ]
    },
    {
      "cell_type": "markdown",
      "source": [
        "# Metacharacters"
      ],
      "metadata": {
        "id": "BS85Dyj5SIXe"
      }
    },
    {
      "cell_type": "markdown",
      "source": [
        "## Sets `[]`"
      ],
      "metadata": {
        "id": "5zDB46itSovX"
      }
    },
    {
      "cell_type": "code",
      "source": [
        "txt = \"não lembro se aceituei o nao\"\n",
        "x = re.findall(\"n[ãa]o\", txt)\n",
        "print(x)"
      ],
      "metadata": {
        "colab": {
          "base_uri": "https://localhost:8080/"
        },
        "id": "cnvn9ZzQiBZU",
        "outputId": "66865261-8afd-4f2d-aa7c-fc892e1c4665"
      },
      "execution_count": null,
      "outputs": [
        {
          "output_type": "stream",
          "name": "stdout",
          "text": [
            "['não', 'nao']\n"
          ]
        }
      ]
    },
    {
      "cell_type": "code",
      "source": [
        "txt = \"The rain in Spain\"\n",
        "\n",
        "#Find all lower case characters alphabetically between \"a\" and \"m\":\n",
        "x = re.findall(\"[a-m]\", txt)\n",
        "print(x)\n",
        "\n",
        "# Returns a match where one of the specified characters (a, r, or n) is present\n",
        "x = re.findall(\"[abc]\", txt)\n",
        "print(x)"
      ],
      "metadata": {
        "colab": {
          "base_uri": "https://localhost:8080/"
        },
        "id": "UclsfmEHSJ3f",
        "outputId": "21a712e8-4276-4a74-e7d9-871d40ed0a59"
      },
      "execution_count": null,
      "outputs": [
        {
          "output_type": "stream",
          "name": "stdout",
          "text": [
            "['h', 'e', 'a', 'i', 'i', 'a', 'i']\n",
            "['a', 'a']\n"
          ]
        }
      ]
    },
    {
      "cell_type": "markdown",
      "source": [
        "Lista Negada"
      ],
      "metadata": {
        "id": "jCrgs2tZ-rcK"
      }
    },
    {
      "cell_type": "code",
      "source": [
        "txt = \"Ops!Esqueci do espaço.Depois de começar outra frase\"\n",
        "x = re.findall(\"[:;,.!?][^ ]\", txt)\n",
        "print(x)"
      ],
      "metadata": {
        "colab": {
          "base_uri": "https://localhost:8080/"
        },
        "id": "_K-jZuSf-ski",
        "outputId": "017d71ae-97c1-4335-eaf1-e241b3c6f307"
      },
      "execution_count": null,
      "outputs": [
        {
          "output_type": "stream",
          "name": "stdout",
          "text": [
            "['!E', '.D']\n"
          ]
        }
      ]
    },
    {
      "cell_type": "markdown",
      "source": [
        "`[A-z]` x `[A-Za-z]`\n",
        "\n",
        "* A-z pega também \"[\\]^_`\"\n",
        "* a-z pega apenas de a até z\n",
        "* A-Z pega apenas de A até Z\n",
        "\n",
        "Nenhum dos dois intervalos pegam caracteres acentuados como \"áéóõç\""
      ],
      "metadata": {
        "id": "V4fuOO1OmU2x"
      }
    },
    {
      "cell_type": "code",
      "source": [
        "txt = \"Então é [foda]\"\n",
        "\n",
        "x = re.findall(\"[a-z]\", txt)\n",
        "print(x)\n",
        "\n",
        "x = re.findall(\"[A-Z]\", txt)\n",
        "print(x)\n",
        "\n",
        "x = re.findall(\"[A-Za-z]\", txt)\n",
        "print(x)\n",
        "\n",
        "x = re.findall(\"[A-z]\", txt)\n",
        "print(x)"
      ],
      "metadata": {
        "colab": {
          "base_uri": "https://localhost:8080/"
        },
        "id": "L1xZVDComz6e",
        "outputId": "24f7291f-e80a-43d6-924f-256ddfa7cb1c"
      },
      "execution_count": null,
      "outputs": [
        {
          "output_type": "stream",
          "name": "stdout",
          "text": [
            "['n', 't', 'o', 'f', 'o', 'd', 'a']\n",
            "['E']\n",
            "['E', 'n', 't', 'o', 'f', 'o', 'd', 'a']\n",
            "['E', 'n', 't', 'o', '[', 'f', 'o', 'd', 'a', ']']\n"
          ]
        }
      ]
    },
    {
      "cell_type": "markdown",
      "source": [
        "Digitos"
      ],
      "metadata": {
        "id": "0E8iJfAfnqLT"
      }
    },
    {
      "cell_type": "code",
      "source": [
        "txt = \"8 times before 11:45 AM\"\n",
        "\n",
        "# Returns a match where any of the specified digits (0, 1, 2, or 3) are present\n",
        "x = re.findall(\"[0123]\", txt)\n",
        "print(x)\n",
        "\n",
        "#Check if the string has any digits:\n",
        "x = re.findall(\"[0-9]\", txt)\n",
        "print(x)\n",
        "\n",
        "# Returns a match for any two-digit numbers from 00 and 59\n",
        "x = re.findall(\"[0-5][0-9]\", txt)\n",
        "print(x)"
      ],
      "metadata": {
        "colab": {
          "base_uri": "https://localhost:8080/"
        },
        "id": "EoBGRj-md0K8",
        "outputId": "84515bf6-3335-4fe1-f0b5-086ba708e660"
      },
      "execution_count": null,
      "outputs": [
        {
          "output_type": "stream",
          "name": "stdout",
          "text": [
            "['1', '1']\n",
            "['8', '1', '1', '4', '5']\n",
            "['11', '45']\n"
          ]
        }
      ]
    },
    {
      "cell_type": "markdown",
      "source": [
        "In sets, +,-, *, ., |, (), $,{}, has no special meaning, so [+] means: return a match for any + character in the string"
      ],
      "metadata": {
        "id": "8zvBFe4keqxs"
      }
    },
    {
      "cell_type": "code",
      "source": [
        "txt = \"2 + 3 is equals 4. 5-1 is equals 4.\"\n",
        "\n",
        "#Check if the string has any plus characters:\n",
        "x = re.findall(\"[+]\", txt)\n",
        "print(x)\n",
        "\n",
        "#Check if the string has any dot characters:\n",
        "x = re.findall(\"[.]\", txt)\n",
        "print(x)\n",
        "\n",
        "x = re.findall(\"[-]\", txt)\n",
        "print(x)\n",
        "\n",
        "# Se tenho um intervalo e o menos para casar o menos deve estar no final da lista\n",
        "x = re.findall(\"[0-9-]\", txt)\n",
        "print(x)"
      ],
      "metadata": {
        "colab": {
          "base_uri": "https://localhost:8080/"
        },
        "id": "VHUbN2nxegRf",
        "outputId": "04286a45-72d7-4729-b033-e0ab4be310e2"
      },
      "execution_count": null,
      "outputs": [
        {
          "output_type": "stream",
          "name": "stdout",
          "text": [
            "['+']\n",
            "['.', '.']\n",
            "['-']\n",
            "['2', '3', '4', '5', '-', '1', '4']\n"
          ]
        }
      ]
    },
    {
      "cell_type": "markdown",
      "source": [
        "Casando conchetes\n",
        "\n",
        "O colchete que abre `[` pode ser colocado em qualquer lugar na lista, pois ela já está aberta e não se pode ter uma lista dentro da outra\n",
        "\n",
        "O colchete que fecha `]` deve ser colocado no começo da lista, ser o **primeiro item da lista**, para não confundir com o colchete que termina a lista."
      ],
      "metadata": {
        "id": "e1TMnReEjmK_"
      }
    },
    {
      "cell_type": "code",
      "source": [
        "txt = \"Mas se eu quizer casar [ ou ]?\"\n",
        "x = re.findall(r\"[[]\", txt)\n",
        "print(x)\n",
        "\n",
        "x = re.findall(r\"[]]\", txt)\n",
        "print(x)\n",
        "\n",
        "x = re.findall(r\"[][]\", txt)\n",
        "print(x)"
      ],
      "metadata": {
        "colab": {
          "base_uri": "https://localhost:8080/"
        },
        "id": "d9Yj7xUujAl7",
        "outputId": "d49f8fa6-af16-431b-8eb6-c8cf7a257925"
      },
      "execution_count": null,
      "outputs": [
        {
          "output_type": "stream",
          "name": "stdout",
          "text": [
            "['[']\n",
            "[']']\n",
            "['[', ']']\n"
          ]
        }
      ]
    },
    {
      "cell_type": "markdown",
      "source": [
        "Intervalo de caracteres especiais\n",
        "\n",
        "`[:-@] `Nesse intervalo tem: `; < = > ? @`\n",
        "\n",
        " Os intervalos respeitam a ordem numérica da tabela ASCII https://www.asciitable.com/\n"
      ],
      "metadata": {
        "id": "6QgSnDy6k_Kc"
      }
    },
    {
      "cell_type": "code",
      "source": [
        "txt = \"O 3 > que 4 que < que 5?\"\n",
        "x = re.findall(r\"[:-@]\", txt)\n",
        "print(x)"
      ],
      "metadata": {
        "id": "8vPnLOmukv3a",
        "colab": {
          "base_uri": "https://localhost:8080/"
        },
        "outputId": "5b30bfa1-926e-4526-f1f5-d0052be86416"
      },
      "execution_count": null,
      "outputs": [
        {
          "output_type": "stream",
          "name": "stdout",
          "text": [
            "['>', '<', '?']\n"
          ]
        }
      ]
    },
    {
      "cell_type": "markdown",
      "source": [
        "**POSIX**\n",
        "\n",
        "POSIX bracket expressions are a special kind of character classes\n",
        "\n",
        "Exemplo: [:upper:]\n",
        "\n",
        "Tericamente usando POSIX seria possível pegar letras acentuadas usando essas listas pré-definidas.\n",
        "\n",
        "O modulo re do Python não suporta POSIX."
      ],
      "metadata": {
        "id": "w185gR1G3pO-"
      }
    },
    {
      "cell_type": "markdown",
      "source": [
        "## Ponto `.`\n",
        "\n",
        "Any character (except newline character)"
      ],
      "metadata": {
        "id": "LOCRUb5VTrVz"
      }
    },
    {
      "cell_type": "code",
      "source": [
        "#Search for a sequence that starts with \"he\", followed by two (any) characters, and an \"o\":\n",
        "txt = \"hello planet\"\n",
        "x = re.findall(\"he..o\", txt)\n",
        "print(x)\n",
        "\n",
        "txt = \"não lembro se aceituei o nao\"\n",
        "x = re.findall(\"n.o\", txt)\n",
        "print(x)"
      ],
      "metadata": {
        "colab": {
          "base_uri": "https://localhost:8080/"
        },
        "id": "BTpv9-VvTuA_",
        "outputId": "65144022-5914-44fe-cc81-8e6024a9eef1"
      },
      "execution_count": null,
      "outputs": [
        {
          "output_type": "stream",
          "name": "stdout",
          "text": [
            "['hello']\n",
            "['não', 'nao']\n"
          ]
        }
      ]
    },
    {
      "cell_type": "markdown",
      "source": [
        "## Opcional `?`\n",
        "\n",
        "Zero or one occurrences"
      ],
      "metadata": {
        "id": "-st_ef_3Vs-g"
      }
    },
    {
      "cell_type": "code",
      "source": [
        "txt = \"planets planet planeta\"\n",
        "x = re.findall(\"planets?\", txt)\n",
        "print(x)"
      ],
      "metadata": {
        "colab": {
          "base_uri": "https://localhost:8080/"
        },
        "id": "kErPd0AsVvls",
        "outputId": "e84edffa-f777-4681-f7a8-95f2feb3b6eb"
      },
      "execution_count": null,
      "outputs": [
        {
          "output_type": "stream",
          "name": "stdout",
          "text": [
            "['planets', 'planet', 'planet']\n"
          ]
        }
      ]
    },
    {
      "cell_type": "code",
      "source": [
        "txt = \"planets planet planeta\"\n",
        "x = re.findall(\"planet[sa]?\", txt)\n",
        "print(x)"
      ],
      "metadata": {
        "colab": {
          "base_uri": "https://localhost:8080/"
        },
        "id": "QBIOCui7Aypo",
        "outputId": "07b468d1-51d5-460a-ae76-dfafa082b872"
      },
      "execution_count": null,
      "outputs": [
        {
          "output_type": "stream",
          "name": "stdout",
          "text": [
            "['planets', 'planet', 'planeta']\n"
          ]
        }
      ]
    },
    {
      "cell_type": "code",
      "source": [
        "txt = \"<b>oi</b><p>oi</p>\"\n",
        "x = re.findall(\"</?[bp]>\", txt)\n",
        "print(x)"
      ],
      "metadata": {
        "colab": {
          "base_uri": "https://localhost:8080/"
        },
        "id": "L2kizlF0BtK_",
        "outputId": "77762b9e-fffc-4ccf-c288-ae6e9013d293"
      },
      "execution_count": null,
      "outputs": [
        {
          "output_type": "stream",
          "name": "stdout",
          "text": [
            "['<b>', '</b>', '<p>', '</p>']\n"
          ]
        }
      ]
    },
    {
      "cell_type": "code",
      "source": [
        "#Search for a sequence that starts with \"hel\",\n",
        "# followed by any character or not and an \"o\":\n",
        "txt = \"hello planet hello\"\n",
        "x = re.findall(\"hel.?o\", txt)\n",
        "print(x)\n",
        "\n",
        "# Usando um quantificador não-guloso (??)\n",
        "# não consegui achar um exemplo melhor :(\n",
        "x = re.findall(\"hel.??o\", txt)\n",
        "print(x)"
      ],
      "metadata": {
        "colab": {
          "base_uri": "https://localhost:8080/"
        },
        "id": "RCWcikRhgKO0",
        "outputId": "b7162da0-d488-4dbd-c0fe-647c42c7e7bb"
      },
      "execution_count": null,
      "outputs": [
        {
          "output_type": "stream",
          "name": "stdout",
          "text": [
            "['hello', 'hello']\n",
            "['hello', 'hello']\n"
          ]
        }
      ]
    },
    {
      "cell_type": "markdown",
      "source": [
        "## Asterisco `*`\n",
        "\n",
        "Zero or more occurrences"
      ],
      "metadata": {
        "id": "8el0OIwdU1GC"
      }
    },
    {
      "cell_type": "code",
      "source": [
        "txt = \"1 10 100 1000 10000\"\n",
        "x = re.findall(\"10*\", txt)\n",
        "print(x)"
      ],
      "metadata": {
        "colab": {
          "base_uri": "https://localhost:8080/"
        },
        "id": "wK2pB2P5CnGJ",
        "outputId": "9b5f31f9-1948-4f87-8de6-f760bf10bcc7"
      },
      "execution_count": null,
      "outputs": [
        {
          "output_type": "stream",
          "name": "stdout",
          "text": [
            "['1', '10', '100', '1000', '10000']\n"
          ]
        }
      ]
    },
    {
      "cell_type": "code",
      "source": [
        "txt = \"<b>oi</b><table><tr></tr></table><>\"\n",
        "x = re.findall(\"</?[a-z][a-z]*>\", txt)\n",
        "print(x)"
      ],
      "metadata": {
        "colab": {
          "base_uri": "https://localhost:8080/"
        },
        "id": "0_14A5bhDc1r",
        "outputId": "463a1a2a-94d0-4cee-82dc-d979d10acccf"
      },
      "execution_count": null,
      "outputs": [
        {
          "output_type": "stream",
          "name": "stdout",
          "text": [
            "['<b>', '</b>', '<table>', '<tr>', '</tr>', '</table>']\n"
          ]
        }
      ]
    },
    {
      "cell_type": "markdown",
      "source": [
        "**O curinga .* é qualquer coisa!**"
      ],
      "metadata": {
        "id": "NGjQ3zIGFa5t"
      }
    },
    {
      "cell_type": "code",
      "source": [
        "#Search for a sequence that starts with \"he\",\n",
        "#  followed by 0 or more of any characters and an \"o\":\n",
        "txt = \"hello planet! hello!\"\n",
        "x = re.findall(\"he.*o\", txt)\n",
        "print(x)\n",
        "\n",
        "# Usando um quantificador não-guloso (*?), para casar apenas com o primeiro hello\n",
        "txt = \"hello planet! hello!\"\n",
        "x = re.findall(\"he.*?o\", txt)\n",
        "print(x)"
      ],
      "metadata": {
        "colab": {
          "base_uri": "https://localhost:8080/"
        },
        "id": "ajCukXOGU3tn",
        "outputId": "43b73c2d-e595-4ba1-9fe6-7a1eff4f032d"
      },
      "execution_count": null,
      "outputs": [
        {
          "output_type": "stream",
          "name": "stdout",
          "text": [
            "['hello planet! hello']\n",
            "['hello', 'hello']\n"
          ]
        }
      ]
    },
    {
      "cell_type": "markdown",
      "source": [
        "## One or more occurrences `+`"
      ],
      "metadata": {
        "id": "RKQX6DNpVdgk"
      }
    },
    {
      "cell_type": "code",
      "source": [
        "txt = \"1 10 100 1000 10000\"\n",
        "x = re.findall(\"10+\", txt)\n",
        "print(x)"
      ],
      "metadata": {
        "colab": {
          "base_uri": "https://localhost:8080/"
        },
        "outputId": "e0fc7eb5-5b0c-462a-f57b-91a359d7c445",
        "id": "GKk8gMNvHGwZ"
      },
      "execution_count": null,
      "outputs": [
        {
          "output_type": "stream",
          "name": "stdout",
          "text": [
            "['10', '100', '1000', '10000']\n"
          ]
        }
      ]
    },
    {
      "cell_type": "code",
      "source": [
        "txt = \"<b>oi</b><table><tr></tr></table><>\"\n",
        "x = re.findall(\"</?[a-z]+>\", txt)\n",
        "print(x)"
      ],
      "metadata": {
        "colab": {
          "base_uri": "https://localhost:8080/"
        },
        "outputId": "be61a1af-eb41-4360-d443-d847fc3769bc",
        "id": "ouniMZAtHMkd"
      },
      "execution_count": null,
      "outputs": [
        {
          "output_type": "stream",
          "name": "stdout",
          "text": [
            "['<b>', '</b>', '<table>', '<tr>', '</tr>', '</table>']\n"
          ]
        }
      ]
    },
    {
      "cell_type": "code",
      "source": [
        "#Search for a sequence that starts with \"he\", followed by 1 or more (any) characters, and an \"o\":\n",
        "txt = \"hello planet hello\"\n",
        "x = re.findall(\"he.+o\", txt)\n",
        "print(x)\n",
        "\n",
        "# Usando um quantificador não-guloso (+?), para casar apenas com o primeiro hello\n",
        "x = re.findall(\"he.+?o\", txt)\n",
        "print(x)"
      ],
      "metadata": {
        "colab": {
          "base_uri": "https://localhost:8080/"
        },
        "id": "6cIPdKACVaMi",
        "outputId": "ee7c0f80-f0c4-4f75-9d9b-b6e2cfd95498"
      },
      "execution_count": null,
      "outputs": [
        {
          "output_type": "stream",
          "name": "stdout",
          "text": [
            "['hello planet hello']\n",
            "['hello', 'hello']\n"
          ]
        }
      ]
    },
    {
      "cell_type": "markdown",
      "source": [
        "## Chaves `{n,m}`\n",
        "\n",
        "Exactly the specified number of occurrences"
      ],
      "metadata": {
        "id": "4aNVPGo3WOPj"
      }
    },
    {
      "cell_type": "code",
      "source": [
        "# Search for a sequence that starts with \"bandeira\",\n",
        "# followed by any caracter \".\" zero or any times \"{0,}\"\n",
        "# Note que nesse exemplo não consigo casar as 3 palavras separadamente\n",
        "txt = \"bandeirante bandeira bandeiras\"\n",
        "x = re.findall(r\"bandeira.{0,}\", txt)\n",
        "print(x)\n",
        "\n",
        "# Utilizando modificador não-guloso ({n,m}?), consigo casar as 3 palavras separadamente\n",
        "txt = \"bandeirante bandeira bandeiras\"\n",
        "x = re.findall(r\"bandeira.{0,}?\", txt)\n",
        "print(x)\n",
        "\n",
        "# o \\b ajuda a casar a palavra inteira\n",
        "txt = \"bandeirante bandeira bandeiras\"\n",
        "x = re.findall(r\"bandeira.{0,}?\\b\", txt)\n",
        "print(x)"
      ],
      "metadata": {
        "colab": {
          "base_uri": "https://localhost:8080/"
        },
        "id": "CJy6E7hcWRMK",
        "outputId": "76a8907b-f6ce-4d0c-c4bd-cd85b07c2ed0"
      },
      "execution_count": null,
      "outputs": [
        {
          "output_type": "stream",
          "name": "stdout",
          "text": [
            "['bandeirante bandeira bandeiras']\n",
            "['bandeira', 'bandeira', 'bandeira']\n",
            "['bandeirante', 'bandeira', 'bandeiras']\n"
          ]
        }
      ]
    },
    {
      "cell_type": "code",
      "source": [
        "txt = \"1 10 100 1000 10000\"\n",
        "x = re.findall(\"10{0,3}\", txt)\n",
        "print(x)\n",
        "\n",
        "x = re.findall(\"10{3}\", txt)\n",
        "print(x)\n",
        "\n",
        "x = re.findall(\"10{0,}\", txt) # mesmo efeito de 10*\n",
        "print(x)\n",
        "\n",
        "x = re.findall(\"10{0,1}\", txt) # mesmo efeito de 10?\n",
        "print(x)\n",
        "\n",
        "x = re.findall(\"10{1,}\", txt) # mesmo efeito de 10+\n",
        "print(x)"
      ],
      "metadata": {
        "colab": {
          "base_uri": "https://localhost:8080/"
        },
        "outputId": "84d25da3-1dd5-47d5-a186-d1fca86247c5",
        "id": "wdPiUsKhH0OE"
      },
      "execution_count": null,
      "outputs": [
        {
          "output_type": "stream",
          "name": "stdout",
          "text": [
            "['1', '10', '100', '1000', '1000']\n",
            "['1000', '1000']\n",
            "['1', '10', '100', '1000', '10000']\n",
            "['1', '10', '10', '10', '10']\n",
            "['10', '100', '1000', '10000']\n"
          ]
        }
      ]
    },
    {
      "cell_type": "markdown",
      "source": [
        "## Starts with `^`\n",
        "\n",
        "The diference between ^ x \\A is that ^ can match in every new line, in the other hand \\A only match at the begining of the string.\n",
        "\n"
      ],
      "metadata": {
        "id": "7geTIkRFUDC5"
      }
    },
    {
      "cell_type": "code",
      "source": [
        "txt = \"The rain in Spain.\"\n",
        "x = re.findall(r\"^The\", txt)\n",
        "print(x)\n",
        "\n",
        "txt = \"The rain in Spain\\nThe sun in Spain\"\n",
        "x = re.findall(r\"^The\", txt, re.MULTILINE)\n",
        "print(x)"
      ],
      "metadata": {
        "colab": {
          "base_uri": "https://localhost:8080/"
        },
        "id": "B7_YS0HEUEib",
        "outputId": "c4d1f628-e93f-4e9d-a3ed-6825dc80a954"
      },
      "execution_count": null,
      "outputs": [
        {
          "output_type": "stream",
          "name": "stdout",
          "text": [
            "['The']\n",
            "['The', 'The']\n"
          ]
        }
      ]
    },
    {
      "cell_type": "code",
      "source": [
        "txt = \"1 essa linha começa com digitos.\\nEssa não começa com digitos.\"\n",
        "x = re.findall(r\"^[0-9]\", txt, re.MULTILINE)\n",
        "print(x)\n",
        "\n",
        "x = re.findall(r\"^[^0-9]\", txt, re.MULTILINE)\n",
        "print(x)"
      ],
      "metadata": {
        "colab": {
          "base_uri": "https://localhost:8080/"
        },
        "id": "BR4yW4g3Jxsq",
        "outputId": "72cbf954-ee4a-4c6b-e8fa-073a322cf581"
      },
      "execution_count": null,
      "outputs": [
        {
          "output_type": "stream",
          "name": "stdout",
          "text": [
            "['1']\n",
            "['E']\n"
          ]
        }
      ]
    },
    {
      "cell_type": "markdown",
      "source": [
        "## Ends with `$`\n",
        "\n",
        "The diference between `$` x `\\Z` is that $ can match in every new line, in the other hand `\\Z` only match in the end of the string."
      ],
      "metadata": {
        "id": "d2zwz8prUgVa"
      }
    },
    {
      "cell_type": "code",
      "source": [
        "txt = \"The rain in Spain\"\n",
        "x = re.findall(r\"Spain$\", txt)\n",
        "print(x)\n",
        "\n",
        "txt = \"The rain in Spain\\nThe sun in Spain\"\n",
        "x = re.findall(r\"Spain$\", txt, re.MULTILINE)\n",
        "print(x)"
      ],
      "metadata": {
        "colab": {
          "base_uri": "https://localhost:8080/"
        },
        "id": "2pUMr__3Uf8h",
        "outputId": "0e80d4f2-287f-48d4-f022-c1373eb0f829"
      },
      "execution_count": null,
      "outputs": [
        {
          "output_type": "stream",
          "name": "stdout",
          "text": [
            "['Spain']\n",
            "['Spain', 'Spain']\n"
          ]
        }
      ]
    },
    {
      "cell_type": "code",
      "source": [
        "txt = \"Essa linha termina com digitos 9\\nEssa não termina com digitos.\"\n",
        "x = re.findall(r\"[0-9]$\", txt, re.MULTILINE)\n",
        "print(x)\n",
        "\n",
        "x = re.findall(r\"[^0-9]$\", txt, re.MULTILINE)\n",
        "print(x)"
      ],
      "metadata": {
        "colab": {
          "base_uri": "https://localhost:8080/"
        },
        "id": "pQFVxTpFKpAN",
        "outputId": "5f36fbfe-557a-4ece-e297-9ced218ec870"
      },
      "execution_count": null,
      "outputs": [
        {
          "output_type": "stream",
          "name": "stdout",
          "text": [
            "['9']\n",
            "['.']\n"
          ]
        }
      ]
    },
    {
      "cell_type": "markdown",
      "source": [
        "## Juntando `^` e `$`"
      ],
      "metadata": {
        "id": "wdo1ZEW2LJXS"
      }
    },
    {
      "cell_type": "code",
      "source": [
        "# Busca por linha vazia\n",
        "txt = \"\\nSegunda linha\"\n",
        "x = re.findall(r\"^$\", txt, re.MULTILINE)\n",
        "print(x)"
      ],
      "metadata": {
        "colab": {
          "base_uri": "https://localhost:8080/"
        },
        "id": "UQUy6y4XK7M7",
        "outputId": "fb7b550a-d52d-40e6-d0b5-795e9a7bd5ca"
      },
      "execution_count": null,
      "outputs": [
        {
          "output_type": "stream",
          "name": "stdout",
          "text": [
            "['']\n"
          ]
        }
      ]
    },
    {
      "cell_type": "code",
      "source": [
        "# linhas que tenham entre 20 e 60\n",
        "txt = \"Linha pequena\\nLinha grannnnnnnnnnde\"\n",
        "x = re.findall(r\"^.{20,60}$\", txt, re.MULTILINE)\n",
        "print(x)"
      ],
      "metadata": {
        "colab": {
          "base_uri": "https://localhost:8080/"
        },
        "id": "IZIUTDoRLT_Q",
        "outputId": "204235f3-b1b0-408d-8a5e-28db5c06940a"
      },
      "execution_count": null,
      "outputs": [
        {
          "output_type": "stream",
          "name": "stdout",
          "text": [
            "['Linha grannnnnnnnnnde']\n"
          ]
        }
      ]
    },
    {
      "cell_type": "markdown",
      "source": [
        "## Either or `|`"
      ],
      "metadata": {
        "id": "hODizMwxWk6U"
      }
    },
    {
      "cell_type": "code",
      "source": [
        "txt = \"Boa tarde!\"\n",
        "x = re.findall(\"tarde|noite\", txt)\n",
        "print(x)"
      ],
      "metadata": {
        "colab": {
          "base_uri": "https://localhost:8080/"
        },
        "id": "2hpUhJUzWm3y",
        "outputId": "fcde6a26-b3c4-427b-c0d3-3047ea6fa1f2"
      },
      "execution_count": null,
      "outputs": [
        {
          "output_type": "stream",
          "name": "stdout",
          "text": [
            "['tarde']\n"
          ]
        }
      ]
    },
    {
      "cell_type": "markdown",
      "source": [
        "## Group `()`\n",
        "\n",
        "Precisa mais estudo para usar de maneira mais útil"
      ],
      "metadata": {
        "id": "bIpzmuFcPMo_"
      }
    },
    {
      "cell_type": "code",
      "source": [
        "txt = \"boa-tarde!\"\n",
        "x = re.search(r\"boa-(tarde|noite)\", txt)\n",
        "print(x.group())\n",
        "\n",
        "x = re.findall(r\"boa-(tarde|noite)\", txt)\n",
        "print(x)"
      ],
      "metadata": {
        "colab": {
          "base_uri": "https://localhost:8080/"
        },
        "id": "AzhY1ODMPMUh",
        "outputId": "4c295c11-cdf3-4901-f776-f245595cf9f9"
      },
      "execution_count": null,
      "outputs": [
        {
          "output_type": "stream",
          "name": "stdout",
          "text": [
            "boa-tarde\n",
            "['tarde']\n"
          ]
        }
      ]
    },
    {
      "cell_type": "code",
      "source": [
        "txt = \"incerto, concerto, certo\"\n",
        "x = re.search(r\"(in|con)?certo\", txt)\n",
        "print(x.group())\n",
        "\n",
        "x = re.findall(r\"(in|con)?certo\", txt)\n",
        "print(x)"
      ],
      "metadata": {
        "colab": {
          "base_uri": "https://localhost:8080/"
        },
        "id": "YWGi6Y86QCgw",
        "outputId": "0059d424-c5f0-469e-bdd8-d30e4e091a8b"
      },
      "execution_count": null,
      "outputs": [
        {
          "output_type": "stream",
          "name": "stdout",
          "text": [
            "('in',)\n",
            "['in', 'con', '']\n"
          ]
        }
      ]
    },
    {
      "cell_type": "code",
      "source": [
        "txt = \"mercado, supermercado, hipermercado, minimercado\"\n",
        "x = re.search(r\"(mini|(su|hi)per)?mercado\", txt)\n",
        "print(x.group())\n",
        "\n",
        "x = re.findall(r\"(mini|(su|hi)per)?mercado\", txt)\n",
        "print(x)"
      ],
      "metadata": {
        "colab": {
          "base_uri": "https://localhost:8080/"
        },
        "id": "SB3G5OLjT82o",
        "outputId": "3c8d85e0-f15e-4afd-cab4-782f8d62f40d"
      },
      "execution_count": null,
      "outputs": [
        {
          "output_type": "stream",
          "name": "stdout",
          "text": [
            "mercado\n",
            "[('', ''), ('super', 'su'), ('hiper', 'hi'), ('mini', '')]\n"
          ]
        }
      ]
    },
    {
      "cell_type": "markdown",
      "source": [
        "## Escape `\\`"
      ],
      "metadata": {
        "id": "P_LawLROSqim"
      }
    },
    {
      "cell_type": "code",
      "source": [
        "# Search for dot\n",
        "txt = \"The rain in Spain.\"\n",
        "\n",
        "x = re.findall(r\"\\.\", txt)\n",
        "print(x)"
      ],
      "metadata": {
        "colab": {
          "base_uri": "https://localhost:8080/"
        },
        "id": "fbRbCTH3TPtP",
        "outputId": "88bf2bbd-2773-4e1f-a814-9ea956e41c63"
      },
      "execution_count": null,
      "outputs": [
        {
          "output_type": "stream",
          "name": "stdout",
          "text": [
            "['.']\n"
          ]
        }
      ]
    },
    {
      "cell_type": "code",
      "source": [
        "txt = \"Meu CPF é:026.406.089-08, sacou?\"\n",
        "x = re.findall(r\"[0-9]{3}\\.[0-9]{3}\\.[0-9]{3}-[0-9]{2}\", txt)\n",
        "print(x)"
      ],
      "metadata": {
        "colab": {
          "base_uri": "https://localhost:8080/"
        },
        "id": "1r1uaFkQN6MV",
        "outputId": "fb424b30-edf9-4862-8fbb-846d9ee9875a"
      },
      "execution_count": null,
      "outputs": [
        {
          "output_type": "stream",
          "name": "stdout",
          "text": [
            "['026.406.089-08']\n"
          ]
        }
      ]
    },
    {
      "cell_type": "markdown",
      "source": [
        "## Special Sequences"
      ],
      "metadata": {
        "id": "t2LQS-0yWyTz"
      }
    },
    {
      "cell_type": "markdown",
      "source": [
        "\\b\n",
        "\n",
        "Returns a match where the specified characters are at the beginning or at the end of a word.\n",
        "\n",
        "Word = [A-Za-z0-9_]\n"
      ],
      "metadata": {
        "id": "JSc6yRO2XqPn"
      }
    },
    {
      "cell_type": "code",
      "source": [
        "txt = \"Bom-dia! Ouça essa linda melodia!\"\n",
        "\n",
        "#Check if \"dia\" is present at the beginning of a word:\n",
        "x = re.findall(r\"\\bdia\", txt)\n",
        "print(x)\n",
        "\n",
        "#Check if \"dia\" is present at the end of a word:\n",
        "x = re.findall(r\"dia\\b\", txt)\n",
        "print(x)\n",
        "\n",
        "x = re.findall(r\"\\bdia\\b\", txt)\n",
        "print(x)"
      ],
      "metadata": {
        "colab": {
          "base_uri": "https://localhost:8080/"
        },
        "id": "dThxSTMgXuC4",
        "outputId": "15f74c66-63c4-431a-a51b-20b79266d89d"
      },
      "execution_count": null,
      "outputs": [
        {
          "output_type": "stream",
          "name": "stdout",
          "text": [
            "['dia']\n",
            "['dia', 'dia']\n",
            "['dia']\n"
          ]
        }
      ]
    },
    {
      "cell_type": "code",
      "source": [
        "# Search for a sequence that starts with \"bandeira\",\n",
        "# followed by any caracter \".\" zero or any times \"{0,}\" until the end of the word \"\\b\"\n",
        "txt = \"bandeirante bandeira bandeiras\"\n",
        "x = re.findall(r\"bandeira(?#isso é um comentario).{0,}?\\b\", txt)\n",
        "print(x)"
      ],
      "metadata": {
        "colab": {
          "base_uri": "https://localhost:8080/"
        },
        "id": "9NKW5Q-QnBVE",
        "outputId": "f1a54f44-4f07-4dfc-98c6-489e89061fcc"
      },
      "execution_count": null,
      "outputs": [
        {
          "output_type": "stream",
          "name": "stdout",
          "text": [
            "['bandeirante', 'bandeira', 'bandeiras']\n"
          ]
        }
      ]
    },
    {
      "cell_type": "markdown",
      "source": [
        "\\B\n",
        "\n",
        "Returns a match where the specified characters are present, but NOT at the beginning (or at the end) of a word"
      ],
      "metadata": {
        "id": "dRLG9oUTXN6u"
      }
    },
    {
      "cell_type": "code",
      "source": [
        "txt = \"The rain in Spain\"\n",
        "\n",
        "#Check if \"ain\" is present, but NOT at the beginning of a word:\n",
        "x = re.findall(r\"\\Bain\", txt)\n",
        "print(x)\n",
        "\n",
        "#Check if \"ain\" is present, but NOT at the end of a word:\n",
        "x = re.findall(r\"ain\\B\", txt)\n",
        "print(x)"
      ],
      "metadata": {
        "colab": {
          "base_uri": "https://localhost:8080/"
        },
        "id": "T1uLZxzeXNFO",
        "outputId": "f213f27e-e895-4c17-c3d0-785a60be417f"
      },
      "execution_count": null,
      "outputs": [
        {
          "output_type": "stream",
          "name": "stdout",
          "text": [
            "['ain', 'ain']\n",
            "[]\n"
          ]
        }
      ]
    },
    {
      "cell_type": "markdown",
      "source": [
        "\\d\n",
        "\n",
        "Returns a match where the string contains digits (numbers from 0-9)"
      ],
      "metadata": {
        "id": "uygFIZl8YJfU"
      }
    },
    {
      "cell_type": "code",
      "source": [
        "txt = \"The rain in Spain\"\n",
        "\n",
        "#Check if the string contains any digits (numbers from 0-9):\n",
        "x = re.findall(\"\\d\", txt)\n",
        "print(x)"
      ],
      "metadata": {
        "colab": {
          "base_uri": "https://localhost:8080/"
        },
        "id": "d3i77KUbYpUz",
        "outputId": "809494c5-91cd-400e-c9bd-05986c755585"
      },
      "execution_count": null,
      "outputs": [
        {
          "output_type": "stream",
          "name": "stdout",
          "text": [
            "[]\n"
          ]
        }
      ]
    },
    {
      "cell_type": "code",
      "source": [
        "txt = \"Meu CPF é:026.406.089-08, sacou?\"\n",
        "x = re.findall(r\"\\d{3}\\.\\d{3}\\.\\d{3}-\\d{2}\", txt)\n",
        "print(x)"
      ],
      "metadata": {
        "colab": {
          "base_uri": "https://localhost:8080/"
        },
        "id": "rUP4mBtojKcz",
        "outputId": "41a338e6-8718-447b-f2c4-b3d7098ec020"
      },
      "execution_count": null,
      "outputs": [
        {
          "output_type": "stream",
          "name": "stdout",
          "text": [
            "['026.406.089-08']\n"
          ]
        }
      ]
    },
    {
      "cell_type": "markdown",
      "source": [
        "\\D\n",
        "\n",
        "Returns a match where the string DOES NOT contain digits"
      ],
      "metadata": {
        "id": "-slHu6O8YQl8"
      }
    },
    {
      "cell_type": "code",
      "source": [
        "txt = \"The rain in Spain\"\n",
        "\n",
        "#Return a match at every NON DIGIT character\n",
        "x = re.findall(\"\\D\", txt)\n",
        "print(x)"
      ],
      "metadata": {
        "colab": {
          "base_uri": "https://localhost:8080/"
        },
        "id": "noFHn1jyYxdw",
        "outputId": "9955c33c-c112-411d-bb63-ca2b17bd3cd6"
      },
      "execution_count": null,
      "outputs": [
        {
          "output_type": "stream",
          "name": "stdout",
          "text": [
            "['T', 'h', 'e', ' ', 'r', 'a', 'i', 'n', ' ', 'i', 'n', ' ', 'S', 'p', 'a', 'i', 'n']\n"
          ]
        }
      ]
    },
    {
      "cell_type": "markdown",
      "source": [
        "\\s\n",
        "\n",
        "Returns a match where the string contains a white space character"
      ],
      "metadata": {
        "id": "SnJyPoeUYV6v"
      }
    },
    {
      "cell_type": "code",
      "source": [
        "txt = \"The rain in Spain\"\n",
        "\n",
        "#Check if the string contains any space:\n",
        "x = re.findall(\"\\s\", txt)\n",
        "print(x)"
      ],
      "metadata": {
        "colab": {
          "base_uri": "https://localhost:8080/"
        },
        "id": "VUiVH2I7Y2yQ",
        "outputId": "ba31c3de-096c-4f36-b2fe-2d6fa15d9f05"
      },
      "execution_count": null,
      "outputs": [
        {
          "output_type": "stream",
          "name": "stdout",
          "text": [
            "[' ', ' ', ' ']\n"
          ]
        }
      ]
    },
    {
      "cell_type": "markdown",
      "source": [
        "\\S\n",
        "\n",
        "Returns a match where the string DOES NOT contain a white space character"
      ],
      "metadata": {
        "id": "dep3wjmRYWtz"
      }
    },
    {
      "cell_type": "code",
      "source": [
        "txt = \"The rain in Spain\"\n",
        "\n",
        "#Return a match at every NON white-space character\n",
        "x = re.findall(\"\\S\", txt)\n",
        "print(x)"
      ],
      "metadata": {
        "colab": {
          "base_uri": "https://localhost:8080/"
        },
        "id": "ZQAaqHcLZBGp",
        "outputId": "d4f4e90b-ffba-4dca-f4a6-71906707c603"
      },
      "execution_count": null,
      "outputs": [
        {
          "output_type": "stream",
          "name": "stdout",
          "text": [
            "['T', 'h', 'e', 'r', 'a', 'i', 'n', 'i', 'n', 'S', 'p', 'a', 'i', 'n']\n"
          ]
        }
      ]
    },
    {
      "cell_type": "markdown",
      "source": [
        "\\w\n",
        "\n",
        "Returns a match where the string contains any word characters (characters from a to Z, digits from 0-9, and the underscore _ character)"
      ],
      "metadata": {
        "id": "1OcUy2GxYXWc"
      }
    },
    {
      "cell_type": "code",
      "source": [
        "txt = \"The rain in Spain\"\n",
        "\n",
        "x = re.findall(\"\\w\", txt)\n",
        "print(x)"
      ],
      "metadata": {
        "colab": {
          "base_uri": "https://localhost:8080/"
        },
        "id": "86wSDL0QZWwc",
        "outputId": "9148e042-0d9a-4126-a5b3-56f9c2b944d1"
      },
      "execution_count": null,
      "outputs": [
        {
          "output_type": "stream",
          "name": "stdout",
          "text": [
            "['T', 'h', 'e', 'r', 'a', 'i', 'n', 'i', 'n', 'S', 'p', 'a', 'i', 'n']\n"
          ]
        }
      ]
    },
    {
      "cell_type": "markdown",
      "source": [
        "\\W\n",
        "\n",
        "Returns a match where the string DOES NOT contain any word characters"
      ],
      "metadata": {
        "id": "CxlAKN13YX3Q"
      }
    },
    {
      "cell_type": "code",
      "source": [
        "txt = \"The rain in Spain\"\n",
        "\n",
        "x = re.findall(\"\\W\", txt)\n",
        "print(x)"
      ],
      "metadata": {
        "colab": {
          "base_uri": "https://localhost:8080/"
        },
        "id": "HnSYkXizZelB",
        "outputId": "4dd0c24f-5c05-47c3-a6a1-f638d90b682f"
      },
      "execution_count": null,
      "outputs": [
        {
          "output_type": "stream",
          "name": "stdout",
          "text": [
            "[' ', ' ', ' ']\n"
          ]
        }
      ]
    },
    {
      "cell_type": "markdown",
      "source": [
        "\\A\n",
        "\n",
        "Returns a match if the specified characters are at the beginning of the string\n",
        "\n",
        "The diference between ^ x \\A is that ^ can match in every new line, in the other hand \\A only match at the begining of the string."
      ],
      "metadata": {
        "id": "rmnC5taDXGPc"
      }
    },
    {
      "cell_type": "code",
      "source": [
        "#Check if the string starts with \"The\":\n",
        "txt = \"The rain in Spain\"\n",
        "\n",
        "x = re.findall(\"\\AThe\", txt)\n",
        "print(x)\n",
        "\n",
        "\n",
        "txt = \"The rain in Spain\\nThe sun in the Spain\"\n",
        "\n",
        "x = re.findall(\"\\AThe\", txt, re.MULTILINE)\n",
        "print(x)"
      ],
      "metadata": {
        "colab": {
          "base_uri": "https://localhost:8080/"
        },
        "id": "t72WZOjyW4Vn",
        "outputId": "fc3bcb22-2645-4d05-a551-9b704fddf9f9"
      },
      "execution_count": null,
      "outputs": [
        {
          "output_type": "stream",
          "name": "stdout",
          "text": [
            "['The']\n",
            "['The']\n"
          ]
        }
      ]
    },
    {
      "cell_type": "markdown",
      "source": [
        "\\Z\n",
        "\n",
        "Returns a match if the specified characters are at the end of the string\n",
        "\n",
        "The diference between `$` x `\\Z` is that $ can match in every new line, in the other hand `\\Z` only match in the end of the string."
      ],
      "metadata": {
        "id": "b55pntAsYZm_"
      }
    },
    {
      "cell_type": "code",
      "source": [
        "txt = \"The rain in Spain\"\n",
        "\n",
        "#Check if the string ends with \"Spain\":\n",
        "x = re.search(\"Spain\\Z\", txt)\n",
        "print(x.end())\n",
        "\n",
        "txt = \"The rain in Spain\\nThe sun in Spain\"\n",
        "\n",
        "x = re.search(r\"Spain\\Z\", txt, re.MULTILINE)\n",
        "print(x.end())"
      ],
      "metadata": {
        "colab": {
          "base_uri": "https://localhost:8080/"
        },
        "id": "77WIIe0zZodm",
        "outputId": "010c53fc-3cc9-4b55-d863-d0ac8b25182d"
      },
      "execution_count": null,
      "outputs": [
        {
          "output_type": "stream",
          "name": "stdout",
          "text": [
            "17\n",
            "34\n"
          ]
        }
      ]
    },
    {
      "cell_type": "markdown",
      "source": [
        "## Retrovisor\n",
        "\n",
        "O retrovisor é uma referência ao texto casado do grupo"
      ],
      "metadata": {
        "id": "xctwo0KoXjDq"
      }
    },
    {
      "cell_type": "code",
      "source": [
        "txt = \"quero-quero\"\n",
        "\n",
        "x = re.findall(r\"(quero)-\\1\", txt)\n",
        "print(x)\n",
        "\n",
        "x = re.search(r\"(quero)-\\1\", txt)\n",
        "print(x.group())"
      ],
      "metadata": {
        "colab": {
          "base_uri": "https://localhost:8080/"
        },
        "id": "6BdxsP_IXkyk",
        "outputId": "ce444381-3816-4fb9-d1a0-bdd845b174f1"
      },
      "execution_count": null,
      "outputs": [
        {
          "output_type": "stream",
          "name": "stdout",
          "text": [
            "['quero']\n",
            "quero-quero\n"
          ]
        }
      ]
    },
    {
      "cell_type": "code",
      "source": [
        "# Caça palavras repetidas, com ou sem espaço ou traço entre elas\n",
        "txt = \"dia-dia noite-noite quero-quero bombom lulu dia dia\"\n",
        "\n",
        "x = re.findall(r\"\\b([A-Za-z]+)[- ]?\\1\\b\", txt)\n",
        "print(x)\n",
        "\n",
        "x = re.search(r\"([A-Za-z]+)[- ]?\\1\", txt)\n",
        "print(x.group())"
      ],
      "metadata": {
        "colab": {
          "base_uri": "https://localhost:8080/"
        },
        "id": "KIAN4ibDYS-V",
        "outputId": "60c345e2-d91a-43c9-b0a6-7cf226d435ba"
      },
      "execution_count": null,
      "outputs": [
        {
          "output_type": "stream",
          "name": "stdout",
          "text": [
            "['dia', 'noite', 'quero', 'bom', 'lu', 'dia']\n",
            "dia-dia\n"
          ]
        }
      ]
    },
    {
      "cell_type": "code",
      "source": [
        "txt = \"bandeirante bandeira banda\"\n",
        "x = re.findall(r\"((band)eira)nte \\1 \\2a\", txt)\n",
        "print(x)\n",
        "\n",
        "x = re.search(r\"((band)eira)nte \\1 \\2\", txt)\n",
        "print(x.group())"
      ],
      "metadata": {
        "colab": {
          "base_uri": "https://localhost:8080/"
        },
        "id": "d8BkqZAKZdFl",
        "outputId": "a072c053-9c64-43e0-c933-35af11a22565"
      },
      "execution_count": null,
      "outputs": [
        {
          "output_type": "stream",
          "name": "stdout",
          "text": [
            "[('bandeira', 'band')]\n",
            "bandeirante bandeira band\n"
          ]
        }
      ]
    },
    {
      "cell_type": "markdown",
      "source": [
        "# Metacaracteres Avançados"
      ],
      "metadata": {
        "id": "e1C7Tr-9kXWO"
      }
    },
    {
      "cell_type": "markdown",
      "source": [
        "### `(?#texto)`\n",
        "\n",
        "Comentário dentro da regex"
      ],
      "metadata": {
        "id": "JqeGiJxylLb8"
      }
    },
    {
      "cell_type": "code",
      "source": [
        "# Search for a sequence that starts with \"bandeira\",\n",
        "# followed by any caracter \".\" zero or any times \"{0,}\" until the end of the word \"\\b\"\n",
        "txt = \"bandeirante bandeira bandeiras\"\n",
        "x = re.findall(r\"bandeira(?#isso é um comentario).{0,}?\\b\", txt)\n",
        "print(x)"
      ],
      "metadata": {
        "colab": {
          "base_uri": "https://localhost:8080/"
        },
        "id": "iPtViUu4kbNQ",
        "outputId": "6057309c-bc49-4e1d-9ddd-4ab3ccf17c48"
      },
      "execution_count": null,
      "outputs": [
        {
          "output_type": "stream",
          "name": "stdout",
          "text": [
            "['bandeirante', 'bandeira', 'bandeiras']\n"
          ]
        }
      ]
    },
    {
      "cell_type": "markdown",
      "source": [
        "### `(?:ER)`\n",
        "\n",
        "É como um grupo normal () só que não é guardado nem incluído na contagem de grupos, ou seja, não é acessível com retrovisores"
      ],
      "metadata": {
        "id": "u4vKzPOsnKTi"
      }
    },
    {
      "cell_type": "code",
      "source": [
        "# Sem o metacaracter\n",
        "txt = \"Homer J. Simpson\"\n",
        "x = re.findall(r\"^(Homer) (J\\.) (Simpson)\", txt)\n",
        "print(x)\n",
        "\n",
        "# Com metacaracter - note que ao imprimir o resultado o grupo do J. não aparece\n",
        "txt = \"Homer J. Simpson\"\n",
        "x = re.findall(r\"^(Homer) (?:J\\.) (Simpson)\", txt)\n",
        "print(x)"
      ],
      "metadata": {
        "colab": {
          "base_uri": "https://localhost:8080/"
        },
        "id": "UoP_SPBXncKF",
        "outputId": "00367a43-6fc4-49bb-dc03-6513694e6fe8"
      },
      "execution_count": null,
      "outputs": [
        {
          "output_type": "stream",
          "name": "stdout",
          "text": [
            "[('Homer', 'J.', 'Simpson')]\n",
            "[('Homer', 'Simpson')]\n"
          ]
        }
      ]
    },
    {
      "cell_type": "markdown",
      "source": [
        "### `(?=ER)`\n",
        "\n",
        "Não casa caracteres na posição atual, mas dá uma \"espiada\" adiante e caso a ER embutida case, retorna sucesso.\n",
        "\n",
        "Por exemplo a ER Homer (?=Simpson) só casará o Homer se for seguido de Simpson. Mas o sobrenome não faz parte do trecho casado, serviu apenas para checagem"
      ],
      "metadata": {
        "id": "vUDZwAieoHfF"
      }
    },
    {
      "cell_type": "code",
      "source": [
        "# Sem o metacaracter\n",
        "txt = \"Homer Simpson\"\n",
        "x = re.findall(r\"Homer (Simpson)\", txt)\n",
        "print(x)\n",
        "\n",
        "# Com metacaracter\n",
        "txt = \"Homer Simpson\"\n",
        "x = re.findall(r\"Homer (?=Simpson)\", txt)\n",
        "print(x)"
      ],
      "metadata": {
        "colab": {
          "base_uri": "https://localhost:8080/"
        },
        "id": "uTdIwlg3oH5-",
        "outputId": "4d46ab98-d5c6-4025-97be-d4e4c1a899c3"
      },
      "execution_count": null,
      "outputs": [
        {
          "output_type": "stream",
          "name": "stdout",
          "text": [
            "['Simpson']\n",
            "['Homer ']\n"
          ]
        }
      ]
    },
    {
      "cell_type": "markdown",
      "source": [
        "### `(?!ER)`\n",
        "\n",
        "É o contrário do anterior, só casando um trecho se este não for seguido da ER embutida. Então Homer (?!morreu) casa o Homer do texto Homer comeu, mas não do Homer morreu"
      ],
      "metadata": {
        "id": "-dzVWSdejQU3"
      }
    },
    {
      "cell_type": "code",
      "source": [
        "# Sem o metacaracter\n",
        "txt = \"Homer comeu\"\n",
        "x = re.findall(r\"Homer (morreu)\", txt)\n",
        "print(x)\n",
        "\n",
        "# Com metacaracter\n",
        "txt = \"Homer comeu\"\n",
        "x = re.findall(r\"Homer (?!morreu)\", txt)\n",
        "print(x)"
      ],
      "metadata": {
        "colab": {
          "base_uri": "https://localhost:8080/"
        },
        "id": "W25uSSFWjP5B",
        "outputId": "e6bfd22f-6252-4564-e3e2-f97ad6f9ea47"
      },
      "execution_count": null,
      "outputs": [
        {
          "output_type": "stream",
          "name": "stdout",
          "text": [
            "[]\n",
            "['Homer ']\n"
          ]
        }
      ]
    },
    {
      "cell_type": "markdown",
      "source": [
        "### `(?<=ER)`\n",
        "\n",
        "Espia para trás (note o < apontando para a esquerda). Então (?<=Homer) Simpson casará Simpson em Homer Simpson, mas não em Bart Simpson\n"
      ],
      "metadata": {
        "id": "aMCmDPJ5kCsy"
      }
    },
    {
      "cell_type": "code",
      "source": [
        "# Sem o metacaracter\n",
        "txt = \"Homer Simpson\"\n",
        "x = re.findall(r\"Homer (Simpson)\", txt)\n",
        "print(x)\n",
        "\n",
        "# Com metacaracter\n",
        "txt = \"Homer Simpson\"\n",
        "x = re.findall(r\"(?<=Homer) Simpson\", txt)\n",
        "print(x)\n",
        "\n",
        "# Com metacaracter\n",
        "txt = \"Bart Simpson\"\n",
        "x = re.findall(r\"(?<=Homer) Simpson\", txt)\n",
        "print(x)"
      ],
      "metadata": {
        "colab": {
          "base_uri": "https://localhost:8080/"
        },
        "id": "w7PLLy2tkDDM",
        "outputId": "f126adcf-d21e-4120-d604-cd6951108217"
      },
      "execution_count": null,
      "outputs": [
        {
          "output_type": "stream",
          "name": "stdout",
          "text": [
            "['Simpson']\n",
            "[' Simpson']\n",
            "[]\n"
          ]
        }
      ]
    },
    {
      "cell_type": "markdown",
      "source": [
        "### `(?<!ER)`\n",
        "\n",
        "Espia para trás (note o < apontando para a esquerda). Então (?<!Homer) Simpson casará Simpson em Bart Simpson, mas não em Homer Simpson"
      ],
      "metadata": {
        "id": "2kgNhoXkkD8Z"
      }
    },
    {
      "cell_type": "code",
      "source": [
        "# Sem o metacaracter\n",
        "txt = \"Homer Simpson\"\n",
        "x = re.findall(r\"Homer (Simpson)\", txt)\n",
        "print(x)\n",
        "\n",
        "# Com metacaracter\n",
        "txt = \"Homer Simpson\"\n",
        "x = re.findall(r\"(?<!Homer) Simpson\", txt)\n",
        "print(x)\n",
        "\n",
        "# Com metacaracter\n",
        "txt = \"Bart Simpson\"\n",
        "x = re.findall(r\"(?<!Homer) Simpson\", txt)\n",
        "print(x)"
      ],
      "metadata": {
        "colab": {
          "base_uri": "https://localhost:8080/"
        },
        "id": "M4lX1R-UkEge",
        "outputId": "48053fdb-5f7d-4a56-955d-ac0ba7b85584"
      },
      "execution_count": null,
      "outputs": [
        {
          "output_type": "stream",
          "name": "stdout",
          "text": [
            "['Simpson']\n",
            "[]\n",
            "[' Simpson']\n"
          ]
        }
      ]
    },
    {
      "cell_type": "markdown",
      "source": [
        "### `(?modificador i,m,s,x,L)`\n",
        "\n",
        "Pode-se \"configurar\" uma parte da ER precedendo-a com esta construção, e modificador pode ser um único caractere, entre:\n",
        "\n",
        "* **i**: ignorar a diferença entre maiúsculas e minúsculas;\n",
        "* **m**: trata o texto como multilinha;\n",
        "* **s**: trata o texto como uma única linha;\n",
        "* **x**: permite inclusão de espaços e comentários;\n",
        "* **L**: levar em conta a localização do sistema (somente Python).\n"
      ],
      "metadata": {
        "id": "gUtCHSc7maIe"
      }
    },
    {
      "cell_type": "code",
      "source": [
        "# Perform case-insensitive matching | mesmo que usar flag: re.IGNORECASE\n",
        "txt = \"Homer Simpson homer simpson HOMER\"\n",
        "x = re.findall(r\"(?i)Homer\", txt)\n",
        "print(x)\n",
        "\n",
        "x = re.findall(r\"Homer\", txt, re.IGNORECASE)\n",
        "print(x)\n"
      ],
      "metadata": {
        "colab": {
          "base_uri": "https://localhost:8080/"
        },
        "id": "iDca28aamyna",
        "outputId": "a269f131-0c78-4615-ef57-6cf66786b59e"
      },
      "execution_count": null,
      "outputs": [
        {
          "output_type": "stream",
          "name": "stdout",
          "text": [
            "['Homer', 'homer', 'HOMER']\n",
            "['Homer', 'homer', 'HOMER']\n"
          ]
        }
      ]
    },
    {
      "cell_type": "code",
      "source": [
        "# trata o texto como multilinha | mesmo que suar flag: re.MULTILINE\n",
        "txt = \"Homer Simpson\\nHOMER simpson\\nHomer\"\n",
        "x = re.findall(r\"(?m)^Homer\", txt)\n",
        "print(x)\n",
        "\n",
        "txt = \"Homer Simpson\\nHOMER simpson\\nHomer\"\n",
        "x = re.findall(r\"^Homer\", txt, re.MULTILINE)\n",
        "print(x)"
      ],
      "metadata": {
        "colab": {
          "base_uri": "https://localhost:8080/"
        },
        "id": "msecjnF1uOzY",
        "outputId": "7d2d6935-7c52-43ce-9194-85297530100c"
      },
      "execution_count": null,
      "outputs": [
        {
          "output_type": "stream",
          "name": "stdout",
          "text": [
            "['Homer', 'Homer']\n",
            "['Homer', 'Homer']\n"
          ]
        }
      ]
    },
    {
      "cell_type": "code",
      "source": [
        "# Trata o texto como uma única linha | mesmo que não colocar nada\n",
        "txt = \"Homer Simpson\\nHomer simpson\\nHOMER\"\n",
        "x = re.findall(r\"(?s)^Homer\", txt)\n",
        "print(x)\n",
        "\n",
        "txt = \"Homer Simpson\\nHomer simpson\\nHOMER\"\n",
        "x = re.findall(r\"^Homer\", txt)\n",
        "print(x)"
      ],
      "metadata": {
        "colab": {
          "base_uri": "https://localhost:8080/"
        },
        "id": "1zKl-M2duiG-",
        "outputId": "c8105807-b3a7-4d52-8f78-8a2359bb828b"
      },
      "execution_count": null,
      "outputs": [
        {
          "output_type": "stream",
          "name": "stdout",
          "text": [
            "['Homer']\n",
            "['Homer']\n"
          ]
        }
      ]
    },
    {
      "cell_type": "code",
      "source": [
        "# permite inclusão de espaços e comentários\n",
        "txt = \"Homer Simpson Homersimpson Homer\"\n",
        "x = re.findall(r\"(?x)Homer \", txt)\n",
        "print(x)"
      ],
      "metadata": {
        "colab": {
          "base_uri": "https://localhost:8080/"
        },
        "id": "-M0WCEdGvS6A",
        "outputId": "2ca5abc3-6025-4cf5-ffe7-80d0a631b675"
      },
      "execution_count": null,
      "outputs": [
        {
          "output_type": "stream",
          "name": "stdout",
          "text": [
            "['Homer', 'Homer', 'Homer']\n"
          ]
        }
      ]
    },
    {
      "cell_type": "markdown",
      "source": [
        "### Flags"
      ],
      "metadata": {
        "id": "6vqtuggmsfwO"
      }
    },
    {
      "cell_type": "code",
      "source": [
        "txt = \"Homer Simpson\\nHOMER simpson\\nHomer\"\n",
        "x = re.findall(r\"^Homer\", txt, re.MULTILINE)\n",
        "print(x)"
      ],
      "metadata": {
        "id": "Gixv1qCluWDE"
      },
      "execution_count": null,
      "outputs": []
    },
    {
      "cell_type": "code",
      "source": [
        "# Perform case-insensitive matching\n",
        "txt = \"Homer Simpson homer simpson HOMER\"\n",
        "x = re.findall(r\"Homer\", txt, re.IGNORECASE)\n",
        "print(x)"
      ],
      "metadata": {
        "id": "alDbPtY7sYAu"
      },
      "execution_count": null,
      "outputs": []
    }
  ]
}