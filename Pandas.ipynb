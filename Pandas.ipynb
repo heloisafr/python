{
  "nbformat": 4,
  "nbformat_minor": 0,
  "metadata": {
    "colab": {
      "provenance": [],
      "include_colab_link": true
    },
    "kernelspec": {
      "name": "python3",
      "display_name": "Python 3"
    },
    "language_info": {
      "name": "python"
    }
  },
  "cells": [
    {
      "cell_type": "markdown",
      "metadata": {
        "id": "view-in-github",
        "colab_type": "text"
      },
      "source": [
        "<a href=\"https://colab.research.google.com/github/heloisafr/python/blob/main/Pandas.ipynb\" target=\"_parent\"><img src=\"https://colab.research.google.com/assets/colab-badge.svg\" alt=\"Open In Colab\"/></a>"
      ]
    },
    {
      "cell_type": "code",
      "source": [
        "d = (123,['a','b'])\n",
        "d[-1].append('c')\n",
        "d"
      ],
      "metadata": {
        "colab": {
          "base_uri": "https://localhost:8080/"
        },
        "id": "ZVx4__cVD-Hj",
        "outputId": "723e10eb-bc81-4239-95d1-5cdcdbfe76a4"
      },
      "execution_count": null,
      "outputs": [
        {
          "output_type": "execute_result",
          "data": {
            "text/plain": [
              "(123, ['a', 'b', 'c'])"
            ]
          },
          "metadata": {},
          "execution_count": 6
        }
      ]
    },
    {
      "cell_type": "code",
      "metadata": {
        "id": "Mgkwgt2p3Ddf"
      },
      "source": [
        "import pandas as pd\n",
        "import numpy as np"
      ],
      "execution_count": null,
      "outputs": []
    },
    {
      "cell_type": "code",
      "metadata": {
        "id": "UAEeFbo63JbT",
        "colab": {
          "base_uri": "https://localhost:8080/"
        },
        "outputId": "a5d0b5a0-1ef1-46eb-ba07-b5bf467bdc2f"
      },
      "source": [
        "# apenas unidimensional\n",
        "obj = pd.Series([2,6,87,4,5])\n",
        "print(obj)"
      ],
      "execution_count": null,
      "outputs": [
        {
          "output_type": "stream",
          "name": "stdout",
          "text": [
            "0     2\n",
            "1     6\n",
            "2    87\n",
            "3     4\n",
            "4     5\n",
            "dtype: int64\n"
          ]
        }
      ]
    },
    {
      "cell_type": "code",
      "metadata": {
        "id": "Ed3km8934Cj2",
        "colab": {
          "base_uri": "https://localhost:8080/"
        },
        "outputId": "db997532-3c61-44ad-f30d-4767d0d5cb5d"
      },
      "source": [
        "#transforma ARRAY do numpy em dataframes - unidimensional\n",
        "array1 = np.array([2,3,9,8])\n",
        "print('Array', array1)\n",
        "print('Series', pd.Series(array1))\n",
        "print()\n",
        "#transforma ARRAY do numpy em dataframes - multidimensional\n",
        "array2 = np.array([(2,3,9,8),(5,8,4,7)])\n",
        "print('Array', array2)\n",
        "print('DF', pd.DataFrame(array2))\n"
      ],
      "execution_count": null,
      "outputs": [
        {
          "output_type": "stream",
          "name": "stdout",
          "text": [
            "Array [2 3 9 8]\n",
            "Series 0    2\n",
            "1    3\n",
            "2    9\n",
            "3    8\n",
            "dtype: int64\n",
            "\n",
            "Array [[2 3 9 8]\n",
            " [5 8 4 7]]\n",
            "DF    0  1  2  3\n",
            "0  2  3  9  8\n",
            "1  5  8  4  7\n"
          ]
        }
      ]
    },
    {
      "cell_type": "code",
      "metadata": {
        "colab": {
          "base_uri": "https://localhost:8080/",
          "height": 206
        },
        "id": "-VTXE4T51svI",
        "outputId": "54815f04-f38f-4032-b743-ab2d217f1bf4"
      },
      "source": [
        "alunosDIC = {\n",
        "    'Nome': ['João', 'Maria', 'Clara', 'Carlos', 'José', 'Jalal'],\n",
        "    'Nota': [4,7,6.5,9,8,6],\n",
        "    'Aprovado': ['y','y','n','y','y','y'],\n",
        "    'extra': ['2019-11-27_12-36-46_UTC','2018-11-27_12-36-46_UTC','2017-11-27_12-36-46_UTC','2016-11-27_12-36-46_UTC','2015-11-27_12-36-46_UTC','2014-11-27_12-36-46_UTC'],\n",
        "}\n",
        "alunosDF = pd.DataFrame(alunosDIC, index=alunosDIC['Nome'])\n",
        "alunosDF.head()"
      ],
      "execution_count": null,
      "outputs": [
        {
          "output_type": "execute_result",
          "data": {
            "text/html": [
              "<div>\n",
              "<style scoped>\n",
              "    .dataframe tbody tr th:only-of-type {\n",
              "        vertical-align: middle;\n",
              "    }\n",
              "\n",
              "    .dataframe tbody tr th {\n",
              "        vertical-align: top;\n",
              "    }\n",
              "\n",
              "    .dataframe thead th {\n",
              "        text-align: right;\n",
              "    }\n",
              "</style>\n",
              "<table border=\"1\" class=\"dataframe\">\n",
              "  <thead>\n",
              "    <tr style=\"text-align: right;\">\n",
              "      <th></th>\n",
              "      <th>Nome</th>\n",
              "      <th>Nota</th>\n",
              "      <th>Aprovado</th>\n",
              "      <th>extra</th>\n",
              "    </tr>\n",
              "  </thead>\n",
              "  <tbody>\n",
              "    <tr>\n",
              "      <th>João</th>\n",
              "      <td>João</td>\n",
              "      <td>4.0</td>\n",
              "      <td>y</td>\n",
              "      <td>2019-11-27_12-36-46_UTC</td>\n",
              "    </tr>\n",
              "    <tr>\n",
              "      <th>Maria</th>\n",
              "      <td>Maria</td>\n",
              "      <td>7.0</td>\n",
              "      <td>y</td>\n",
              "      <td>2018-11-27_12-36-46_UTC</td>\n",
              "    </tr>\n",
              "    <tr>\n",
              "      <th>Clara</th>\n",
              "      <td>Clara</td>\n",
              "      <td>6.5</td>\n",
              "      <td>n</td>\n",
              "      <td>2017-11-27_12-36-46_UTC</td>\n",
              "    </tr>\n",
              "    <tr>\n",
              "      <th>Carlos</th>\n",
              "      <td>Carlos</td>\n",
              "      <td>9.0</td>\n",
              "      <td>y</td>\n",
              "      <td>2016-11-27_12-36-46_UTC</td>\n",
              "    </tr>\n",
              "    <tr>\n",
              "      <th>José</th>\n",
              "      <td>José</td>\n",
              "      <td>8.0</td>\n",
              "      <td>y</td>\n",
              "      <td>2015-11-27_12-36-46_UTC</td>\n",
              "    </tr>\n",
              "  </tbody>\n",
              "</table>\n",
              "</div>"
            ],
            "text/plain": [
              "          Nome  Nota Aprovado                    extra\n",
              "João      João   4.0        y  2019-11-27_12-36-46_UTC\n",
              "Maria    Maria   7.0        y  2018-11-27_12-36-46_UTC\n",
              "Clara    Clara   6.5        n  2017-11-27_12-36-46_UTC\n",
              "Carlos  Carlos   9.0        y  2016-11-27_12-36-46_UTC\n",
              "José      José   8.0        y  2015-11-27_12-36-46_UTC"
            ]
          },
          "metadata": {},
          "execution_count": 22
        }
      ]
    },
    {
      "cell_type": "code",
      "metadata": {
        "colab": {
          "base_uri": "https://localhost:8080/",
          "height": 238
        },
        "id": "NqdnjSlkbwNC",
        "outputId": "f8c7c3b8-7c34-40fd-8ed4-e56dedf6e95d"
      },
      "source": [
        "alunosDF"
      ],
      "execution_count": null,
      "outputs": [
        {
          "output_type": "execute_result",
          "data": {
            "text/html": [
              "<div>\n",
              "<style scoped>\n",
              "    .dataframe tbody tr th:only-of-type {\n",
              "        vertical-align: middle;\n",
              "    }\n",
              "\n",
              "    .dataframe tbody tr th {\n",
              "        vertical-align: top;\n",
              "    }\n",
              "\n",
              "    .dataframe thead th {\n",
              "        text-align: right;\n",
              "    }\n",
              "</style>\n",
              "<table border=\"1\" class=\"dataframe\">\n",
              "  <thead>\n",
              "    <tr style=\"text-align: right;\">\n",
              "      <th></th>\n",
              "      <th>Nome</th>\n",
              "      <th>Nota</th>\n",
              "      <th>Aprovado</th>\n",
              "      <th>extra</th>\n",
              "    </tr>\n",
              "  </thead>\n",
              "  <tbody>\n",
              "    <tr>\n",
              "      <th>João</th>\n",
              "      <td>João</td>\n",
              "      <td>4.0</td>\n",
              "      <td>y</td>\n",
              "      <td>2019-11-27_12-36-46_UTC</td>\n",
              "    </tr>\n",
              "    <tr>\n",
              "      <th>Maria</th>\n",
              "      <td>Maria</td>\n",
              "      <td>7.0</td>\n",
              "      <td>y</td>\n",
              "      <td>2018-11-27_12-36-46_UTC</td>\n",
              "    </tr>\n",
              "    <tr>\n",
              "      <th>Clara</th>\n",
              "      <td>Clara</td>\n",
              "      <td>6.5</td>\n",
              "      <td>n</td>\n",
              "      <td>2017-11-27_12-36-46_UTC</td>\n",
              "    </tr>\n",
              "    <tr>\n",
              "      <th>Carlos</th>\n",
              "      <td>Carlos</td>\n",
              "      <td>9.0</td>\n",
              "      <td>y</td>\n",
              "      <td>2016-11-27_12-36-46_UTC</td>\n",
              "    </tr>\n",
              "    <tr>\n",
              "      <th>José</th>\n",
              "      <td>José</td>\n",
              "      <td>8.0</td>\n",
              "      <td>y</td>\n",
              "      <td>2015-11-27_12-36-46_UTC</td>\n",
              "    </tr>\n",
              "    <tr>\n",
              "      <th>Jalal</th>\n",
              "      <td>Jalal</td>\n",
              "      <td>6.0</td>\n",
              "      <td>y</td>\n",
              "      <td>2014-11-27_12-36-46_UTC</td>\n",
              "    </tr>\n",
              "  </tbody>\n",
              "</table>\n",
              "</div>"
            ],
            "text/plain": [
              "          Nome  Nota Aprovado                    extra\n",
              "João      João   4.0        y  2019-11-27_12-36-46_UTC\n",
              "Maria    Maria   7.0        y  2018-11-27_12-36-46_UTC\n",
              "Clara    Clara   6.5        n  2017-11-27_12-36-46_UTC\n",
              "Carlos  Carlos   9.0        y  2016-11-27_12-36-46_UTC\n",
              "José      José   8.0        y  2015-11-27_12-36-46_UTC\n",
              "Jalal    Jalal   6.0        y  2014-11-27_12-36-46_UTC"
            ]
          },
          "metadata": {},
          "execution_count": 19
        }
      ]
    },
    {
      "cell_type": "code",
      "metadata": {
        "colab": {
          "base_uri": "https://localhost:8080/"
        },
        "id": "ZVh5KbxScnUo",
        "outputId": "6cc43753-26df-494e-f5ba-c2a26858fdbf"
      },
      "source": [
        "# mostra todas as colunas do dataframe\n",
        "alunosDF.columns.values"
      ],
      "execution_count": null,
      "outputs": [
        {
          "output_type": "execute_result",
          "data": {
            "text/plain": [
              "array(['Nome', 'Nota', 'Aprovado', 'extra'], dtype=object)"
            ]
          },
          "metadata": {},
          "execution_count": 24
        }
      ]
    },
    {
      "cell_type": "code",
      "metadata": {
        "colab": {
          "base_uri": "https://localhost:8080/",
          "height": 206
        },
        "id": "3iK7blkNc9Fc",
        "outputId": "4a3d583c-916b-4cbc-a4d9-c14d6b93ace3"
      },
      "source": [
        "alunosDF_selecionado = alunosDF.filter(items=['Nome', 'Nota', 'Aprovado'])\n",
        "alunosDF_selecionado.head()"
      ],
      "execution_count": null,
      "outputs": [
        {
          "output_type": "execute_result",
          "data": {
            "text/html": [
              "<div>\n",
              "<style scoped>\n",
              "    .dataframe tbody tr th:only-of-type {\n",
              "        vertical-align: middle;\n",
              "    }\n",
              "\n",
              "    .dataframe tbody tr th {\n",
              "        vertical-align: top;\n",
              "    }\n",
              "\n",
              "    .dataframe thead th {\n",
              "        text-align: right;\n",
              "    }\n",
              "</style>\n",
              "<table border=\"1\" class=\"dataframe\">\n",
              "  <thead>\n",
              "    <tr style=\"text-align: right;\">\n",
              "      <th></th>\n",
              "      <th>Nome</th>\n",
              "      <th>Nota</th>\n",
              "      <th>Aprovado</th>\n",
              "    </tr>\n",
              "  </thead>\n",
              "  <tbody>\n",
              "    <tr>\n",
              "      <th>João</th>\n",
              "      <td>João</td>\n",
              "      <td>4.0</td>\n",
              "      <td>y</td>\n",
              "    </tr>\n",
              "    <tr>\n",
              "      <th>Maria</th>\n",
              "      <td>Maria</td>\n",
              "      <td>7.0</td>\n",
              "      <td>y</td>\n",
              "    </tr>\n",
              "    <tr>\n",
              "      <th>Clara</th>\n",
              "      <td>Clara</td>\n",
              "      <td>6.5</td>\n",
              "      <td>n</td>\n",
              "    </tr>\n",
              "    <tr>\n",
              "      <th>Carlos</th>\n",
              "      <td>Carlos</td>\n",
              "      <td>9.0</td>\n",
              "      <td>y</td>\n",
              "    </tr>\n",
              "    <tr>\n",
              "      <th>José</th>\n",
              "      <td>José</td>\n",
              "      <td>8.0</td>\n",
              "      <td>y</td>\n",
              "    </tr>\n",
              "  </tbody>\n",
              "</table>\n",
              "</div>"
            ],
            "text/plain": [
              "          Nome  Nota Aprovado\n",
              "João      João   4.0        y\n",
              "Maria    Maria   7.0        y\n",
              "Clara    Clara   6.5        n\n",
              "Carlos  Carlos   9.0        y\n",
              "José      José   8.0        y"
            ]
          },
          "metadata": {},
          "execution_count": 25
        }
      ]
    },
    {
      "cell_type": "code",
      "metadata": {
        "id": "Qi-ezCEi50_K",
        "colab": {
          "base_uri": "https://localhost:8080/"
        },
        "outputId": "0df17f9c-a3fe-4413-a460-b16b27fc4c75"
      },
      "source": [
        "# mostra num de linhas e num de colunas do df\n",
        "alunosDF.shape"
      ],
      "execution_count": null,
      "outputs": [
        {
          "output_type": "execute_result",
          "data": {
            "text/plain": [
              "(6, 3)"
            ]
          },
          "metadata": {},
          "execution_count": 21
        }
      ]
    },
    {
      "cell_type": "code",
      "metadata": {
        "id": "EpELIwIJ52A5",
        "colab": {
          "base_uri": "https://localhost:8080/",
          "height": 300
        },
        "outputId": "1924ce05-00ec-4c68-ea46-152d64ad4514"
      },
      "source": [
        "# mostra a distribuição dos dados - para as colunas numericas\n",
        "alunosDF.describe()"
      ],
      "execution_count": null,
      "outputs": [
        {
          "output_type": "execute_result",
          "data": {
            "text/html": [
              "<div>\n",
              "<style scoped>\n",
              "    .dataframe tbody tr th:only-of-type {\n",
              "        vertical-align: middle;\n",
              "    }\n",
              "\n",
              "    .dataframe tbody tr th {\n",
              "        vertical-align: top;\n",
              "    }\n",
              "\n",
              "    .dataframe thead th {\n",
              "        text-align: right;\n",
              "    }\n",
              "</style>\n",
              "<table border=\"1\" class=\"dataframe\">\n",
              "  <thead>\n",
              "    <tr style=\"text-align: right;\">\n",
              "      <th></th>\n",
              "      <th>Nota</th>\n",
              "    </tr>\n",
              "  </thead>\n",
              "  <tbody>\n",
              "    <tr>\n",
              "      <th>count</th>\n",
              "      <td>6.000000</td>\n",
              "    </tr>\n",
              "    <tr>\n",
              "      <th>mean</th>\n",
              "      <td>6.750000</td>\n",
              "    </tr>\n",
              "    <tr>\n",
              "      <th>std</th>\n",
              "      <td>1.724819</td>\n",
              "    </tr>\n",
              "    <tr>\n",
              "      <th>min</th>\n",
              "      <td>4.000000</td>\n",
              "    </tr>\n",
              "    <tr>\n",
              "      <th>25%</th>\n",
              "      <td>6.125000</td>\n",
              "    </tr>\n",
              "    <tr>\n",
              "      <th>50%</th>\n",
              "      <td>6.750000</td>\n",
              "    </tr>\n",
              "    <tr>\n",
              "      <th>75%</th>\n",
              "      <td>7.750000</td>\n",
              "    </tr>\n",
              "    <tr>\n",
              "      <th>max</th>\n",
              "      <td>9.000000</td>\n",
              "    </tr>\n",
              "  </tbody>\n",
              "</table>\n",
              "</div>"
            ],
            "text/plain": [
              "           Nota\n",
              "count  6.000000\n",
              "mean   6.750000\n",
              "std    1.724819\n",
              "min    4.000000\n",
              "25%    6.125000\n",
              "50%    6.750000\n",
              "75%    7.750000\n",
              "max    9.000000"
            ]
          },
          "metadata": {},
          "execution_count": 23
        }
      ]
    },
    {
      "cell_type": "code",
      "metadata": {
        "id": "lqxx1Z5g6z0_",
        "colab": {
          "base_uri": "https://localhost:8080/"
        },
        "outputId": "f6ffe5e3-82e4-482a-9b7c-86d99981ab49"
      },
      "source": [
        "# mostra uma coluna - ambos produzem a mesma saida\n",
        "print(alunosDF['Nome'])\n",
        "print(alunosDF.Nome)"
      ],
      "execution_count": null,
      "outputs": [
        {
          "output_type": "stream",
          "name": "stdout",
          "text": [
            "2019-11-27_12-36-46_UTC      João\n",
            "2018-11-27_12-36-46_UTC     Maria\n",
            "2017-11-27_12-36-46_UTC     Clara\n",
            "2016-11-27_12-36-46_UTC    Carlos\n",
            "2015-11-27_12-36-46_UTC      José\n",
            "2014-11-27_12-36-46_UTC     Jalal\n",
            "Name: Nome, dtype: object\n",
            "2019-11-27_12-36-46_UTC      João\n",
            "2018-11-27_12-36-46_UTC     Maria\n",
            "2017-11-27_12-36-46_UTC     Clara\n",
            "2016-11-27_12-36-46_UTC    Carlos\n",
            "2015-11-27_12-36-46_UTC      José\n",
            "2014-11-27_12-36-46_UTC     Jalal\n",
            "Name: Nome, dtype: object\n"
          ]
        }
      ]
    },
    {
      "cell_type": "code",
      "metadata": {
        "id": "EFvzinlQFLJJ"
      },
      "source": [
        "# criando uma coluna a partir de um dicionario\n",
        "dic = {'n': 'reprovado', 'y': 'aprovado'}\n",
        "alunosDF['extra'] = [dic[re] for re in alunosDF.Aprovado]\n",
        "alunosDF.head()"
      ],
      "execution_count": null,
      "outputs": []
    },
    {
      "cell_type": "code",
      "metadata": {
        "id": "etreXhMTIWOf"
      },
      "source": [
        "# coloquei o mesmo index para poder concatenar\n",
        "outroDIC = {\n",
        "    'Nome': ['João', 'Clara', 'Carlos', 'José', 'Jalal'],\n",
        "    'Altura': [200,180,165,175,185]\n",
        "}\n",
        "outroDF = pd.DataFrame(outroDIC, index=outroDIC['Nome'])\n",
        "outroDF.head()\n"
      ],
      "execution_count": null,
      "outputs": []
    },
    {
      "cell_type": "markdown",
      "source": [
        "### Renomear Coluna"
      ],
      "metadata": {
        "id": "BncuHqV3Et61"
      }
    },
    {
      "cell_type": "code",
      "metadata": {
        "id": "NGuPtwQu9xSx"
      },
      "source": [
        "alunosDF.rename(columns={'Nome':'name'}, inplace=True)\n",
        "print(alunosDF)\n"
      ],
      "execution_count": null,
      "outputs": []
    },
    {
      "cell_type": "markdown",
      "source": [
        "## Merge / Concat Dataframe"
      ],
      "metadata": {
        "id": "KukOFGDM22tF"
      }
    },
    {
      "cell_type": "code",
      "metadata": {
        "id": "ZiBouiRdMo6K"
      },
      "source": [
        "# https://pandas.pydata.org/docs/user_guide/merging.html\n",
        "\n",
        "result1 = pd.concat([alunosDF, outroDF], axis=1, join='outer')\n",
        "print(result1)\n",
        "print()\n",
        "result2 = pd.concat([alunosDF, outroDF], axis=1, join='inner')\n",
        "print(result2)\n"
      ],
      "execution_count": null,
      "outputs": []
    },
    {
      "cell_type": "code",
      "source": [
        "# vai colocar \"lado a lado\" os dfs usando a coluna shortcode como chave\n",
        "all = pd.merge(df1,df2,on=\"shortcode\")"
      ],
      "metadata": {
        "id": "BHxSUzbz4QAS"
      },
      "execution_count": null,
      "outputs": []
    },
    {
      "cell_type": "markdown",
      "source": [
        "## Alterar o conteudo da celula\n",
        "\n",
        "https://sparkbyexamples.com/pandas/pandas-replace-values-based-on-condition/"
      ],
      "metadata": {
        "id": "w0ecMwG6EB0R"
      }
    },
    {
      "cell_type": "code",
      "source": [
        "df.loc[(df['aux3']==0) & (df['TEXTO']!=''), 'IDIOMA'] = 'emoji'"
      ],
      "metadata": {
        "id": "qBFR3tQwEEVN"
      },
      "execution_count": null,
      "outputs": []
    },
    {
      "cell_type": "markdown",
      "source": [
        "## Procurar Vazios ou Não Vazios"
      ],
      "metadata": {
        "id": "4NfWXqgUYP7H"
      }
    },
    {
      "cell_type": "code",
      "source": [
        "# procura por linhas vazias ou nao vazias\n",
        "\n",
        "corpus[corpus['hashtag'].isnull()]\n",
        "corpus[corpus['hashtag'].notna()]"
      ],
      "metadata": {
        "id": "eRcxW9UCdq5s"
      },
      "execution_count": null,
      "outputs": []
    },
    {
      "cell_type": "markdown",
      "source": [
        "## Maneiras de Iterar"
      ],
      "metadata": {
        "id": "Eu97ahJ2uEsA"
      }
    },
    {
      "cell_type": "code",
      "source": [
        "corpus[\"nova_coluna\"] = corpus[\"text\"].apply(lambda t: unidecode(t))\n",
        "df['f1'] = df2.apply(lambda x: f1(x.precision, x.recall), axis=1)"
      ],
      "metadata": {
        "id": "zgdhvBuykgGp"
      },
      "execution_count": null,
      "outputs": []
    },
    {
      "cell_type": "code",
      "source": [
        "def arruma(linha):\n",
        "\n",
        "  country = linha.COUNTRY1\n",
        "  if country == '':\n",
        "    country = linha.COUNTRY2\n",
        "  if country == '':\n",
        "    country = linha.COUNTRY3\n",
        "\n",
        "  return country\n",
        "\n",
        "dados['COUNTRY'] = [arruma(linha) for linha in dados.itertuples()]"
      ],
      "metadata": {
        "id": "-O3l92Sqm7O7"
      },
      "execution_count": null,
      "outputs": []
    },
    {
      "cell_type": "code",
      "source": [
        "# iterar no dataframe\n",
        "for d in dados.itertuples():\n",
        "  if d.coluna=='texto':\n",
        "    bruto.append(d)"
      ],
      "metadata": {
        "id": "5NyROhceZUiH"
      },
      "execution_count": null,
      "outputs": []
    },
    {
      "cell_type": "code",
      "source": [
        "  for i, y in dfx.iterrows():\n",
        "    print(y)"
      ],
      "metadata": {
        "id": "Szfxdw4kw-gO"
      },
      "execution_count": null,
      "outputs": []
    },
    {
      "cell_type": "code",
      "source": [
        "# pega o valor ao inves do serie\n",
        "b = bruto[ (bruto['exp']==d.exp) & (bruto['balanceado']==d.balanceado) ]\n",
        "print(b.accuracy.item())"
      ],
      "metadata": {
        "id": "8wyfdQuEeCPJ"
      },
      "execution_count": null,
      "outputs": []
    },
    {
      "cell_type": "markdown",
      "source": [
        "## Datas\n",
        "\n",
        "https://www.geeksforgeeks.org/convert-the-column-type-from-string-to-datetime-format-in-pandas-dataframe/\n",
        "\n",
        "https://www.geeksforgeeks.org/how-to-convert-datetime-to-date-in-pandas/\n",
        "\n",
        "https://pandas.pydata.org/docs/reference/api/pandas.Timestamp.html"
      ],
      "metadata": {
        "id": "LGe4XW3hVpI1"
      }
    },
    {
      "cell_type": "code",
      "source": [
        "# Transformo uma coluna com timestamp em formato invalido em uma coluan com DATA\n",
        "df['DATA'] = pd.to_datetime(df['TIMESTAMP'], format='%Y-%m-%d_%H-%M-%S_UTC').dt.normalize()"
      ],
      "metadata": {
        "id": "Av3qoZngVr51"
      },
      "execution_count": null,
      "outputs": []
    },
    {
      "cell_type": "markdown",
      "source": [
        "## Aggregation"
      ],
      "metadata": {
        "id": "RtgC9eG7Ctg9"
      }
    },
    {
      "cell_type": "markdown",
      "source": [
        "Equivalente a `SELECT SUM(votos) FROM eleicao`"
      ],
      "metadata": {
        "id": "pgqRDsJUC2nt"
      }
    },
    {
      "cell_type": "code",
      "source": [
        "df['votos'].sum"
      ],
      "metadata": {
        "id": "0mgzxewDCs3J"
      },
      "execution_count": null,
      "outputs": []
    },
    {
      "cell_type": "markdown",
      "source": [
        "Equivalente a `SELECT SUM(votos), MIN(votos), MAX(votos), MEAN(votos) FROM eleicao`"
      ],
      "metadata": {
        "id": "P_uevmgUDVHf"
      }
    },
    {
      "cell_type": "code",
      "source": [
        "df['votos'].agg(['sum','min','max','mean'])"
      ],
      "metadata": {
        "id": "F9jhWQIkDKrM"
      },
      "execution_count": null,
      "outputs": []
    },
    {
      "cell_type": "markdown",
      "source": [
        "Equivalente a `SELECT SUM(votos), COUNT(candidato), MAX(votos) FROM eleicao`"
      ],
      "metadata": {
        "id": "TEnCnEOWDcG1"
      }
    },
    {
      "cell_type": "code",
      "source": [
        "df.agg({\n",
        "  votos:'sum',\n",
        "  canditato:'count',\n",
        "  votos: 'max'\n",
        "})"
      ],
      "metadata": {
        "id": "nCzNGhVHEypt"
      },
      "execution_count": null,
      "outputs": []
    },
    {
      "cell_type": "markdown",
      "source": [
        "Equivalente a `SELECT canditato, SUM(votos) FROM eleicao GROUP BY candidato`"
      ],
      "metadata": {
        "id": "U8RwCt5oDzMF"
      }
    },
    {
      "cell_type": "code",
      "source": [
        "df.groupby('canditado')['votos'].sum()"
      ],
      "metadata": {
        "id": "_pAkzxGgFowL"
      },
      "execution_count": null,
      "outputs": []
    },
    {
      "cell_type": "markdown",
      "source": [
        "## Group by\n",
        "\n",
        "https://pandas.pydata.org/docs/reference/api/pandas.DataFrame.groupby.html\n",
        "\n",
        "https://sparkbyexamples.com/pandas/pandas-groupby-count-examples/\n"
      ],
      "metadata": {
        "id": "3SQwoeUCxxdW"
      }
    },
    {
      "cell_type": "code",
      "source": [
        "df.groupby(['Animal'])"
      ],
      "metadata": {
        "id": "0tif84gRx0Q-",
        "outputId": "453505d7-db8c-402f-f13b-5ffb85dec7e2",
        "colab": {
          "base_uri": "https://localhost:8080/",
          "height": 539
        }
      },
      "execution_count": null,
      "outputs": [
        {
          "output_type": "error",
          "ename": "NameError",
          "evalue": "ignored",
          "traceback": [
            "\u001b[0;31m---------------------------------------------------------------------------\u001b[0m",
            "\u001b[0;31mNameError\u001b[0m                                 Traceback (most recent call last)",
            "\u001b[0;32m<ipython-input-1-a5babebea9d6>\u001b[0m in \u001b[0;36m<cell line: 1>\u001b[0;34m()\u001b[0m\n\u001b[0;32m----> 1\u001b[0;31m \u001b[0mdf\u001b[0m\u001b[0;34m.\u001b[0m\u001b[0mgroupby\u001b[0m\u001b[0;34m(\u001b[0m\u001b[0;34m[\u001b[0m\u001b[0;34m'Animal'\u001b[0m\u001b[0;34m]\u001b[0m\u001b[0;34m)\u001b[0m\u001b[0;34m\u001b[0m\u001b[0;34m\u001b[0m\u001b[0m\n\u001b[0m",
            "\u001b[0;31mNameError\u001b[0m: name 'df' is not defined"
          ]
        }
      ]
    },
    {
      "cell_type": "code",
      "source": [
        "df.groupby(['shortcodea','distancia']).count().sort_values(by=['shortcodea'])"
      ],
      "metadata": {
        "id": "Zt-llXUGotBj"
      },
      "execution_count": null,
      "outputs": []
    },
    {
      "cell_type": "code",
      "source": [
        "# Pega linha com maior valor\n",
        "# shortcodea é a coluna que contem a qtde\n",
        "# ordena por essa coluna\n",
        "df.filter(items=['rotulob','motivob','shortcodea']\n",
        "           ).groupby(['rotulob','motivob']\n",
        "                     ).count().sort_values(\"shortcodea\").tail(1)"
      ],
      "metadata": {
        "id": "ysOpz_r7P9HG"
      },
      "execution_count": null,
      "outputs": []
    },
    {
      "cell_type": "code",
      "source": [
        "# Pega o maior valor\n",
        "# A diferença para o de cima é que essa retorna apenas um inteiro\n",
        "df.filter(items=['rotulob','motivob','shortcodea']).groupby(['rotulob','motivob']).count().max().item()"
      ],
      "metadata": {
        "id": "H1ur9KFiRB3m"
      },
      "execution_count": null,
      "outputs": []
    },
    {
      "cell_type": "markdown",
      "source": [
        "O jeito certo de agrupar usando datetime é usar **resample**\n",
        "\n",
        "https://pandas.pydata.org/pandas-docs/stable/reference/api/pandas.DataFrame.resample.html"
      ],
      "metadata": {
        "id": "Tx3qJStK-WMW"
      }
    },
    {
      "cell_type": "code",
      "source": [
        "# nesse exemplo agrupo a coluna DATA (que tem dados tipo date) por mês rule=M\n",
        "dfd.resample(rule='M', on='DATA').count()"
      ],
      "metadata": {
        "colab": {
          "base_uri": "https://localhost:8080/",
          "height": 175
        },
        "id": "JdlrYvrr8hI1",
        "outputId": "cca95515-39e0-4f8b-bf29-689da0b0c434"
      },
      "execution_count": null,
      "outputs": [
        {
          "output_type": "execute_result",
          "data": {
            "text/plain": [
              "            DATA\n",
              "DATA            \n",
              "2013-12-31     1\n",
              "2014-01-31     1\n",
              "2014-02-28     1"
            ],
            "text/html": [
              "\n",
              "  <div id=\"df-bfc68e77-d6f1-4d2f-82e8-43b0125ddeca\">\n",
              "    <div class=\"colab-df-container\">\n",
              "      <div>\n",
              "<style scoped>\n",
              "    .dataframe tbody tr th:only-of-type {\n",
              "        vertical-align: middle;\n",
              "    }\n",
              "\n",
              "    .dataframe tbody tr th {\n",
              "        vertical-align: top;\n",
              "    }\n",
              "\n",
              "    .dataframe thead th {\n",
              "        text-align: right;\n",
              "    }\n",
              "</style>\n",
              "<table border=\"1\" class=\"dataframe\">\n",
              "  <thead>\n",
              "    <tr style=\"text-align: right;\">\n",
              "      <th></th>\n",
              "      <th>DATA</th>\n",
              "    </tr>\n",
              "    <tr>\n",
              "      <th>DATA</th>\n",
              "      <th></th>\n",
              "    </tr>\n",
              "  </thead>\n",
              "  <tbody>\n",
              "    <tr>\n",
              "      <th>2013-12-31</th>\n",
              "      <td>1</td>\n",
              "    </tr>\n",
              "    <tr>\n",
              "      <th>2014-01-31</th>\n",
              "      <td>1</td>\n",
              "    </tr>\n",
              "    <tr>\n",
              "      <th>2014-02-28</th>\n",
              "      <td>1</td>\n",
              "    </tr>\n",
              "  </tbody>\n",
              "</table>\n",
              "</div>\n",
              "      <button class=\"colab-df-convert\" onclick=\"convertToInteractive('df-bfc68e77-d6f1-4d2f-82e8-43b0125ddeca')\"\n",
              "              title=\"Convert this dataframe to an interactive table.\"\n",
              "              style=\"display:none;\">\n",
              "        \n",
              "  <svg xmlns=\"http://www.w3.org/2000/svg\" height=\"24px\"viewBox=\"0 0 24 24\"\n",
              "       width=\"24px\">\n",
              "    <path d=\"M0 0h24v24H0V0z\" fill=\"none\"/>\n",
              "    <path d=\"M18.56 5.44l.94 2.06.94-2.06 2.06-.94-2.06-.94-.94-2.06-.94 2.06-2.06.94zm-11 1L8.5 8.5l.94-2.06 2.06-.94-2.06-.94L8.5 2.5l-.94 2.06-2.06.94zm10 10l.94 2.06.94-2.06 2.06-.94-2.06-.94-.94-2.06-.94 2.06-2.06.94z\"/><path d=\"M17.41 7.96l-1.37-1.37c-.4-.4-.92-.59-1.43-.59-.52 0-1.04.2-1.43.59L10.3 9.45l-7.72 7.72c-.78.78-.78 2.05 0 2.83L4 21.41c.39.39.9.59 1.41.59.51 0 1.02-.2 1.41-.59l7.78-7.78 2.81-2.81c.8-.78.8-2.07 0-2.86zM5.41 20L4 18.59l7.72-7.72 1.47 1.35L5.41 20z\"/>\n",
              "  </svg>\n",
              "      </button>\n",
              "      \n",
              "  <style>\n",
              "    .colab-df-container {\n",
              "      display:flex;\n",
              "      flex-wrap:wrap;\n",
              "      gap: 12px;\n",
              "    }\n",
              "\n",
              "    .colab-df-convert {\n",
              "      background-color: #E8F0FE;\n",
              "      border: none;\n",
              "      border-radius: 50%;\n",
              "      cursor: pointer;\n",
              "      display: none;\n",
              "      fill: #1967D2;\n",
              "      height: 32px;\n",
              "      padding: 0 0 0 0;\n",
              "      width: 32px;\n",
              "    }\n",
              "\n",
              "    .colab-df-convert:hover {\n",
              "      background-color: #E2EBFA;\n",
              "      box-shadow: 0px 1px 2px rgba(60, 64, 67, 0.3), 0px 1px 3px 1px rgba(60, 64, 67, 0.15);\n",
              "      fill: #174EA6;\n",
              "    }\n",
              "\n",
              "    [theme=dark] .colab-df-convert {\n",
              "      background-color: #3B4455;\n",
              "      fill: #D2E3FC;\n",
              "    }\n",
              "\n",
              "    [theme=dark] .colab-df-convert:hover {\n",
              "      background-color: #434B5C;\n",
              "      box-shadow: 0px 1px 3px 1px rgba(0, 0, 0, 0.15);\n",
              "      filter: drop-shadow(0px 1px 2px rgba(0, 0, 0, 0.3));\n",
              "      fill: #FFFFFF;\n",
              "    }\n",
              "  </style>\n",
              "\n",
              "      <script>\n",
              "        const buttonEl =\n",
              "          document.querySelector('#df-bfc68e77-d6f1-4d2f-82e8-43b0125ddeca button.colab-df-convert');\n",
              "        buttonEl.style.display =\n",
              "          google.colab.kernel.accessAllowed ? 'block' : 'none';\n",
              "\n",
              "        async function convertToInteractive(key) {\n",
              "          const element = document.querySelector('#df-bfc68e77-d6f1-4d2f-82e8-43b0125ddeca');\n",
              "          const dataTable =\n",
              "            await google.colab.kernel.invokeFunction('convertToInteractive',\n",
              "                                                     [key], {});\n",
              "          if (!dataTable) return;\n",
              "\n",
              "          const docLinkHtml = 'Like what you see? Visit the ' +\n",
              "            '<a target=\"_blank\" href=https://colab.research.google.com/notebooks/data_table.ipynb>data table notebook</a>'\n",
              "            + ' to learn more about interactive tables.';\n",
              "          element.innerHTML = '';\n",
              "          dataTable['output_type'] = 'display_data';\n",
              "          await google.colab.output.renderOutput(dataTable, element);\n",
              "          const docLink = document.createElement('div');\n",
              "          docLink.innerHTML = docLinkHtml;\n",
              "          element.appendChild(docLink);\n",
              "        }\n",
              "      </script>\n",
              "    </div>\n",
              "  </div>\n",
              "  "
            ]
          },
          "metadata": {},
          "execution_count": 141
        }
      ]
    },
    {
      "cell_type": "code",
      "source": [
        "# Nesse exemplo pego o min e max da coluna DATA\n",
        "dfe['DATA'].agg(['min', 'max'])"
      ],
      "metadata": {
        "colab": {
          "base_uri": "https://localhost:8080/"
        },
        "id": "LhilvTQAQ9AV",
        "outputId": "b2b4e056-e6f8-4dee-888a-427453173554"
      },
      "execution_count": null,
      "outputs": [
        {
          "output_type": "execute_result",
          "data": {
            "text/plain": [
              "min   2012-08-11\n",
              "max   2021-12-30\n",
              "Name: DATA, dtype: datetime64[ns]"
            ]
          },
          "metadata": {},
          "execution_count": 142
        }
      ]
    },
    {
      "cell_type": "code",
      "source": [
        "# Nesse exemplo pego o min e max da coluna data agrupado por BASE\n",
        "# https://www.geeksforgeeks.org/max-and-min-date-in-pandas-groupby/\n",
        "dfe.filter(items=['BASE','DATA']).groupby(['BASE']).agg(Minimum_Date=('DATA', np.min), Maximum_Date=('DATA', np.max))"
      ],
      "metadata": {
        "colab": {
          "base_uri": "https://localhost:8080/",
          "height": 206
        },
        "id": "PcNr0t55Fwr3",
        "outputId": "05e2c3c5-615f-44db-e4e6-ec5115bb2137"
      },
      "execution_count": null,
      "outputs": [
        {
          "output_type": "execute_result",
          "data": {
            "text/plain": [
              "                   Minimum_Date Maximum_Date\n",
              "BASE                                        \n",
              "aguaviva             2021-08-04   2021-12-30\n",
              "caravelaportuguesa   2012-08-11   2021-05-08\n",
              "cnidario             2013-04-25   2021-05-18\n",
              "physaliaphysalis     2021-06-12   2021-12-26"
            ],
            "text/html": [
              "\n",
              "  <div id=\"df-87eb48ca-8a2a-4628-bcb6-973a66e47c68\">\n",
              "    <div class=\"colab-df-container\">\n",
              "      <div>\n",
              "<style scoped>\n",
              "    .dataframe tbody tr th:only-of-type {\n",
              "        vertical-align: middle;\n",
              "    }\n",
              "\n",
              "    .dataframe tbody tr th {\n",
              "        vertical-align: top;\n",
              "    }\n",
              "\n",
              "    .dataframe thead th {\n",
              "        text-align: right;\n",
              "    }\n",
              "</style>\n",
              "<table border=\"1\" class=\"dataframe\">\n",
              "  <thead>\n",
              "    <tr style=\"text-align: right;\">\n",
              "      <th></th>\n",
              "      <th>Minimum_Date</th>\n",
              "      <th>Maximum_Date</th>\n",
              "    </tr>\n",
              "    <tr>\n",
              "      <th>BASE</th>\n",
              "      <th></th>\n",
              "      <th></th>\n",
              "    </tr>\n",
              "  </thead>\n",
              "  <tbody>\n",
              "    <tr>\n",
              "      <th>aguaviva</th>\n",
              "      <td>2021-08-04</td>\n",
              "      <td>2021-12-30</td>\n",
              "    </tr>\n",
              "    <tr>\n",
              "      <th>caravelaportuguesa</th>\n",
              "      <td>2012-08-11</td>\n",
              "      <td>2021-05-08</td>\n",
              "    </tr>\n",
              "    <tr>\n",
              "      <th>cnidario</th>\n",
              "      <td>2013-04-25</td>\n",
              "      <td>2021-05-18</td>\n",
              "    </tr>\n",
              "    <tr>\n",
              "      <th>physaliaphysalis</th>\n",
              "      <td>2021-06-12</td>\n",
              "      <td>2021-12-26</td>\n",
              "    </tr>\n",
              "  </tbody>\n",
              "</table>\n",
              "</div>\n",
              "      <button class=\"colab-df-convert\" onclick=\"convertToInteractive('df-87eb48ca-8a2a-4628-bcb6-973a66e47c68')\"\n",
              "              title=\"Convert this dataframe to an interactive table.\"\n",
              "              style=\"display:none;\">\n",
              "        \n",
              "  <svg xmlns=\"http://www.w3.org/2000/svg\" height=\"24px\"viewBox=\"0 0 24 24\"\n",
              "       width=\"24px\">\n",
              "    <path d=\"M0 0h24v24H0V0z\" fill=\"none\"/>\n",
              "    <path d=\"M18.56 5.44l.94 2.06.94-2.06 2.06-.94-2.06-.94-.94-2.06-.94 2.06-2.06.94zm-11 1L8.5 8.5l.94-2.06 2.06-.94-2.06-.94L8.5 2.5l-.94 2.06-2.06.94zm10 10l.94 2.06.94-2.06 2.06-.94-2.06-.94-.94-2.06-.94 2.06-2.06.94z\"/><path d=\"M17.41 7.96l-1.37-1.37c-.4-.4-.92-.59-1.43-.59-.52 0-1.04.2-1.43.59L10.3 9.45l-7.72 7.72c-.78.78-.78 2.05 0 2.83L4 21.41c.39.39.9.59 1.41.59.51 0 1.02-.2 1.41-.59l7.78-7.78 2.81-2.81c.8-.78.8-2.07 0-2.86zM5.41 20L4 18.59l7.72-7.72 1.47 1.35L5.41 20z\"/>\n",
              "  </svg>\n",
              "      </button>\n",
              "      \n",
              "  <style>\n",
              "    .colab-df-container {\n",
              "      display:flex;\n",
              "      flex-wrap:wrap;\n",
              "      gap: 12px;\n",
              "    }\n",
              "\n",
              "    .colab-df-convert {\n",
              "      background-color: #E8F0FE;\n",
              "      border: none;\n",
              "      border-radius: 50%;\n",
              "      cursor: pointer;\n",
              "      display: none;\n",
              "      fill: #1967D2;\n",
              "      height: 32px;\n",
              "      padding: 0 0 0 0;\n",
              "      width: 32px;\n",
              "    }\n",
              "\n",
              "    .colab-df-convert:hover {\n",
              "      background-color: #E2EBFA;\n",
              "      box-shadow: 0px 1px 2px rgba(60, 64, 67, 0.3), 0px 1px 3px 1px rgba(60, 64, 67, 0.15);\n",
              "      fill: #174EA6;\n",
              "    }\n",
              "\n",
              "    [theme=dark] .colab-df-convert {\n",
              "      background-color: #3B4455;\n",
              "      fill: #D2E3FC;\n",
              "    }\n",
              "\n",
              "    [theme=dark] .colab-df-convert:hover {\n",
              "      background-color: #434B5C;\n",
              "      box-shadow: 0px 1px 3px 1px rgba(0, 0, 0, 0.15);\n",
              "      filter: drop-shadow(0px 1px 2px rgba(0, 0, 0, 0.3));\n",
              "      fill: #FFFFFF;\n",
              "    }\n",
              "  </style>\n",
              "\n",
              "      <script>\n",
              "        const buttonEl =\n",
              "          document.querySelector('#df-87eb48ca-8a2a-4628-bcb6-973a66e47c68 button.colab-df-convert');\n",
              "        buttonEl.style.display =\n",
              "          google.colab.kernel.accessAllowed ? 'block' : 'none';\n",
              "\n",
              "        async function convertToInteractive(key) {\n",
              "          const element = document.querySelector('#df-87eb48ca-8a2a-4628-bcb6-973a66e47c68');\n",
              "          const dataTable =\n",
              "            await google.colab.kernel.invokeFunction('convertToInteractive',\n",
              "                                                     [key], {});\n",
              "          if (!dataTable) return;\n",
              "\n",
              "          const docLinkHtml = 'Like what you see? Visit the ' +\n",
              "            '<a target=\"_blank\" href=https://colab.research.google.com/notebooks/data_table.ipynb>data table notebook</a>'\n",
              "            + ' to learn more about interactive tables.';\n",
              "          element.innerHTML = '';\n",
              "          dataTable['output_type'] = 'display_data';\n",
              "          await google.colab.output.renderOutput(dataTable, element);\n",
              "          const docLink = document.createElement('div');\n",
              "          docLink.innerHTML = docLinkHtml;\n",
              "          element.appendChild(docLink);\n",
              "        }\n",
              "      </script>\n",
              "    </div>\n",
              "  </div>\n",
              "  "
            ]
          },
          "metadata": {},
          "execution_count": 146
        }
      ]
    },
    {
      "cell_type": "markdown",
      "source": [
        "## Order by = sort_values\n",
        "\n",
        "https://pandas.pydata.org/docs/reference/api/pandas.DataFrame.sort_values.html"
      ],
      "metadata": {
        "id": "cNB4FNdZuKJV"
      }
    },
    {
      "cell_type": "code",
      "source": [
        "df.sort_values(by=['col1', 'col2'], ascending=True)"
      ],
      "metadata": {
        "id": "yhch-UGguN8G"
      },
      "execution_count": null,
      "outputs": []
    },
    {
      "cell_type": "markdown",
      "source": [
        "## Comando LOC"
      ],
      "metadata": {
        "id": "N4049OV7tPc2"
      }
    },
    {
      "cell_type": "code",
      "metadata": {
        "id": "dn4DrNuu7fM3"
      },
      "source": [
        "# usando comandao loc\n",
        "\n",
        "print('Linha 0')\n",
        "print(alunosDF.loc[[0]])\n",
        "\n",
        "print('\\nLinhas 1 e 2')\n",
        "print(alunosDF.loc[[1,2]])\n",
        "\n",
        "print('\\nLinhas 2 a 4')\n",
        "print(alunosDF.loc[2:4])\n",
        "\n",
        "print('\\nLinhas que contém Jalal na coluna Nome')\n",
        "print(alunosDF.loc[alunosDF['Nome']=='Jalal'])\n",
        "\n",
        "print('\\nLinhas que contém Nota >= 7')\n",
        "print(alunosDF.loc[alunosDF['Nota']>=7])\n",
        "\n",
        "print('\\nLinhas que contém Nota entre 5 e 7')\n",
        "print(alunosDF.loc[ (alunosDF['Nota']>=5) & (alunosDF['Nota']<=7) ])"
      ],
      "execution_count": null,
      "outputs": []
    },
    {
      "cell_type": "markdown",
      "source": [
        "## Checar se uma coluna tem um valor\n",
        "\n"
      ],
      "metadata": {
        "id": "4eZAIz9LrikO"
      }
    },
    {
      "cell_type": "code",
      "source": [
        "# se te o conteudo exato\n",
        "if (dfs['shortcodeb'].eq('0bRjedvm5r')).any():\n",
        "  print('tem')"
      ],
      "metadata": {
        "id": "qIwWlI9WroUI"
      },
      "execution_count": null,
      "outputs": []
    },
    {
      "cell_type": "code",
      "source": [
        "# se tem parte do conteudo\n",
        "df['texto'].str.contains('#caravelaportuguesa').any()"
      ],
      "metadata": {
        "id": "YyeJ-L8dsKqO"
      },
      "execution_count": null,
      "outputs": []
    },
    {
      "cell_type": "code",
      "source": [
        "# conta qtas ocorrencias desse conteudo\n",
        "df['texto'].str.contains('#caravelaportuguesa').sum()"
      ],
      "metadata": {
        "id": "Yp5moDlxsOVB"
      },
      "execution_count": null,
      "outputs": []
    },
    {
      "cell_type": "code",
      "source": [
        "# filtra pelo valor buscado\n",
        "corpus[corpus['texto'].str.contains(\"#caravelaportuguesa\")]"
      ],
      "metadata": {
        "id": "UKYHcEXNsjUk"
      },
      "execution_count": null,
      "outputs": []
    },
    {
      "cell_type": "code",
      "source": [
        "# filtra pelo valor buscado usando RE\n",
        "corpus.loc[(corpus['text'].str.contains('portugal', regex=True, flags=re.IGNORECASE)==True)]"
      ],
      "metadata": {
        "id": "X6fJQq04s2xO"
      },
      "execution_count": null,
      "outputs": []
    },
    {
      "cell_type": "code",
      "source": [
        "# se a coluna texto NAO contém #caravelaportuguesa\n",
        "df[ ~df['texto'].str.contains('#caravelaportuguesa')]"
      ],
      "metadata": {
        "id": "RPjz8wlI3dmq"
      },
      "execution_count": null,
      "outputs": []
    },
    {
      "cell_type": "code",
      "source": [
        "# https://stackoverflow.com/questions/12096252/use-a-list-of-values-to-select-rows-from-a-pandas-dataframe\n",
        "# tem outros jeitos\n",
        "\n",
        "# Se o valor esta na lista\n",
        "df[df['A'].isin([3, 6])]\n",
        "\n",
        "# Se o valor não esta na lista\n",
        "df[~df['A'].isin([3, 6])]"
      ],
      "metadata": {
        "id": "vgPyK0YFKYr6"
      },
      "execution_count": null,
      "outputs": []
    },
    {
      "cell_type": "markdown",
      "source": [
        "## Excluir colunas e linhas"
      ],
      "metadata": {
        "id": "ldjFqe6Vjuh6"
      }
    },
    {
      "cell_type": "code",
      "metadata": {
        "id": "CSbH4mYDCkbE"
      },
      "source": [
        "# exclui uma coluna do df\n",
        "alunosDF.drop('extra', axis=1, inplace=True)\n",
        "alunosDF.head()"
      ],
      "execution_count": null,
      "outputs": []
    },
    {
      "cell_type": "code",
      "metadata": {
        "id": "wvGgp-Bre46R"
      },
      "source": [
        "# exclui uma linha pelo index\n",
        "df_rar.drop(index='2018-11-06_10-30-37_UTC (1)', inplace=True)"
      ],
      "execution_count": null,
      "outputs": []
    },
    {
      "cell_type": "code",
      "source": [
        "# exclui linhas por uma condição\n",
        "corpus.drop(corpus[corpus['class']=='ACIDENTE'].index, inplace=True)"
      ],
      "metadata": {
        "id": "OygUsPVEEfiD"
      },
      "execution_count": null,
      "outputs": []
    },
    {
      "cell_type": "markdown",
      "source": [
        "## Adicionar linha no Dataframe\n",
        "\n",
        "Exixtem outros jeitos"
      ],
      "metadata": {
        "id": "3y1NwY7c1k4l"
      }
    },
    {
      "cell_type": "code",
      "source": [
        "# esse jeito é deprecisado\n",
        "novo = pd.DataFrame(columns=['SHORTCODE','ROTULO_BINARIO_LORENA','MOTIVO_LORENA','P-MIDIA','P-ESPACIAL','REPETE'])\n",
        "novo = novo.append({'SHORTCODE': row.SHORTCODE,'ROTULO_BINARIO_LORENA': None,\n",
        "                        'MOTIVO_LORENA': None,'P-MIDIA': None,'P-ESPACIAL': None,\n",
        "                        'REPETE': False}, ignore_index=True)"
      ],
      "metadata": {
        "id": "VJVg74T21pti"
      },
      "execution_count": null,
      "outputs": []
    },
    {
      "cell_type": "code",
      "source": [
        "# Jeito correto\n",
        "lista = []\n",
        "lista.append({'distancia':distancia, 'shortcodea':rowa.shortcode})\n",
        "df = pd.DataFrame.from_records(lista, columns=['distancia', 'shortcodea'])"
      ],
      "metadata": {
        "id": "umYVpeee7Gyx"
      },
      "execution_count": null,
      "outputs": []
    },
    {
      "cell_type": "markdown",
      "source": [
        "## Tranformar um Dataframe em Dicionário"
      ],
      "metadata": {
        "id": "DNt4XNyp1v29"
      }
    },
    {
      "cell_type": "code",
      "source": [
        "df.to_dict(orient='records')"
      ],
      "metadata": {
        "id": "V4CmpkJ_14YD"
      },
      "execution_count": null,
      "outputs": []
    },
    {
      "cell_type": "markdown",
      "source": [
        "## Join"
      ],
      "metadata": {
        "id": "5cViPQ8t_lqW"
      }
    },
    {
      "cell_type": "code",
      "source": [
        "', '.join(df['shortcodeb']"
      ],
      "metadata": {
        "id": "jqoPFCnu_uJe"
      },
      "execution_count": null,
      "outputs": []
    },
    {
      "cell_type": "markdown",
      "source": [
        "# Criar Dataframe usando uma string"
      ],
      "metadata": {
        "id": "BmlLTyd6ZKX1"
      }
    },
    {
      "cell_type": "code",
      "source": [
        "s = \"\"\"id       shortcode     proba\n",
        "77   CXliXRNL9cN  0.987054\n",
        "96   CXgR0V4r1Xe  0.999926\n",
        "915  CHGOHpLAZ2L  0.999999\n",
        "930  B9KWycDAS0C  0.998301\"\"\""
      ],
      "metadata": {
        "id": "STJ4gMPrZO66"
      },
      "execution_count": null,
      "outputs": []
    },
    {
      "cell_type": "code",
      "source": [
        "from io import StringIO\n",
        "proba = pd.read_csv(StringIO(s), sep=r'\\s+')\n",
        "proba.info()"
      ],
      "metadata": {
        "colab": {
          "base_uri": "https://localhost:8080/"
        },
        "id": "fFYbljgoZTl9",
        "outputId": "0a297751-f49d-41c0-e3b0-8215f8f5fb59"
      },
      "execution_count": null,
      "outputs": [
        {
          "output_type": "stream",
          "name": "stdout",
          "text": [
            "<class 'pandas.core.frame.DataFrame'>\n",
            "RangeIndex: 4 entries, 0 to 3\n",
            "Data columns (total 3 columns):\n",
            " #   Column     Non-Null Count  Dtype  \n",
            "---  ------     --------------  -----  \n",
            " 0   id         4 non-null      int64  \n",
            " 1   shortcode  4 non-null      object \n",
            " 2   proba      4 non-null      float64\n",
            "dtypes: float64(1), int64(1), object(1)\n",
            "memory usage: 224.0+ bytes\n"
          ]
        }
      ]
    },
    {
      "cell_type": "markdown",
      "source": [
        "# Reindex"
      ],
      "metadata": {
        "id": "jL926oLdA7J_"
      }
    },
    {
      "cell_type": "code",
      "source": [
        "dfs.reset_index(inplace=True, drop=True)"
      ],
      "metadata": {
        "id": "bpq7Zse1A8hE"
      },
      "execution_count": null,
      "outputs": []
    }
  ]
}